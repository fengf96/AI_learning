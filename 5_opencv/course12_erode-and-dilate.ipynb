{
  "cells": [
    {
      "cell_type": "markdown",
      "metadata": {
        "collapsed": true,
        "pycharm": {
          "name": "#%% md\n"
        }
      },
      "source": "# 目标\n- 了解形态学操作的概念\n- 学习膨胀、腐蚀、开运算和闭运算等形态学操作\n- OpenCV函数：cv2.erode(), cv2.dilate(), cv2.morphologyEx()\n\n# 教程\n## 啥叫形态学操作\n形态学操作其实就是改变物体的形状，比如腐蚀就是”变瘦”，膨胀就是”变胖”，看下图就明白了：\n![](http://blog.codec.wang/cv2_understand_morphological.jpg)\n\n经验之谈：形态学操作一般作用于二值化图，来连接相邻的元素或分离成独立的元素。腐蚀和膨胀是针对图片中的白色部分\n\n## 腐蚀\n腐蚀的效果是把图片”变瘦”，其原理是在原图的小区域内取局部最小值。因为是二值化图，只有0和255，所以小区域内有一个是0该像素点就为0：\n![](http://blog.codec.wang/cv2_understand_erosion.jpg)\n这样原图中边缘地方就会变成0，达到了瘦身目的（小胖福利(●ˇ∀ˇ●)）\n\nOpenCV中用cv2.erode()函数进行腐蚀，只需要指定核的大小就行："
    },
    {
      "cell_type": "code",
      "execution_count": 2,
      "outputs": [
        {
          "data": {
            "text/plain": "-1"
          },
          "metadata": {},
          "output_type": "execute_result",
          "execution_count": 2
        }
      ],
      "source": "import cv2\nimport numpy as np\n\nimg \u003d cv2.imread(\u0027j.bmp\u0027, 0)\nkernel \u003d np.ones((5, 5), np.uint8)\nerosion \u003d cv2.erode(img, kernel)\ncv2.imshow(\u0027erosin\u0027, np.hstack((img, erosion)))\ncv2.waitKey(0)",
      "metadata": {
        "pycharm": {
          "metadata": false,
          "name": "#%%\n",
          "is_executing": false
        }
      }
    },
    {
      "cell_type": "markdown",
      "source": "这个核也叫结构元素，因为形态学操作其实也是应用卷积来实现的。结构元素可以是矩形/椭圆/十字形，可以用cv2.getStructuringElement()来生成不同形状的结构元素，比如：",
      "metadata": {
        "pycharm": {
          "metadata": false
        }
      }
    },
    {
      "cell_type": "code",
      "execution_count": null,
      "outputs": [],
      "source": "kernel \u003d cv2.getStructuringElement(cv2.MORPH_RECT, (5, 5))  # 矩形结构\nkernel \u003d cv2.getStructuringElement(cv2.MORPH_ELLIPSE, (5, 5))  # 椭圆结构\nkernel \u003d cv2.getStructuringElement(cv2.MORPH_CROSS, (5, 5))  # 十字形结构",
      "metadata": {
        "pycharm": {
          "metadata": false,
          "name": "#%%\n"
        }
      }
    },
    {
      "cell_type": "markdown",
      "source": "![](http://blog.codec.wang/cv2_morphological_struct_element.jpg)\n\n## 膨胀\n膨胀与腐蚀相反，取的是局部最大值，效果是把图片”变胖”：",
      "metadata": {
        "pycharm": {
          "metadata": false
        }
      }
    },
    {
      "cell_type": "code",
      "execution_count": 5,
      "outputs": [
        {
          "data": {
            "text/plain": "-1"
          },
          "metadata": {},
          "output_type": "execute_result",
          "execution_count": 5
        }
      ],
      "source": "dilation \u003d cv2.dilate(img, kernel)  # 膨胀\ncv2.imshow(\u0027dilation\u0027, np.hstack((img, erosion, dilation)))\ncv2.waitKey(0)",
      "metadata": {
        "pycharm": {
          "metadata": false,
          "name": "#%%\n",
          "is_executing": false
        }
      }
    },
    {
      "cell_type": "markdown",
      "source": "## 开/闭运算\n先腐蚀后膨胀叫开运算（因为先腐蚀会分开物体，这样容易记住），其作用是：分离物体，消除小区域。这类形态学操作用cv2.morphologyEx()函数实现：",
      "metadata": {
        "pycharm": {
          "metadata": false
        }
      }
    },
    {
      "cell_type": "code",
      "execution_count": 6,
      "outputs": [
        {
          "data": {
            "text/plain": "-1"
          },
          "metadata": {},
          "output_type": "execute_result",
          "execution_count": 6
        }
      ],
      "source": "kernel \u003d cv2.getStructuringElement(cv2.MORPH_RECT, (5, 5))\n\nimg \u003d cv2.imread(\u0027j_noise_out.bmp\u0027, 0)\nopening \u003d cv2.morphologyEx(img, cv2.MORPH_OPEN, kernel)\ncv2.imshow(\u0027opening\u0027, np.hstack((img, opening)))\ncv2.waitKey(0)",
      "metadata": {
        "pycharm": {
          "metadata": false,
          "name": "#%%\n",
          "is_executing": false
        }
      }
    },
    {
      "cell_type": "markdown",
      "source": "闭运算则相反：先膨胀后腐蚀（先膨胀会使白色的部分扩张，以至于消除/“闭合”物体里面的小黑洞，所以叫闭运算）",
      "metadata": {
        "pycharm": {
          "metadata": false
        }
      }
    },
    {
      "cell_type": "code",
      "execution_count": 8,
      "outputs": [
        {
          "data": {
            "text/plain": "-1"
          },
          "metadata": {},
          "output_type": "execute_result",
          "execution_count": 8
        }
      ],
      "source": "img \u003d cv2.imread(\u0027j_noise_in.bmp\u0027, 0)\nclosing \u003d cv2.morphologyEx(img, cv2.MORPH_CLOSE, kernel)\ncv2.imshow(\u0027closing\u0027, np.hstack((img, closing)))\ncv2.waitKey(0)",
      "metadata": {
        "pycharm": {
          "metadata": false,
          "name": "#%%\n",
          "is_executing": false
        }
      }
    },
    {
      "cell_type": "markdown",
      "source": "![](http://blog.codec.wang/cv2_morphological_opening_closing.jpg)\n\n经验之谈：很多人对开闭运算的作用不是很清楚（好吧，其实是比较容易混◑﹏◐），但看上图↑，不用怕：如果我们的目标物体外面有很多无关的小区域，就用开运算去除掉；如果物体内部有很多小黑洞，就用闭运算填充掉。\n\n接下来的3种形态学操作并不常用，大家有兴趣可以看看（因为较短，没有做成番外篇）：\n## 其他形态学操作\n- 形态学梯度：膨胀图减去腐蚀图，dilation - erosion，这样会得到物体的轮廓：",
      "metadata": {
        "pycharm": {
          "metadata": false
        }
      }
    },
    {
      "cell_type": "code",
      "execution_count": 9,
      "outputs": [
        {
          "data": {
            "text/plain": "-1"
          },
          "metadata": {},
          "output_type": "execute_result",
          "execution_count": 9
        }
      ],
      "source": "img \u003d cv2.imread(\u0027school.bmp\u0027, 0)\ngradient \u003d cv2.morphologyEx(img, cv2.MORPH_GRADIENT, kernel)\ncv2.imshow(\u0027gradient\u0027, np.hstack((img, gradient)))\ncv2.waitKey(0)",
      "metadata": {
        "pycharm": {
          "metadata": false,
          "name": "#%%\n",
          "is_executing": false
        }
      }
    },
    {
      "cell_type": "markdown",
      "source": "- 顶帽：原图减去开运算后的图：src - opening",
      "metadata": {
        "pycharm": {
          "metadata": false
        }
      }
    },
    {
      "cell_type": "code",
      "execution_count": null,
      "outputs": [],
      "source": "tophat \u003d cv2.morphologyEx(img, cv2.MORPH_TOPHAT, kernel)",
      "metadata": {
        "pycharm": {
          "metadata": false,
          "name": "#%%\n"
        }
      }
    },
    {
      "cell_type": "markdown",
      "source": "- 黑帽：闭运算后的图减去原图：closing - src",
      "metadata": {
        "pycharm": {
          "metadata": false
        }
      }
    },
    {
      "cell_type": "code",
      "execution_count": null,
      "outputs": [],
      "source": "blackhat \u003d cv2.morphologyEx(img, cv2.MORPH_BLACKHAT, kernel)",
      "metadata": {
        "pycharm": {
          "metadata": false,
          "name": "#%%\n"
        }
      }
    },
    {
      "cell_type": "markdown",
      "source": "# 小结\n- 形态学操作就是改变物体的形状，如腐蚀使物体”变瘦”，膨胀使物体”变胖”。\n- 先腐蚀后膨胀会分离物体，所以叫开运算，常用来去除小区域物体。\n- 先膨胀后腐蚀会消除物体内的小洞，所以叫闭运算。开/闭理解了之后很容易记忆噢(⊙o⊙)。\n",
      "metadata": {
        "pycharm": {
          "metadata": false
        }
      }
    }
  ],
  "metadata": {
    "language_info": {
      "codemirror_mode": {
        "name": "ipython",
        "version": 2
      },
      "file_extension": ".py",
      "mimetype": "text/x-python",
      "name": "python",
      "nbconvert_exporter": "python",
      "pygments_lexer": "ipython2",
      "version": "2.7.6"
    },
    "kernelspec": {
      "name": "conda-cv",
      "language": "python",
      "display_name": "conda-cv"
    }
  },
  "nbformat": 4,
  "nbformat_minor": 0
}