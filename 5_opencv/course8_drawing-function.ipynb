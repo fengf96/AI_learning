{
  "cells": [
    {
      "cell_type": "markdown",
      "metadata": {
        "collapsed": true,
        "pycharm": {
          "name": "#%% md\n"
        }
      },
      "source": "# 目标\n- 绘制各种几何形状、添加文字\n- OpenCV函数：cv2.line(), cv2.circle(), cv2.rectangle(), cv2.ellipse(), cv2.putText()\n\n## 参数说明\n绘制形状的函数有一些共同的参数，提前在此说明一下：\n- img：要绘制形状的图片\n- color：绘制的颜色\n - 彩色图就传入BGR的一组值，如蓝色就是(255,0,0)\n - 灰度图，传入一个灰度值就行\n- thickness：线宽，默认为1；对于矩形/圆之类的封闭形状而言，传入-1表示填充形状\n\n需要导入的模块和显示图片的通用代码："
    },
    {
      "cell_type": "code",
      "execution_count": 12,
      "outputs": [],
      "source": "import cv2\nimport numpy as np\nimport matplotlib.pyplot as plt",
      "metadata": {
        "pycharm": {
          "metadata": false,
          "name": "#%%\n",
          "is_executing": false
        }
      }
    },
    {
      "cell_type": "markdown",
      "source": "## 画线\n画直线只需指定起点和终点的坐标就行：",
      "metadata": {
        "pycharm": {
          "metadata": false
        }
      }
    },
    {
      "cell_type": "code",
      "execution_count": 13,
      "outputs": [
        {
          "data": {
            "text/plain": "array([[[255,   0,   0],\n        [255,   0,   0],\n        [255,   0,   0],\n        ..., \n        [  0,   0,   0],\n        [  0,   0,   0],\n        [  0,   0,   0]],\n\n       [[255,   0,   0],\n        [255,   0,   0],\n        [255,   0,   0],\n        ..., \n        [  0,   0,   0],\n        [  0,   0,   0],\n        [  0,   0,   0]],\n\n       [[255,   0,   0],\n        [255,   0,   0],\n        [255,   0,   0],\n        ..., \n        [  0,   0,   0],\n        [  0,   0,   0],\n        [  0,   0,   0]],\n\n       ..., \n       [[  0,   0,   0],\n        [  0,   0,   0],\n        [  0,   0,   0],\n        ..., \n        [255,   0,   0],\n        [255,   0,   0],\n        [255,   0,   0]],\n\n       [[  0,   0,   0],\n        [  0,   0,   0],\n        [  0,   0,   0],\n        ..., \n        [255,   0,   0],\n        [255,   0,   0],\n        [255,   0,   0]],\n\n       [[  0,   0,   0],\n        [  0,   0,   0],\n        [  0,   0,   0],\n        ..., \n        [255,   0,   0],\n        [255,   0,   0],\n        [255,   0,   0]]], dtype\u003duint8)"
          },
          "metadata": {},
          "output_type": "execute_result",
          "execution_count": 13
        }
      ],
      "source": "img \u003d np.zeros((512, 512, 3), np.uint8)\ncv2.line(img, (0,0), (512,512), (255,0,0), 5)\n# cv2.imshow(\u0027rectangle\u0027, img)\n# cv2.waitKey(0)",
      "metadata": {
        "pycharm": {
          "metadata": false,
          "name": "#%%\n",
          "is_executing": false
        }
      }
    },
    {
      "cell_type": "markdown",
      "source": "经验之谈：所有绘图函数均会直接影响原图片，这点要注意。\n\n## 画矩形\n画矩形需要知道左上角和右下角的坐标",
      "metadata": {
        "pycharm": {
          "metadata": false
        }
      }
    },
    {
      "cell_type": "code",
      "execution_count": 14,
      "outputs": [
        {
          "data": {
            "text/plain": "array([[[255,   0,   0],\n        [255,   0,   0],\n        [255,   0,   0],\n        ..., \n        [  0, 255,   0],\n        [  0, 255,   0],\n        [  0, 255,   0]],\n\n       [[255,   0,   0],\n        [255,   0,   0],\n        [255,   0,   0],\n        ..., \n        [  0, 255,   0],\n        [  0, 255,   0],\n        [  0, 255,   0]],\n\n       [[255,   0,   0],\n        [255,   0,   0],\n        [255,   0,   0],\n        ..., \n        [  0, 255,   0],\n        [  0, 255,   0],\n        [  0, 255,   0]],\n\n       ..., \n       [[  0,   0,   0],\n        [  0,   0,   0],\n        [  0,   0,   0],\n        ..., \n        [255,   0,   0],\n        [255,   0,   0],\n        [255,   0,   0]],\n\n       [[  0,   0,   0],\n        [  0,   0,   0],\n        [  0,   0,   0],\n        ..., \n        [255,   0,   0],\n        [255,   0,   0],\n        [255,   0,   0]],\n\n       [[  0,   0,   0],\n        [  0,   0,   0],\n        [  0,   0,   0],\n        ..., \n        [255,   0,   0],\n        [255,   0,   0],\n        [255,   0,   0]]], dtype\u003duint8)"
          },
          "metadata": {},
          "output_type": "execute_result",
          "execution_count": 14
        }
      ],
      "source": "cv2.rectangle(img, (384,0), (510, 128), (0,255,0), 3)\n# cv2.imshow(\u0027rectangle\u0027, img)\n# cv2.waitKey(0)",
      "metadata": {
        "pycharm": {
          "metadata": false,
          "name": "#%%\n",
          "is_executing": false
        }
      }
    },
    {
      "cell_type": "markdown",
      "source": "## 画圆\n画圆需要指定圆心和半径，注意下面的例子中线宽\u003d-1代表填充：",
      "metadata": {
        "pycharm": {
          "metadata": false
        }
      }
    },
    {
      "cell_type": "code",
      "execution_count": 15,
      "outputs": [
        {
          "data": {
            "text/plain": "-1"
          },
          "metadata": {},
          "output_type": "execute_result",
          "execution_count": 15
        }
      ],
      "source": "# 画一个填充红色的圆，参数2：圆心坐标，参数3：半径\ncv2.circle(img, (447, 63), 63, (0, 0, 255), -1)\n# cv2.imshow(\u0027circle\u0027, img)\n# cv2.waitKey(0)",
      "metadata": {
        "pycharm": {
          "metadata": false,
          "name": "#%%\n",
          "is_executing": false
        }
      }
    },
    {
      "cell_type": "markdown",
      "source": "## 画椭圆\n画椭圆需要的参数比较多，请对照后面的代码理解这几个参数：\n- 参数2：椭圆中心(x,y)\n- 参数3：x/y轴的长度\n- 参数4：angle—椭圆的旋转角度\n- 参数5：startAngle—椭圆的起始角度\n- 参数6：endAngle—椭圆的结束角度\n\n经验之谈：OpenCV中原点在左上角，所以这里的角度是以顺时针方向计算的。",
      "metadata": {
        "pycharm": {
          "metadata": false
        }
      }
    },
    {
      "cell_type": "code",
      "execution_count": 16,
      "outputs": [
        {
          "data": {
            "text/plain": "-1"
          },
          "metadata": {},
          "output_type": "execute_result",
          "execution_count": 16
        }
      ],
      "source": "# 在图中心画一个填充的半圆\ncv2.ellipse(img, (256, 256), (100, 50), 0, 0, 180, (255, 0, 0), -1)\n# cv2.imshow(\u0027ellipse\u0027, img)\n# cv2.waitKey(0)",
      "metadata": {
        "pycharm": {
          "metadata": false,
          "name": "#%%\n",
          "is_executing": false
        }
      }
    },
    {
      "cell_type": "markdown",
      "source": "## 画多边形\n画多边形需要指定一系列多边形的顶点坐标，相当于从第一个点到第二个点画直线，再从第二个点到第三个点画直线….\n\nOpenCV中需要先将多边形的顶点坐标需要变成 顶点数×1×2 维的矩阵，再来绘制：",
      "metadata": {
        "pycharm": {
          "metadata": false
        }
      }
    },
    {
      "cell_type": "code",
      "execution_count": 17,
      "outputs": [
        {
          "data": {
            "text/plain": "-1"
          },
          "metadata": {},
          "output_type": "execute_result",
          "execution_count": 17
        }
      ],
      "source": "# 定义四个顶点坐标\npts \u003d np.array([[10, 5],  [50, 10], [70, 20], [20, 30]], np.int32)\n# 顶点个数：4，矩阵变成4*1*2维\npts \u003d pts.reshape((-1, 1, 2))\ncv2.polylines(img, [pts], True, (0, 255, 255))\n# cv2.imshow(\u0027polylines\u0027, img)\n# cv2.waitKey(0)",
      "metadata": {
        "pycharm": {
          "metadata": false,
          "name": "#%%\n",
          "is_executing": false
        }
      }
    },
    {
      "cell_type": "markdown",
      "source": "cv2.polylines()的参数3如果是False的话，多边形就不闭合。\n\n经验之谈：如果需要绘制多条直线，使用cv2.polylines()要比cv2.line()高效很多，例如：",
      "metadata": {
        "pycharm": {
          "metadata": false
        }
      }
    },
    {
      "cell_type": "code",
      "execution_count": 18,
      "outputs": [
        {
          "data": {
            "text/plain": "-1"
          },
          "metadata": {},
          "output_type": "execute_result",
          "execution_count": 18
        }
      ],
      "source": "# 使用cv2.polylines()画多条直线\nline1 \u003d np.array([[100, 20],  [300, 20]], np.int32).reshape((-1, 1, 2))\nline2 \u003d np.array([[100, 60],  [300, 60]], np.int32).reshape((-1, 1, 2))\nline3 \u003d np.array([[100, 100],  [300, 100]], np.int32).reshape((-1, 1, 2))\ncv2.polylines(img, [line1, line2, line3], True, (0, 255, 255))\n# cv2.imshow(\u0027polylines\u0027, img)\n# cv2.waitKey(0)",
      "metadata": {
        "pycharm": {
          "metadata": false,
          "name": "#%%\n",
          "is_executing": false
        }
      }
    },
    {
      "cell_type": "markdown",
      "source": "## 添加文字\n使用cv2.putText()添加文字，它的参数也比较多，同样请对照后面的代码理解这几个参数：\n- 参数2：要添加的文本\n- 参数3：文字的起始坐标（左下角为起点）\n- 参数4：字体\n- 参数5：文字大小（缩放比例）",
      "metadata": {
        "pycharm": {
          "metadata": false
        }
      }
    },
    {
      "cell_type": "code",
      "execution_count": 19,
      "outputs": [
        {
          "data": {
            "text/plain": "-1"
          },
          "metadata": {},
          "output_type": "execute_result",
          "execution_count": 19
        }
      ],
      "source": "# 添加文字\nfont \u003d cv2.FONT_HERSHEY_SIMPLEX\ncv2.putText(img, \u0027ex2tron\u0027, (10, 500), font,\n            4, (255, 255, 255), 2, lineType\u003dcv2.LINE_AA)\ncv2.imshow(\u0027putText\u0027, img)\ncv2.waitKey(0)",
      "metadata": {
        "pycharm": {
          "metadata": false,
          "name": "#%%\n",
          "is_executing": false
        }
      }
    },
    {
      "cell_type": "markdown",
      "source": "字体可参考：HersheyFonts。另外，这里有个线型lineType参数，LINE_AA表示抗锯齿线型，具体可见LineTypes\n\n# 小结\n- cv2.line()画直线\n- cv2.circle()画圆\n- cv2.rectangle()画矩形\n- cv2.ellipse()画椭圆\n- cv2.polylines()画多边形\n - 画多条直线时，cv2.polylines()要比cv2.line()高效很多\n- cv2.putText()添加文字\n",
      "metadata": {
        "pycharm": {
          "metadata": false
        }
      }
    }
  ],
  "metadata": {
    "language_info": {
      "codemirror_mode": {
        "name": "ipython",
        "version": 2
      },
      "file_extension": ".py",
      "mimetype": "text/x-python",
      "name": "python",
      "nbconvert_exporter": "python",
      "pygments_lexer": "ipython2",
      "version": "2.7.6"
    },
    "kernelspec": {
      "name": "pycharm-b977b55f",
      "language": "python",
      "display_name": "PyCharm (OpenCVLearn)"
    }
  },
  "nbformat": 4,
  "nbformat_minor": 0
}