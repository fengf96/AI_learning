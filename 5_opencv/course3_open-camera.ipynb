{
  "cells": [
    {
      "cell_type": "markdown",
      "metadata": {
        "collapsed": true,
        "pycharm": {
          "name": "#%% md\n"
        }
      },
      "source": "## 打开摄像头\n要使用摄像头，需要使用cv2.VideoCapture(0)创建VideoCapture对象，参数0指的是摄像头的编号，如果你电脑上有两个摄像头的话，访问第2个摄像头就可以传入1，依此类推。"
    },
    {
      "cell_type": "code",
      "execution_count": 2,
      "outputs": [],
      "source": "import cv2",
      "metadata": {
        "pycharm": {
          "metadata": false,
          "name": "#%%\n",
          "is_executing": false
        }
      }
    },
    {
      "cell_type": "code",
      "execution_count": null,
      "outputs": [],
      "source": "# 打开摄像头并灰度化显示\ncapture \u003d cv2.VideoCapture(0)\n\nwhile(True):\n    # 获取一帧\n    ret, frame \u003d capture.read()\n    # 将这种帧转换为灰度图\n    gray \u003d cv2.cvtColor(frame, cv2.COLOR_BGR2GRAY)\n    \n    cv2.imshow(\u0027frame\u0027, gray)\n    if cv2.waitKey(1) \u003d\u003d ord(\u0027q\u0027):\n        break",
      "metadata": {
        "pycharm": {
          "metadata": false,
          "name": "#%%\n",
          "is_executing": true
        }
      }
    },
    {
      "cell_type": "markdown",
      "source": "capture.read()函数返回的第1个参数ret(return value缩写)是一个布尔值，表示当前这一帧是否获取正确。cv2.cvtColor()用来转换颜色，这里将彩色图转成灰度图。\n\n另外，通过cap.get(propId)可以获取摄像头的一些属性，比如捕获的分辨率，亮度和对比度等。propId是从0~18的数字，代表不同的属性，完整的属性列表可以参考：VideoCaptureProperties。也可以使用cap.set(propId,value)来修改属性值。比如说，我们在while之前添加下面的代码：\n",
      "metadata": {
        "pycharm": {
          "metadata": false
        }
      }
    },
    {
      "cell_type": "code",
      "execution_count": null,
      "outputs": [
        {
          "name": "stdout",
          "text": [
            "640.0 480.0\n"
          ],
          "output_type": "stream"
        }
      ],
      "source": "capture \u003d cv2.VideoCapture(0)\n\n# 获取捕获的分辨率\n# propId可以直接写数字，也可以用OpenCV的符号表示\nwidth, height \u003d capture.get(3), capture.get(4)\nprint(width, height)\n\n# 以原分辨率的一倍来捕获\ncapture.set(cv2.CAP_PROP_FRAME_WIDTH, width * 2)\ncapture.set(cv2.CAP_PROP_FRAME_HEIGHT, height * 2)\n\nwhile(True):\n    # 获取一帧\n    ret, frame \u003d capture.read()\n    # 将这种帧转换为灰度图\n    gray \u003d cv2.cvtColor(frame, cv2.COLOR_BGR2GRAY)\n    cv2.imshow(\u0027frame\u0027, gray)",
      "metadata": {
        "pycharm": {
          "metadata": false,
          "name": "#%%\n",
          "is_executing": true
        }
      }
    },
    {
      "cell_type": "markdown",
      "source": "经验之谈：某些摄像头设定分辨率等参数时会无效，因为它有固定的分辨率大小支持，一般可在摄像头的资料页中找到。",
      "metadata": {
        "pycharm": {
          "metadata": false
        }
      }
    },
    {
      "cell_type": "markdown",
      "source": "## 播放本地视频\n跟打开摄像头一样，如果把摄像头的编号换成视频的路径就可以播放本地视频了。回想一下cv2.waitKey()，它的参数表示暂停时间，所以这个值越大，视频播放速度越慢，反之，播放速度越快，通常设置为25或30。",
      "metadata": {
        "pycharm": {
          "metadata": false,
          "name": "#%% md\n"
        }
      }
    },
    {
      "cell_type": "code",
      "execution_count": null,
      "outputs": [],
      "source": "# 播放本地视频\ncapture \u003d cv2.VideoCapture(\u0027demo_video.mp4\u0027)\n\nwhile(capture.isOpened()):\n    ret, frame \u003d capture.read()\n    gray \u003d cv2.cvtColor(frame, cv2.COLOR_BGR2GRAY)\n\n    cv2.imshow(\u0027frame\u0027, gray)\n    if cv2.waitKey(30) \u003d\u003d ord(\u0027q\u0027):\n        break",
      "metadata": {
        "pycharm": {
          "metadata": false,
          "name": "#%%\n"
        }
      }
    },
    {
      "cell_type": "markdown",
      "source": "## 录制视频\n- 之前我们保存图片用的是cv2.imwrite()，要保存视频，我们需要创建一个VideoWriter的对象，需要给它传入四个参数：\n - 输出的文件名，如’output.avi’\n - 编码方式FourCC码\n - 帧率FPS\n - 要保存的分辨率大小\n- FourCC是用来指定视频编码方式的四字节码，所有的编码可参考Video Codecs。如MJPG编码可以这样写： cv2.VideoWriter_fourcc(*\u0027MJPG\u0027)或cv2.VideoWriter_fourcc(\u0027M\u0027,\u0027J\u0027,\u0027P\u0027,\u0027G\u0027)",
      "metadata": {
        "pycharm": {
          "metadata": false,
          "name": "#%% md\n"
        }
      }
    },
    {
      "cell_type": "code",
      "source": "import cv\ncapture \u003d cv2.VideoCapture(0)\n# 定义编码方式并创建VideoWriter对象\nfourcc \u003d cv2.VideoWriter_fourcc(*\u0027MJPG\u0027)\noutfile \u003d cv2.VideoWriter(\u0027output.avi\u0027, fourcc, 25., (640, 480))\n\nwhile(capture.isOpened()):\n    ret, frame \u003d capture.read()\n\n    if ret:\n        outfile.write(frame)  # 写入文件\n        cv2.imshow(\u0027frame\u0027, frame)\n        if cv2.waitKey(1) \u003d\u003d ord(\u0027q\u0027):\n            break\n    else:\n        break",
      "metadata": {
        "pycharm": {
          "metadata": false,
          "name": "#%% \n",
          "is_executing": false
        }
      },
      "execution_count": 2,
      "outputs": []
    },
    {
      "cell_type": "markdown",
      "source": "# 小结\n- 使用cv2.VideoCapture()创建视频对象，然后在循环中一帧帧显示图像。参数传入数字时，代表打开摄像头，传入本地视频路径时，表示播放本地视频。\n- cap.get(propId)获取视频属性，cap.set(propId,value)设置视频属性。\n- cv2.VideoWriter()创建视频写入对象，用来录制/保存视频。\n",
      "metadata": {
        "pycharm": {
          "metadata": false
        }
      }
    }
  ],
  "metadata": {
    "language_info": {
      "codemirror_mode": {
        "name": "ipython",
        "version": 2
      },
      "file_extension": ".py",
      "mimetype": "text/x-python",
      "name": "python",
      "nbconvert_exporter": "python",
      "pygments_lexer": "ipython2",
      "version": "2.7.6"
    },
    "kernelspec": {
      "name": "anaconda",
      "language": "python",
      "display_name": "Anaconda"
    }
  },
  "nbformat": 4,
  "nbformat_minor": 0
}