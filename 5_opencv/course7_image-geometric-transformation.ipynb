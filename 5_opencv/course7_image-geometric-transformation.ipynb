{
  "cells": [
    {
      "cell_type": "markdown",
      "metadata": {
        "collapsed": true,
        "pycharm": {
          "name": "#%% md\n"
        }
      },
      "source": "# 目标\n- 实现旋转、平移和缩放图片\n- OpenCV函数：cv2.resize(), cv2.flip(), cv2.warpAffine()\n\n图像的几何变换从原理上看主要包括两种：基于2×3矩阵的仿射变换（平移、缩放、旋转和翻转等）、基于3×3矩阵的透视变换，感兴趣的小伙伴可参考番外篇：仿射变换与透视变换。\n\n## 缩放图片\n缩放就是调整图片的大小，使用cv2.resize()函数实现缩放。可以按照比例缩放，也可以按照指定的大小缩放："
    },
    {
      "cell_type": "code",
      "execution_count": 1,
      "outputs": [
        {
          "data": {
            "text/plain": "-1"
          },
          "metadata": {},
          "output_type": "execute_result",
          "execution_count": 1
        }
      ],
      "source": "import cv2\nimg \u003d cv2.imread(\u0027drawing.jpg\u0027)\n\nres \u003d cv2.resize(img, (132, 150))\n\nres2 \u003d cv2.resize(img, None, fx\u003d2, fy\u003d2, interpolation\u003dcv2.INTER_LINEAR)\n\ncv2.imshow(\u0027shrink\u0027, res), cv2.imshow(\u0027zoom\u0027,res2)\ncv2.waitKey(0)",
      "metadata": {
        "pycharm": {
          "metadata": false,
          "name": "#%%\n",
          "is_executing": false
        }
      }
    },
    {
      "cell_type": "markdown",
      "source": "我们也可以指定缩放方法interpolation，更专业点叫插值方法，默认是INTER_LINEAR\n\n## 翻转图片\n镜像翻转图片，可以用cv2.flip()函数：\n```\ndst \u003d cv2.flip(img, 1)\n```\n其中，参数2 \u003d 0：垂直翻转(沿x轴)，参数2 \u003e 0: 水平翻转(沿y轴)，参数2 \u003c 0: 水平垂直翻转。\n![](http://blog.codec.wang/cv2_flip_image_sample.jpg)\n\n## 平移图片\n要平移图片，我们需要定义下面这样一个矩阵，tx,ty是向x和y方向平移的距离：\n\nM\u003d[[1, 0], [0, 1], [tx, ty]]\n\n平移是用仿射变换函数cv2.warpAffine()实现的：",
      "metadata": {
        "pycharm": {
          "metadata": false
        }
      }
    },
    {
      "cell_type": "code",
      "source": "# 平移图片\nimport numpy as np\nrows, cols \u003d img.shape[:2]\nprint(rows, cols, img.shape)\n# 定义平移矩阵，需要是numpy的float32类型\n# x轴平移100，y轴平移50\nM \u003d np.float32([[1,0,100],[0,1,50]])\n# 用仿射变换实现平移\ndst \u003d cv2.warpAffine(img, M, (cols, rows))\n\ncv2.imshow(\u0027shift\u0027, dst)\ncv2.waitKey(0)",
      "metadata": {
        "pycharm": {
          "metadata": false,
          "name": "#%%\n",
          "is_executing": false
        }
      },
      "execution_count": 4,
      "outputs": [
        {
          "name": "stdout",
          "text": [
            "300 264 (300, 264, 3)\n"
          ],
          "output_type": "stream"
        },
        {
          "data": {
            "text/plain": "-1"
          },
          "metadata": {},
          "output_type": "execute_result",
          "execution_count": 4
        }
      ]
    },
    {
      "cell_type": "markdown",
      "source": "![](http://blog.codec.wang/cv2_translation_100_50.jpg)\n\n## 旋转图片\n旋转同平移一样，也是用仿射变换实现的，因此也需要定义一个变换矩阵。OpenCV直接提供了 cv2.getRotationMatrix2D()函数来生成这个矩阵，该函数有三个参数：\n- 参数1：图片的旋转中心\n- 参数2：旋转角度(正：逆时针，负：顺时针)\n- 参数3：缩放比例，0.5表示缩小一半",
      "metadata": {
        "pycharm": {
          "metadata": false
        }
      }
    },
    {
      "cell_type": "code",
      "execution_count": 6,
      "outputs": [
        {
          "data": {
            "text/plain": "-1"
          },
          "metadata": {},
          "output_type": "execute_result",
          "execution_count": 6
        }
      ],
      "source": "# 45°旋转图片并缩小一半\nM \u003d cv2.getRotationMatrix2D((cols/2, rows/2), 45, 0.5)\ndst \u003d cv2.warpAffine(img, M, (rows, cols))\n\ncv2.imshow(\u0027rotation\u0027, dst)\ncv2.waitKey(0)",
      "metadata": {
        "pycharm": {
          "metadata": false,
          "name": "#%%\n",
          "is_executing": false
        }
      }
    },
    {
      "cell_type": "markdown",
      "source": "![](http://blog.codec.wang/cv2_rotation_45_degree.jpg)\n\n# 小结\n- cv2.resize()缩放图片，可以按指定大小缩放，也可以按比例缩放。\n- cv2.flip()翻转图片，可以指定水平/垂直/水平垂直翻转三种方式。\n- 平移/旋转是靠仿射变换cv2.warpAffine()实现的。",
      "metadata": {
        "pycharm": {
          "metadata": false,
          "name": "#%% md\n"
        }
      }
    }
  ],
  "metadata": {
    "language_info": {
      "codemirror_mode": {
        "name": "ipython",
        "version": 2
      },
      "file_extension": ".py",
      "mimetype": "text/x-python",
      "name": "python",
      "nbconvert_exporter": "python",
      "pygments_lexer": "ipython2",
      "version": "2.7.6"
    },
    "kernelspec": {
      "name": "pycharm-b977b55f",
      "language": "python",
      "display_name": "PyCharm (OpenCVLearn)"
    }
  },
  "nbformat": 4,
  "nbformat_minor": 0
}