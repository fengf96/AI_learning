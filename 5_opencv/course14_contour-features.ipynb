{
  "cells": [
    {
      "cell_type": "markdown",
      "metadata": {
        "collapsed": true,
        "pycharm": {
          "name": "#%% md\n"
        }
      },
      "source": "# 目标\n- 计算物体的周长、面积、质心、最小外接矩形等\n- OpenCV函数：cv2.contourArea(), cv2.arcLength(), cv2.approxPolyDP() 等\n\n# 教程\n在计算轮廓特征之前，我们先用上一节的代码把轮廓找到：\n![](http://blog.codec.wang/cv2_31_handwriting_sample.jpg)"
    },
    {
      "cell_type": "code",
      "execution_count": 2,
      "outputs": [],
      "source": "import cv2\nimport numpy as np\n\nimg \u003d cv2.imread(\u0027handwriting.jpg\u0027, 0)\n_, thresh \u003d cv2.threshold(img, 0, 255, cv2.THRESH_BINARY_INV + cv2.THRESH_OTSU)\nimage, contours, hierarchy \u003d cv2.findContours(thresh, 3, 2)\n\n# 以数字3的轮廓为例\ncnt \u003d contours[0]",
      "metadata": {
        "pycharm": {
          "metadata": false,
          "name": "#%%\n",
          "is_executing": false
        }
      }
    },
    {
      "cell_type": "markdown",
      "source": "为了便于绘制，我们创建出两幅彩色图，并把轮廓画在第一幅图上：",
      "metadata": {
        "pycharm": {
          "metadata": false
        }
      }
    },
    {
      "cell_type": "code",
      "execution_count": 3,
      "outputs": [
        {
          "data": {
            "text/plain": "array([[[0, 0, 0],\n        [0, 0, 0],\n        [0, 0, 0],\n        ...,\n        [0, 0, 0],\n        [0, 0, 0],\n        [0, 0, 0]],\n\n       [[0, 0, 0],\n        [0, 0, 0],\n        [0, 0, 0],\n        ...,\n        [0, 0, 0],\n        [0, 0, 0],\n        [0, 0, 0]],\n\n       [[0, 0, 0],\n        [0, 0, 0],\n        [0, 0, 0],\n        ...,\n        [0, 0, 0],\n        [0, 0, 0],\n        [0, 0, 0]],\n\n       ...,\n\n       [[0, 0, 0],\n        [0, 0, 0],\n        [0, 0, 0],\n        ...,\n        [0, 0, 0],\n        [0, 0, 0],\n        [0, 0, 0]],\n\n       [[0, 0, 0],\n        [0, 0, 0],\n        [0, 0, 0],\n        ...,\n        [0, 0, 0],\n        [0, 0, 0],\n        [0, 0, 0]],\n\n       [[0, 0, 0],\n        [0, 0, 0],\n        [0, 0, 0],\n        ...,\n        [0, 0, 0],\n        [0, 0, 0],\n        [0, 0, 0]]], dtype\u003duint8)"
          },
          "metadata": {},
          "output_type": "execute_result",
          "execution_count": 3
        }
      ],
      "source": "img_color1 \u003d cv2.cvtColor(image, cv2.COLOR_GRAY2BGR)\nimg_color2 \u003d np.copy(img_color1)\ncv2.drawContours(img_color1, [cnt], 0, (0, 0, 255), 2)",
      "metadata": {
        "pycharm": {
          "metadata": false,
          "name": "#%%\n",
          "is_executing": false
        }
      }
    },
    {
      "cell_type": "markdown",
      "source": "## 轮廓面积",
      "metadata": {
        "pycharm": {
          "metadata": false
        }
      }
    },
    {
      "cell_type": "code",
      "execution_count": 5,
      "outputs": [
        {
          "name": "stdout",
          "text": [
            "4807.0\n"
          ],
          "output_type": "stream"
        }
      ],
      "source": "area \u003d cv2.contourArea(cnt)  # 4807.0\nprint(area)",
      "metadata": {
        "pycharm": {
          "metadata": false,
          "name": "#%%\n",
          "is_executing": false
        }
      }
    },
    {
      "cell_type": "markdown",
      "source": "注意轮廓特征计算的结果并不等同于像素点的个数，而是根据几何方法算出来的，所以有小数。\n\n如果统计二值图中像素点个数，应尽量避免循环，可以使用cv2.countNonZero()，更加高效。\n\n## 轮廓周长",
      "metadata": {
        "pycharm": {
          "metadata": false
        }
      }
    },
    {
      "cell_type": "code",
      "execution_count": 7,
      "outputs": [
        {
          "name": "stdout",
          "text": [
            "612.7838320732117\n"
          ],
          "output_type": "stream"
        }
      ],
      "source": "perimeter \u003d cv2.arcLength(cnt, True)  # 612.7838320732117\nprint(perimeter)",
      "metadata": {
        "pycharm": {
          "metadata": false,
          "name": "#%%\n",
          "is_executing": false
        }
      }
    },
    {
      "cell_type": "markdown",
      "source": "参数2表示轮廓是否封闭，显然我们的轮廓是封闭的，所以是True。\n\n## 图像矩\n矩可以理解为图像的各类几何特征，详情请参考：[Image Moments]",
      "metadata": {
        "pycharm": {
          "metadata": false
        }
      }
    },
    {
      "cell_type": "code",
      "execution_count": 8,
      "outputs": [
        {
          "name": "stdout",
          "text": [
            "{\u0027m00\u0027: 4807.0, \u0027m10\u0027: 849431.6666666666, \u0027m01\u0027: 567076.0, \u0027m20\u0027: 152202834.8333333, \u0027m11\u0027: 98742806.83333333, \u0027m02\u0027: 78411253.5, \u0027m30\u0027: 27622130168.100002, \u0027m21\u0027: 17483376460.433334, \u0027m12\u0027: 13393681126.366667, \u0027m03\u0027: 12075225547.800001, \u0027mu20\u0027: 2102115.8118831217, \u0027mu11\u0027: -1463623.748457104, \u0027mu02\u0027: 11513980.819325984, \u0027mu30\u0027: -16129690.252017975, \u0027mu21\u0027: 45457166.5082975, \u0027mu12\u0027: -116830615.75261116, \u0027mu03\u0027: 108563520.76313782, \u0027nu20\u0027: 0.09097213657424653, \u0027nu11\u0027: -0.06334045859189485, \u0027nu02\u0027: 0.4982843617310733, \u0027nu30\u0027: -0.010067942397799047, \u0027nu21\u0027: 0.028373770780591508, \u0027nu12\u0027: -0.07292414741501461, \u0027nu03\u0027: 0.06776393448775536}\n"
          ],
          "output_type": "stream"
        }
      ],
      "source": "M \u003d cv2.moments(cnt)\nprint(M)",
      "metadata": {
        "pycharm": {
          "metadata": false,
          "name": "#%%\n",
          "is_executing": false
        }
      }
    },
    {
      "cell_type": "markdown",
      "source": "M中包含了很多轮廓的特征信息，比如M[‘m00’]表示轮廓面积，与前面cv2.contourArea()计算结果是一样的。质心也可以用它来算：",
      "metadata": {
        "pycharm": {
          "metadata": false
        }
      }
    },
    {
      "cell_type": "code",
      "execution_count": 9,
      "outputs": [
        {
          "name": "stdout",
          "text": [
            "(176.70723250814783, 117.96879550655294)\n"
          ],
          "output_type": "stream"
        }
      ],
      "source": "cx, cy \u003d M[\u0027m10\u0027] / M[\u0027m00\u0027], M[\u0027m01\u0027] / M[\u0027m00\u0027]  # (176.70723250814783, 117.96879550655294)\nprint((cx,cy))",
      "metadata": {
        "pycharm": {
          "metadata": false,
          "name": "#%%\n",
          "is_executing": false
        }
      }
    },
    {
      "cell_type": "markdown",
      "source": "## 外接矩形\n形状的外接矩形有两种，如下图，绿色的叫外接矩形，表示不考虑旋转并且能包含整个轮廓的矩形。蓝色的叫最小外接矩，考虑了旋转：\n![](http://blog.codec.wang/cv2_min_rect_rect_bounding.jpg)",
      "metadata": {
        "pycharm": {
          "metadata": false
        }
      }
    },
    {
      "cell_type": "code",
      "execution_count": 11,
      "outputs": [
        {
          "name": "stdout",
          "text": [
            "(124, 40, 93, 165)\n((174.4885711669922, 124.240478515625), (169.71473693847656, 79.99760437011719), -81.20945739746094)\n[[201 214]\n [121 201]\n [147  34]\n [226  46]]\n"
          ],
          "output_type": "stream"
        },
        {
          "data": {
            "text/plain": "-1"
          },
          "metadata": {},
          "output_type": "execute_result",
          "execution_count": 11
        }
      ],
      "source": "x, y, w, h \u003d cv2.boundingRect(cnt)\nprint((x, y, w, h))\ncv2.rectangle(img_color1, (x, y), (x+w, y+h), (0, 255, 0), 2)\n\nrect \u003d cv2.minAreaRect(cnt)\nprint(rect)\nbox \u003d np.int0(cv2.boxPoints(rect))\nprint(box)\ncv2.drawContours(img_color1, [box], 0, (255, 0, 0), 2)\n\ncv2.imshow(\u0027img\u0027, img_color1)\ncv2.waitKey(0)",
      "metadata": {
        "pycharm": {
          "metadata": false,
          "name": "#%%\n",
          "is_executing": false
        }
      }
    },
    {
      "cell_type": "markdown",
      "source": "其中np.int0(x)是把x取整的操作，比如377.93就会变成377，也可以用x.astype(np.int)。\n\n## 最小外接圆\n外接圆跟外接矩形一样，找到一个能包围物体的最小圆",
      "metadata": {
        "pycharm": {
          "metadata": false
        }
      }
    },
    {
      "cell_type": "code",
      "execution_count": 12,
      "outputs": [
        {
          "data": {
            "text/plain": "array([[[0, 0, 0],\n        [0, 0, 0],\n        [0, 0, 0],\n        ...,\n        [0, 0, 0],\n        [0, 0, 0],\n        [0, 0, 0]],\n\n       [[0, 0, 0],\n        [0, 0, 0],\n        [0, 0, 0],\n        ...,\n        [0, 0, 0],\n        [0, 0, 0],\n        [0, 0, 0]],\n\n       [[0, 0, 0],\n        [0, 0, 0],\n        [0, 0, 0],\n        ...,\n        [0, 0, 0],\n        [0, 0, 0],\n        [0, 0, 0]],\n\n       ...,\n\n       [[0, 0, 0],\n        [0, 0, 0],\n        [0, 0, 0],\n        ...,\n        [0, 0, 0],\n        [0, 0, 0],\n        [0, 0, 0]],\n\n       [[0, 0, 0],\n        [0, 0, 0],\n        [0, 0, 0],\n        ...,\n        [0, 0, 0],\n        [0, 0, 0],\n        [0, 0, 0]],\n\n       [[0, 0, 0],\n        [0, 0, 0],\n        [0, 0, 0],\n        ...,\n        [0, 0, 0],\n        [0, 0, 0],\n        [0, 0, 0]]], dtype\u003duint8)"
          },
          "metadata": {},
          "output_type": "execute_result",
          "execution_count": 12
        }
      ],
      "source": "(x, y), radius \u003d cv2.minEnclosingCircle(cnt)\n(x, y, radius) \u003d np.int0((x, y, radius))  # 圆心和半径取整\ncv2.circle(img_color2, (x, y), radius, (0, 0, 255), 2)\n",
      "metadata": {
        "pycharm": {
          "metadata": false,
          "name": "#%%\n",
          "is_executing": false
        }
      }
    },
    {
      "cell_type": "markdown",
      "source": "![](http://blog.codec.wang/cv2_min_enclosing_circle.jpg)",
      "metadata": {
        "pycharm": {
          "metadata": false
        }
      }
    },
    {
      "cell_type": "markdown",
      "source": "## 拟合椭圆\n我们可以用得到的轮廓拟合出一个椭圆：",
      "metadata": {
        "pycharm": {
          "metadata": false
        }
      }
    },
    {
      "cell_type": "code",
      "execution_count": null,
      "outputs": [],
      "source": "ellipse \u003d cv2.fitEllipse(cnt)\ncv2.ellipse(img_color2, ellipse, (255, 255, 0), 2)\n",
      "metadata": {
        "pycharm": {
          "metadata": false,
          "name": "#%%\n"
        }
      }
    },
    {
      "cell_type": "markdown",
      "source": "![](http://blog.codec.wang/cv2_fitting_ellipse.jpg)\n\n## 形状匹配\ncv2.matchShapes()可以检测两个形状之间的相似度，返回值越小，越相似。先读入下面这张图片：\n![](http://blog.codec.wang/cv2_match_shape_shapes.jpg)",
      "metadata": {
        "pycharm": {
          "metadata": false,
          "name": "#%% md\n"
        }
      }
    },
    {
      "cell_type": "code",
      "execution_count": 13,
      "outputs": [],
      "source": "img \u003d cv2.imread(\u0027shapes.jpg\u0027, 0)\n_, thresh \u003d cv2.threshold(img, 0, 255, cv2.THRESH_BINARY+cv2.THRESH_OTSU)\nimage, contours, hierarchy \u003d cv2.findContours(thresh, 3, 2)\nimg_color \u003d cv2.cvtColor(thresh, cv2.COLOR_GRAY2BGR) # 用于c",
      "metadata": {
        "pycharm": {
          "metadata": false,
          "name": "#%%\n",
          "is_executing": false
        }
      }
    },
    {
      "cell_type": "markdown",
      "source": "图中有3条轮廓，我们用A/B/C表示：",
      "metadata": {
        "pycharm": {
          "metadata": false
        }
      }
    },
    {
      "cell_type": "code",
      "execution_count": 14,
      "outputs": [
        {
          "name": "stdout",
          "text": [
            "0.0\n2.176955476018705e-05\n0.4181711500194456\n"
          ],
          "output_type": "stream"
        }
      ],
      "source": "cnt_a, cnt_b, cnt_c \u003d contours[0], contours[1], contours[2]\nprint(cv2.matchShapes(cnt_b, cnt_b, 1, 0.0))\nprint(cv2.matchShapes(cnt_b, cnt_c, 1, 0.0))\nprint(cv2.matchShapes(cnt_b, cnt_a, 1, 0.0))",
      "metadata": {
        "pycharm": {
          "metadata": false,
          "name": "#%%\n",
          "is_executing": false
        }
      }
    },
    {
      "cell_type": "markdown",
      "source": "可以看到BC相似程度比AB高很多，并且图形的旋转或缩放并没有影响。\n\ncv2.matchShapes()其中，参数3是匹配方法，详情可参考：ShapeMatchModes，参数4是OpenCV的预留参数，暂时没有实现，可以不用理会。\n\n形状匹配是通过图像的Hu矩来实现的(cv2.HuMoments())，大家如果感兴趣，可以参考：Hu-Moments\n",
      "metadata": {
        "pycharm": {
          "metadata": false
        }
      }
    }
  ],
  "metadata": {
    "language_info": {
      "codemirror_mode": {
        "name": "ipython",
        "version": 2
      },
      "file_extension": ".py",
      "mimetype": "text/x-python",
      "name": "python",
      "nbconvert_exporter": "python",
      "pygments_lexer": "ipython2",
      "version": "2.7.6"
    },
    "kernelspec": {
      "name": "conda-cv",
      "language": "python",
      "display_name": "conda-cv"
    },
    "stem_cell": {
      "cell_type": "raw",
      "source": "",
      "metadata": {
        "pycharm": {
          "metadata": false
        }
      }
    }
  },
  "nbformat": 4,
  "nbformat_minor": 0
}