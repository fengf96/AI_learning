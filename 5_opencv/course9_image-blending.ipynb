{
  "cells": [
    {
      "cell_type": "markdown",
      "metadata": {
        "collapsed": true,
        "pycharm": {
          "name": "#%% md\n"
        }
      },
      "source": "# 目标\n- 图片间的数学运算，如相加、按位运算等\n- OpenCV函数：cv2.add(), cv2.addWeighted(), cv2.bitwise_and()\n\n# 教程\n首先恭喜你已经完成了入门篇的学习噢，接下来我们学习一些OpenCV的基础内容，加油(ง •_•)ง\n\n## 图片相加\n要叠加两张图片，可以用cv2.add()函数，相加两幅图片的形状（高度/宽度/通道数）必须相同。numpy中可以直接用res \u003d img + img1相加，但这两者的结果并不相同："
    },
    {
      "cell_type": "code",
      "execution_count": 1,
      "outputs": [
        {
          "name": "stdout",
          "text": [
            "[[255]]\n[4]\n"
          ],
          "output_type": "stream"
        }
      ],
      "source": "import numpy as np\nimport cv2\n\nx \u003d np.uint8([250])\ny \u003d np.uint8([10])\nprint(cv2.add(x,y)) # 250+10 \u003d 260 \u003d\u003e 255\nprint(x+y) # 250+10 \u003d 260 % 256 \u003d 4",
      "metadata": {
        "pycharm": {
          "metadata": false,
          "name": "#%%\n",
          "is_executing": false
        }
      }
    },
    {
      "cell_type": "markdown",
      "source": "如果是二值化图片（只有0和255两种值），两者结果是一样的（用numpy的方式更简便一些）。\n\n## 图像混合\n图像混合cv2.addWeighted()也是一种图片相加的操作，只不过两幅图片的权重不一样，γ相当于一个修正值：\n```\ndst \u003d α× img1 + β× img2 + γ\n```",
      "metadata": {
        "pycharm": {
          "metadata": false
        }
      }
    },
    {
      "cell_type": "code",
      "execution_count": 8,
      "outputs": [
        {
          "data": {
            "text/plain": "-1"
          },
          "metadata": {},
          "output_type": "execute_result",
          "execution_count": 8
        }
      ],
      "source": "img1 \u003d cv2.imread(\u0027lena_small.jpg\u0027)\nimg2 \u003d cv2.imread(\u0027opencv-logo-white.png\u0027)\nres \u003d cv2.addWeighted(img1, 0.6, img2, 0.4, 0)\ncv2.imshow(\u0027res\u0027, res)\ncv2.waitKey(0)",
      "metadata": {
        "pycharm": {
          "metadata": false,
          "name": "#%%\n",
          "is_executing": false
        }
      }
    },
    {
      "cell_type": "markdown",
      "source": "![](http://blog.codec.wang/cv2_image_blending_6_4.jpg)\n经验之谈：α和β都等于1时，就相当于图片相加。\n\n## 按位操作\n按位操作包括按位与/或/非/异或操作，有什么用途呢？比如说我们要实现下图的效果：\n![](http://blog.codec.wang/cv2_bitwise_operations_demo.jpg)\n\n如果将两幅图片直接相加会改变图片的颜色，如果用图像混合，则会改变图片的透明度，所以我们需要用按位操作。首先来了解一下掩膜（mask）的概念：掩膜是用一副二值化图片对另外一幅图片进行局部的遮挡，看下图就一目了然了：\n![](http://blog.codec.wang/cv2_understand_mask.jpg)\n\n所以我们的思路就是把原图中要放logo的区域抠出来，再把logo放进去就行了：",
      "metadata": {
        "pycharm": {
          "metadata": false
        }
      }
    },
    {
      "cell_type": "code",
      "execution_count": 11,
      "outputs": [
        {
          "data": {
            "text/plain": "-1"
          },
          "metadata": {},
          "output_type": "execute_result",
          "execution_count": 11
        }
      ],
      "source": "img1 \u003d cv2.imread(\u0027lena.jpg\u0027)\nimg2 \u003d cv2.imread(\u0027opencv-logo-white.png\u0027)\n\n# 把logo放在左上角，所以我们只关心这一块区域\nrows, cols \u003d img2.shape[:2]\nroi \u003d img1[:rows, :cols]\n\n\n# 创建掩膜\nimg2gray \u003d cv2.cvtColor(img2, cv2.COLOR_BGR2GRAY)\nret,mask \u003d cv2.threshold(img2gray, 10, 255, cv2.THRESH_BINARY)\ncv2.imshow(\u0027mask\u0027, mask)\ncv2.waitKey(0)\nmask_inv \u003d cv2.bitwise_not(mask)\ncv2.imshow(\u0027mask_inv\u0027, mask_inv)\ncv2.waitKey(0)\n# 保留除logo外的背景\nimg1_bg \u003d cv2.bitwise_and(roi, roi, mask\u003dmask_inv)\ncv2.imshow(\u0027img1_bg\u0027, img1_bg)\ncv2.waitKey(0)\ndst \u003d cv2.add(img1_bg, img2)  # 进行融合\ncv2.imshow(\u0027dst\u0027, dst)\ncv2.waitKey(0)\nimg1[:rows, :cols] \u003d dst  # 融合后放在原图上\ncv2.imshow(\u0027res\u0027, img1)\ncv2.waitKey(0)",
      "metadata": {
        "pycharm": {
          "metadata": false,
          "name": "#%%\n",
          "is_executing": false
        }
      }
    },
    {
      "cell_type": "markdown",
      "source": "经验之谈：掩膜的概念在图像混合/叠加的场景下使用较多，可以多多练习噢！\n\n# 小结\n- cv2.add()用来叠加两幅图片，cv2.addWeighted()也是叠加两幅图片，但两幅图片的权重不一样。\n- cv2.bitwise_and(), cv2.bitwise_not(), cv2.bitwise_or(), cv2.bitwise_xor()分别执行按位与/或/非/异或运算。掩膜就是用来对图片进行全局或局部的遮挡。\n",
      "metadata": {
        "pycharm": {
          "metadata": false
        }
      }
    }
  ],
  "metadata": {
    "language_info": {
      "codemirror_mode": {
        "name": "ipython",
        "version": 2
      },
      "file_extension": ".py",
      "mimetype": "text/x-python",
      "name": "python",
      "nbconvert_exporter": "python",
      "pygments_lexer": "ipython2",
      "version": "2.7.6"
    },
    "kernelspec": {
      "name": "conda-cv",
      "language": "python",
      "display_name": "conda-cv"
    }
  },
  "nbformat": 4,
  "nbformat_minor": 0
}