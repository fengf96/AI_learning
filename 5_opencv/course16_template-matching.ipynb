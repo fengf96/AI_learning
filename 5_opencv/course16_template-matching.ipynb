{
  "cells": [
    {
      "cell_type": "markdown",
      "metadata": {
        "collapsed": true,
        "pycharm": {
          "name": "#%% md\n"
        }
      },
      "source": "# 目标\n使用模板匹配在图像中寻找物体\nOpenCV函数：cv2.matchTemplate(), cv2.minMaxLoc()\n\n# 教程\n## 模板匹配\n模板匹配就是用来在大图中找小图，也就是说在一副图像中寻找另外一张模板图像的位置：\n![](http://blog.codec.wang/cv2_understand_template_matching.jpg)\n用cv2.matchTemplate()实现模板匹配。首先我们来读入图片和模板："
    },
    {
      "cell_type": "code",
      "execution_count": 1,
      "outputs": [],
      "source": "import cv2\nimport numpy as np\nfrom matplotlib import pyplot as plt\n\nimg \u003d cv2.imread(\u0027lena.jpg\u0027, 0)\ntemplate \u003d cv2.imread(\u0027face.jpg\u0027, 0)\nh, w \u003d template.shape[:2]  # rows-\u003eh, cols-\u003ew",
      "metadata": {
        "pycharm": {
          "metadata": false,
          "name": "#%%\n",
          "is_executing": false
        }
      }
    },
    {
      "cell_type": "markdown",
      "source": "匹配函数返回的是一副灰度图，最白的地方表示最大的匹配。使用cv2.minMaxLoc()函数可以得到最大匹配值的坐标，以这个点为左上角角点，模板的宽和高画矩形就是匹配的位置了：",
      "metadata": {
        "pycharm": {
          "metadata": false
        }
      }
    },
    {
      "cell_type": "code",
      "execution_count": 2,
      "outputs": [
        {
          "data": {
            "text/plain": "-1"
          },
          "metadata": {},
          "output_type": "execute_result",
          "execution_count": 2
        }
      ],
      "source": "# 相关系数匹配方法：cv2.TM_CCOEFF\nres \u003d cv2.matchTemplate(img, template, cv2.TM_CCOEFF)\nmin_val, max_val, min_loc, max_loc \u003d cv2.minMaxLoc(res)\n\nleft_top \u003d max_loc  # 左上角\nright_bottom \u003d (left_top[0] + w, left_top[1] + h)  # 右下角\ncv2.rectangle(img, left_top, right_bottom, 255, 2)  # 画出矩形位置\n\ncv2.imshow(\"img\", img)\ncv2.waitKey(0)",
      "metadata": {
        "pycharm": {
          "metadata": false,
          "name": "#%%\n",
          "is_executing": false
        }
      }
    },
    {
      "cell_type": "markdown",
      "source": "![](http://blog.codec.wang/cv2_ccoeff_matching_template.jpg)\n## 原理\n这部分可看可不看，不太理解也没关系，还记得前面的方法吗？不懂得就划掉(✿◕‿◕✿)\n\n模板匹配的原理其实很简单，就是不断地在原图中移动模板图像去比较，有6种不同的比较方法，详情可参考：TemplateMatchModes\n\n- 平方差匹配CV_TM_SQDIFF：用两者的平方差来匹配，最好的匹配值为0\n- 归一化平方差匹配CV_TM_SQDIFF_NORMED\n- 相关匹配CV_TM_CCORR：用两者的乘积匹配，数值越大表明匹配程度越好\n- 归一化相关匹配CV_TM_CCORR_NORMED\n- 相关系数匹配CV_TM_CCOEFF：用两者的相关系数匹配，1表示完美的匹配，-1表示最差的匹配\n- 归一化相关系数匹配CV_TM_CCOEFF_NORMED\n\n归一化的意思就是将值统一到0~1，这些方法的对比代码可到源码处查看。模板匹配也是应用卷积来实现的：假设原图大小为W×H，模板图大小为w×h，那么生成图大小是(W-w+1)×(H-h+1)，生成图中的每个像素值表示原图与模板的匹配程度。\n\n## 匹配多个物体\n前面我们是找最大匹配的点，所以只能匹配一次。我们可以设定一个匹配阈值来匹配多次：",
      "metadata": {
        "pycharm": {
          "metadata": false
        }
      }
    },
    {
      "cell_type": "code",
      "execution_count": 11,
      "outputs": [
        {
          "name": "stdout",
          "text": [
            "(array([ 40,  40,  40,  40,  40,  40,  40,  40,  40,  40,  41,  41,  41,\n        41,  41,  41,  41,  41,  41,  41,  41,  41,  41,  41,  41,  42,\n        42,  42,  42,  42,  42,  42,  42,  42,  42,  42,  42,  42,  42,\n        43,  43,  43,  43,  43,  72,  72,  72,  72,  72,  72,  72,  72,\n        72,  72,  72,  72,  72,  73,  73,  73,  73,  73,  73,  73,  73,\n        73,  73,  73,  73,  73,  73,  73,  73,  73,  73,  73,  73,  73,\n        74,  74,  74,  74,  74,  74,  74,  74,  74,  74,  74,  74,  74,\n        74,  74,  74,  74,  74,  74,  74,  75,  75,  75,  75,  75,  75,\n        75, 104, 105, 105, 105, 105, 105, 105, 105, 106, 106, 106, 106,\n       106, 106, 106], dtype\u003dint64), array([ 69,  70,  83,  84,  97,  98, 111, 112, 125, 126,  68,  69,  70,\n        82,  83,  84,  96,  97,  98, 110, 111, 112, 124, 125, 126,  68,\n        69,  70,  82,  83,  84,  96,  97,  98, 110, 111, 112, 125, 126,\n        69,  83,  97, 111, 125,  54,  55,  69,  83,  84,  97,  98, 111,\n       112, 125, 126, 139, 140,  54,  55,  56,  68,  69,  70,  82,  83,\n        84,  96,  97,  98, 110, 111, 112, 124, 125, 126, 138, 139, 140,\n        54,  55,  56,  68,  69,  70,  82,  83,  84,  96,  97,  98, 110,\n       111, 112, 124, 125, 126, 139, 140,  55,  69,  83,  97, 111, 125,\n       139,  55,  55,  69,  83,  97, 111, 125, 139,  55,  69,  83,  97,\n       111, 125, 139], dtype\u003dint64))\n[ 40  40  40  40  40  40  40  40  40  40  41  41  41  41  41  41  41  41\n  41  41  41  41  41  41  41  42  42  42  42  42  42  42  42  42  42  42\n  42  42  42  43  43  43  43  43  72  72  72  72  72  72  72  72  72  72\n  72  72  72  73  73  73  73  73  73  73  73  73  73  73  73  73  73  73\n  73  73  73  73  73  73  74  74  74  74  74  74  74  74  74  74  74  74\n  74  74  74  74  74  74  74  74  75  75  75  75  75  75  75 104 105 105\n 105 105 105 105 105 106 106 106 106 106 106 106] [ 69  70  83  84  97  98 111 112 125 126  68  69  70  82  83  84  96  97\n  98 110 111 112 124 125 126  68  69  70  82  83  84  96  97  98 110 111\n 112 125 126  69  83  97 111 125  54  55  69  83  84  97  98 111 112 125\n 126 139 140  54  55  56  68  69  70  82  83  84  96  97  98 110 111 112\n 124 125 126 138 139 140  54  55  56  68  69  70  82  83  84  96  97  98\n 110 111 112 124 125 126 139 140  55  69  83  97 111 125 139  55  55  69\n  83  97 111 125 139  55  69  83  97 111 125 139]\n"
          ],
          "output_type": "stream"
        },
        {
          "data": {
            "text/plain": "-1"
          },
          "metadata": {},
          "output_type": "execute_result",
          "execution_count": 11
        }
      ],
      "source": "# 1.读入原图和模板\nimg_rgb \u003d cv2.imread(\u0027mario.jpg\u0027)\nimg_init \u003d np.copy(img_rgb)\nimg_gray \u003d cv2.cvtColor(img_rgb, cv2.COLOR_BGR2GRAY)\ntemplate \u003d cv2.imread(\u0027mario_coin.jpg\u0027, 0)\nh, w \u003d template.shape[:2]\n\n# 2.标准相关模板匹配\nres \u003d cv2.matchTemplate(img_gray, template, cv2.TM_CCOEFF_NORMED)\nthreshold \u003d 0.8 \n\n# 3.这边是Python/Numpy的知识，后面解释\nloc \u003d np.where(res \u003e\u003d threshold)  # 匹配程度大于%80的坐标y,x\nprint(loc)\nprint(*loc)\nfor pt in zip(*loc[::-1]):  # *号表示可选参数\n    right_bottom \u003d (pt[0] + w, pt[1] + h)\n    cv2.rectangle(img_rgb, pt, right_bottom, (0, 0, 255), 2)\n\ncv2.imshow(\"mario\", np.hstack((img_init, img_rgb)))\ncv2.waitKey(0)",
      "metadata": {
        "pycharm": {
          "metadata": false,
          "name": "#%%\n",
          "is_executing": false
        }
      }
    },
    {
      "cell_type": "markdown",
      "source": "![](http://blog.codec.wang/cv2_template_matching_multi.jpg)\n\n第3步有几个Python/Numpy的重要知识，来大致看下：\n\n- np.where()在这里返回res中值大于0.8的所有坐标，如：",
      "metadata": {
        "pycharm": {
          "metadata": false
        }
      }
    },
    {
      "cell_type": "code",
      "execution_count": 8,
      "outputs": [
        {
          "name": "stdout",
          "text": [
            "[[0. 1. 2.]\n [3. 4. 5.]\n [6. 7. 8.]]\n(array([2, 2, 2], dtype\u003dint64), array([0, 1, 2], dtype\u003dint64))\n"
          ],
          "output_type": "stream"
        }
      ],
      "source": "x \u003d np.arange(9.).reshape(3, 3)\nprint(x)\nprint(np.where(x \u003e 5))\n# 结果(先y坐标，再x坐标)：(array([2, 2, 2]), array([0, 1, 2]))\n",
      "metadata": {
        "pycharm": {
          "metadata": false,
          "name": "#%%\n",
          "is_executing": false
        }
      }
    },
    {
      "cell_type": "markdown",
      "source": "![](http://blog.codec.wang/cv2_np_where_function.jpg)\n- zip()函数，功能强大到难以解释，举个简单例子就知道了：\n",
      "metadata": {
        "pycharm": {
          "metadata": false,
          "name": "#%% md\n"
        }
      }
    },
    {
      "cell_type": "code",
      "execution_count": 9,
      "outputs": [
        {
          "name": "stdout",
          "text": [
            "[(1, 4), (2, 5), (3, 6)]\n"
          ],
          "output_type": "stream"
        }
      ],
      "source": "x \u003d [1, 2, 3]\ny \u003d [4, 5, 6]\nprint(list(zip(x, y)))  # [(1, 4), (2, 5), (3, 6)]",
      "metadata": {
        "pycharm": {
          "metadata": false,
          "name": "#%%\n",
          "is_executing": false
        }
      }
    },
    {
      "cell_type": "markdown",
      "source": "这样大家就能理解前面代码的用法了吧：因为loc是先y坐标再x坐标，所以用loc[::-1]翻转一下，然后再用zip函数拼接在一起。\n",
      "metadata": {
        "pycharm": {
          "metadata": false,
          "name": "#%% md\n"
        }
      }
    }
  ],
  "metadata": {
    "language_info": {
      "codemirror_mode": {
        "name": "ipython",
        "version": 2
      },
      "file_extension": ".py",
      "mimetype": "text/x-python",
      "name": "python",
      "nbconvert_exporter": "python",
      "pygments_lexer": "ipython2",
      "version": "2.7.6"
    },
    "kernelspec": {
      "name": "conda-cv",
      "language": "python",
      "display_name": "conda-cv"
    }
  },
  "nbformat": 4,
  "nbformat_minor": 0
}