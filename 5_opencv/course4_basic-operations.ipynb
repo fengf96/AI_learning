{
  "cells": [
    {
      "cell_type": "markdown",
      "metadata": {
        "collapsed": true,
        "pycharm": {
          "name": "#%% md\n"
        }
      },
      "source": "# 目标\n- 访问和修改图片像素点的值\n- 获取图片的宽、高、通道数等属性\n- 了解感兴趣区域ROI\n- 分离和合并图像通道\n\n## 获取和修改像素点值\n我们先读入一张图片："
    },
    {
      "cell_type": "code",
      "source": "import cv2\nimg \u003d cv2.imread(\u0027../resources/opencv/1.jpg\u0027)\n",
      "metadata": {
        "pycharm": {
          "metadata": false,
          "name": "#%% \n",
          "is_executing": false
        }
      },
      "execution_count": 4,
      "outputs": []
    },
    {
      "cell_type": "markdown",
      "source": "通过行列的坐标来获取某像素点的值，对于彩色图，结果是B,G,R三个值的列表，对于灰度图或单通道图，只有一个值：",
      "metadata": {
        "pycharm": {
          "metadata": false
        }
      }
    },
    {
      "cell_type": "code",
      "execution_count": 5,
      "outputs": [
        {
          "name": "stdout",
          "text": [
            "[234 229 198]\n234\n"
          ],
          "output_type": "stream"
        }
      ],
      "source": "px \u003d img[100, 90]\nprint(px)  # [103 98 197]\n\n# 只获取蓝色blue通道的值\npx_blue \u003d img[100, 90, 0]\nprint(px_blue)  # 103\n",
      "metadata": {
        "pycharm": {
          "metadata": false,
          "name": "#%%\n",
          "is_executing": false
        }
      }
    },
    {
      "cell_type": "markdown",
      "source": "还记得吗？行对应y，列对应x，所以其实是img[y, x]，需要注意噢(●ˇ∀ˇ●)。容易混淆的话，可以只记行和列，行在前，列在后。\n\n修改像素的值也是同样的方式：\n",
      "metadata": {
        "pycharm": {
          "metadata": false
        }
      }
    },
    {
      "cell_type": "code",
      "source": "img[100, 90] \u003d [255, 255, 255]\nprint(img[100, 90])  # [255 255 255]",
      "metadata": {
        "pycharm": {
          "metadata": false,
          "name": "#%% \n",
          "is_executing": false
        }
      },
      "execution_count": 6,
      "outputs": [
        {
          "name": "stdout",
          "text": [
            "[255 255 255]\n"
          ],
          "output_type": "stream"
        }
      ]
    },
    {
      "cell_type": "markdown",
      "source": "经验之谈：还有一种性能更好的方式，获取：img.item(100,100,0)，修改：img.itemset((100,100,0),255)，但这种方式只能B,G,R逐一进行。",
      "metadata": {
        "pycharm": {
          "metadata": false
        }
      }
    },
    {
      "cell_type": "markdown",
      "source": "## 图片属性\nimg.shape获取图像的形状，图片是彩色的话，返回一个包含行数（高度）、列数（宽度）和通道数的元组，灰度图只返回行数和列数：\n",
      "metadata": {
        "pycharm": {
          "metadata": false
        }
      }
    },
    {
      "cell_type": "code",
      "execution_count": 7,
      "outputs": [
        {
          "name": "stdout",
          "text": [
            "(339, 500, 3)\n"
          ],
          "output_type": "stream"
        }
      ],
      "source": "print(img.shape)  # (339, 500, 3)\n# 形状中包括行数、列数和通道数\nheight, width, channels \u003d img.shape\n# img是灰度图的话：height, width \u003d img.shape",
      "metadata": {
        "pycharm": {
          "metadata": false,
          "name": "#%%\n",
          "is_executing": false
        }
      }
    },
    {
      "cell_type": "markdown",
      "source": "img.dtype获取图像数据类型：",
      "metadata": {
        "pycharm": {
          "metadata": false,
          "name": "#%% md\n"
        }
      }
    },
    {
      "cell_type": "code",
      "execution_count": 8,
      "outputs": [
        {
          "name": "stdout",
          "text": [
            "uint8\n"
          ],
          "output_type": "stream"
        }
      ],
      "source": "print(img.dtype)  # uint8",
      "metadata": {
        "pycharm": {
          "metadata": false,
          "name": "#%%\n",
          "is_executing": false
        }
      }
    },
    {
      "cell_type": "markdown",
      "source": "经验之谈：多数错误是因为数据类型不对导致的，所以健壮的代码应该对这个属性加以判断。\n\nimg.size获取图像总像素数：",
      "metadata": {
        "pycharm": {
          "metadata": false,
          "name": "#%% md\n"
        }
      }
    },
    {
      "cell_type": "code",
      "execution_count": 9,
      "outputs": [
        {
          "name": "stdout",
          "text": [
            "508500\n"
          ],
          "output_type": "stream"
        }
      ],
      "source": "print(img.size)  # 339*500*3\u003d508500\n",
      "metadata": {
        "pycharm": {
          "metadata": false,
          "name": "#%%\n",
          "is_executing": false
        }
      }
    },
    {
      "cell_type": "markdown",
      "source": "## ROI\nROI：Region of Interest，感兴趣区域。什么意思呢？比如我们要检测眼睛，因为眼睛肯定在脸上，所以我们感兴趣的只有脸这部分，其他都不care，所以可以单独把脸截取出来，这样就可以大大节省计算量，提高运行速度。\n![](http://blog.codec.wang/cv2_lena_face_roi_crop.jpg)\n截取ROI非常简单，指定图片的范围即可（后面我们学了特征后,就可以自动截取辣 (ง •_•)ง：",
      "metadata": {
        "pycharm": {
          "metadata": false
        }
      }
    },
    {
      "cell_type": "code",
      "execution_count": 14,
      "outputs": [
        {
          "data": {
            "text/plain": "-1"
          },
          "metadata": {},
          "output_type": "execute_result",
          "execution_count": 14
        }
      ],
      "source": "# 截取脸部ROI\nface \u003d img[100:300, 15:188]\ncv2.imshow(\u0027part\u0027, face)\ncv2.waitKey(0)",
      "metadata": {
        "pycharm": {
          "metadata": false,
          "name": "#%%\n",
          "is_executing": false
        }
      }
    },
    {
      "cell_type": "markdown",
      "source": "## 通道分割与合并\n彩色图的BGR三个通道是可以分开单独访问的，也可以将单独的三个通道合并成一副图像。分别使用cv2.split()和cv2.merge()：",
      "metadata": {
        "pycharm": {
          "metadata": false
        }
      }
    },
    {
      "cell_type": "code",
      "source": "b, g, r \u003d cv2.split(img)\nimg \u003d cv2.merge((b, g, r))",
      "metadata": {
        "pycharm": {
          "metadata": false,
          "name": "#%% \n",
          "is_executing": false
        }
      },
      "execution_count": 25,
      "outputs": []
    },
    {
      "cell_type": "markdown",
      "source": "split()函数比较耗时，更高效的方式是用numpy中的索引，如提取B通道：",
      "metadata": {
        "pycharm": {
          "metadata": false
        }
      }
    },
    {
      "cell_type": "code",
      "source": "cv2.imshow(\u0027bgr\u0027, img)\nb \u003d img[:, :, 0]\ncv2.imshow(\u0027blue\u0027, b)\ng \u003d img[:, :, 1]\ncv2.imshow(\u0027green\u0027, g)\nr \u003d img[:, :, 2]\ncv2.imshow(\u0027red\u0027, r)\ncv2.waitKey(0)\n",
      "metadata": {
        "pycharm": {
          "metadata": false,
          "name": "#%%\n",
          "is_executing": false
        }
      },
      "execution_count": 26,
      "outputs": [
        {
          "data": {
            "text/plain": "-1"
          },
          "metadata": {},
          "output_type": "execute_result",
          "execution_count": 26
        }
      ]
    },
    {
      "cell_type": "markdown",
      "source": "# 小结\n- img[y,x]获取/设置像素点值，img.shape：图片的形状（行数、列数、通道数）,img.dtype：图像的数据类型。\n- img[y1:y2,x1:x2]进行ROI截取，cv2.split()/cv2.merge()通道分割/合并。更推荐的获取单通道方式：b \u003d img[:, :, 0]。\n",
      "metadata": {
        "pycharm": {
          "metadata": false
        }
      }
    }
  ],
  "metadata": {
    "language_info": {
      "codemirror_mode": {
        "name": "ipython",
        "version": 2
      },
      "file_extension": ".py",
      "mimetype": "text/x-python",
      "name": "python",
      "nbconvert_exporter": "python",
      "pygments_lexer": "ipython2",
      "version": "2.7.6"
    },
    "kernelspec": {
      "name": "pycharm-b977b55f",
      "language": "python",
      "display_name": "PyCharm (OpenCVLearn)"
    }
  },
  "nbformat": 4,
  "nbformat_minor": 0
}