{
  "cells": [
    {
      "cell_type": "markdown",
      "metadata": {
        "collapsed": true,
        "pycharm": {
          "name": "#%% md\n"
        }
      },
      "source": "![](http://blog.codec.wang/cv2_canny_edge_detection_threshold.jpg)\n\n# 目标\n- Canny边缘检测的简单概念\n- OpenCV函数：cv2.Canny()\n\n# 教程\nCanny边缘检测方法常被誉为边缘检测的最优方法，废话不多说，先看个例子："
    },
    {
      "cell_type": "code",
      "source": "import cv2\nimport numpy as np\n  \nimg \u003d cv2.imread(\u0027handwriting.jpg\u0027, 0)\nedges \u003d cv2.Canny(img, 30 ,70)\n\ncv2.imshow(\u0027canny\u0027, np.hstack((img, edges)))\ncv2.waitKey(0)",
      "metadata": {
        "pycharm": {
          "metadata": false,
          "name": "#%% \n",
          "is_executing": false
        }
      },
      "execution_count": 3,
      "outputs": [
        {
          "data": {
            "text/plain": "-1"
          },
          "metadata": {},
          "output_type": "execute_result",
          "execution_count": 3
        }
      ]
    },
    {
      "cell_type": "markdown",
      "source": "![](http://blog.codec.wang/cv2_canny_edge_detection.jpg)\ncv2.Canny()进行边缘检测，参数2、3表示最低、高阈值，下面来解释下具体原理。\n\n经验之谈：之前我们用低通滤波的方式模糊了图片，那反过来，想得到物体的边缘，就需要用到高通滤波。推荐先阅读：番外篇：图像梯度。\n\n## Canny边缘检测\nCanny边缘提取的具体步骤如下：\n1. 使用5×5高斯滤波消除噪声：\n\n边缘检测本身属于锐化操作，对噪点比较敏感，所以需要进行平滑处理。高斯滤波的具体内容参考前一篇：平滑图像\n```\n        ⎡ 1  4  6  4  1 ⎤\n        ⎢ 4 16 24 16  4 ⎥\nK\u003d1/256 ⎢ 6 24 36 24  6 ⎥\n        ⎢ 4 16 24 16  4 ⎥\n        ⎣ 1  4  6  4  1 ⎦\n```\n\n2，计算图像梯度的方向：\n\n首先使用Sobel算子计算两个方向上的梯度Gx和Gy，然后算出梯度的方向：\n\nθ\u003darctan(Gy/Gx)\n\n保留这四个方向的梯度：0°/45°/90°/135°，有什么用呢？我们接着看。\n\n3，取局部极大值：\n\n梯度其实已经表示了轮廓，但为了进一步筛选，可以在上面的四个角度方向上再取局部极大值：\n![](http://blog.codec.wang/cv2_understand_canny_direction.jpg)\n比如，A点在45°方向上大于B/C点，那就保留它，把B/C设置为0。\n\n4，滞后阈值：\n\n经过前面三步，就只剩下0和可能的边缘梯度值了，为了最终确定下来，需要设定高低阈值：\n![](http://blog.codec.wang/cv2_understand_canny_max_min_val.jpg)\n- 像素点的值大于最高阈值，那肯定是边缘（上图A）\n- 同理像素值小于最低阈值，那肯定不是边缘\n- 像素值介于两者之间，如果与高于最高阈值的点连接，也算边缘，所以上图中C算，B不算\n\nCanny推荐的高低阈值比在2:1到3:1之间。\n\n## 先阈值分割后检测\n其实很多情况下，阈值分割后再检测边缘，效果会更好：",
      "metadata": {
        "pycharm": {
          "metadata": false
        }
      }
    },
    {
      "cell_type": "code",
      "execution_count": 4,
      "outputs": [
        {
          "data": {
            "text/plain": "-1"
          },
          "metadata": {},
          "output_type": "execute_result",
          "execution_count": 4
        }
      ],
      "source": "_, thresh \u003d cv2.threshold(img, 0 ,255, cv2.THRESH_BINARY+cv2.THRESH_OTSU)\nedges \u003d cv2.Canny(thresh, 30 ,70)\n\ncv2.imshow(\u0027canny\u0027, np.hstack((img, thresh, edges)))\ncv2.waitKey(0)",
      "metadata": {
        "pycharm": {
          "metadata": false,
          "name": "#%%\n",
          "is_executing": false
        }
      }
    },
    {
      "cell_type": "markdown",
      "source": "代码中我用了番外篇：Otsu阈值法中的自动阈值分割，如果你不太了解，大可以使用传统的方法，不过如果是下面这种图片，推荐用Otsu阈值法。另外Python中某个值不用的话，就写个下划线’_’。\n\n![](http://blog.codec.wang/cv2_canny_edge_detection_threshold.jpg)",
      "metadata": {
        "pycharm": {
          "metadata": false
        }
      }
    },
    {
      "cell_type": "code",
      "execution_count": 1,
      "outputs": [],
      "source": "import cv2\nimport numpy as np\n\n\ndef track_back(x):\n    pass\n\n\nimg \u003d cv2.imread(\u0027sudoku.jpg\u0027, 0)\ncv2.namedWindow(\u0027window\u0027)\n\n# 创建滑动条\ncv2.createTrackbar(\u0027maxVal\u0027, \u0027window\u0027, 100, 255, track_back)\ncv2.createTrackbar(\u0027minVal\u0027, \u0027window\u0027, 200, 255, track_back)\n\nwhile(True):\n    # 获取滑动条的值\n    max_val \u003d cv2.getTrackbarPos(\u0027maxVal\u0027, \u0027window\u0027)\n    min_val \u003d cv2.getTrackbarPos(\u0027minVal\u0027, \u0027window\u0027)\n\n    edges \u003d cv2.Canny(img, min_val, max_val)\n    cv2.imshow(\u0027window\u0027, edges)\n\n    # 按下ESC键退出\n    if cv2.waitKey(30) \u003d\u003d 27:\n        break\n",
      "metadata": {
        "pycharm": {
          "metadata": false,
          "name": "#%%\n",
          "is_executing": false
        }
      }
    }
  ],
  "metadata": {
    "language_info": {
      "codemirror_mode": {
        "name": "ipython",
        "version": 2
      },
      "file_extension": ".py",
      "mimetype": "text/x-python",
      "name": "python",
      "nbconvert_exporter": "python",
      "pygments_lexer": "ipython2",
      "version": "2.7.6"
    },
    "kernelspec": {
      "name": "conda-cv",
      "language": "python",
      "display_name": "conda-cv"
    }
  },
  "nbformat": 4,
  "nbformat_minor": 0
}