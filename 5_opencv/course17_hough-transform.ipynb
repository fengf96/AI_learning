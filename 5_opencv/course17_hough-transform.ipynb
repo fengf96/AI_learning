{
  "cells": [
    {
      "cell_type": "markdown",
      "metadata": {
        "collapsed": true,
        "pycharm": {
          "name": "#%% md\n"
        }
      },
      "source": "# 目标\n- 理解霍夫变换的实现\n- 分别使用霍夫线变换和圆变换检测图像中的直线和圆\n- OpenCV函数：cv2.HoughLines(), cv2.HoughLinesP(), cv2.HoughCircles()\n\n# 教程\n## 理解霍夫变换\n霍夫变换常用来在图像中提取直线和圆等几何形状，我来做个简易的解释：\n![](http://blog.codec.wang/cv2_understand_hough_transform.jpg)\n学过几何的都知道，直线可以分别用直角坐标系和极坐标系来表示：\n![](http://blog.codec.wang/cv2_line_expression_in_coordinate.jpg)\n\n那么经过某个点(x0,y0)的所有直线都可以用这个式子来表示：\n```\nrθ \u003d x0⋅cosθ + y0⋅sinθ\n```\n也就是说每一个(r,θ)都表示一条经过(x0,y0)直线，那么同一条直线上的点必然会有同样的(r,θ)。如果将某个点所有的(r,θ)绘制成下面的曲线，那么同一条直线上的点的(r,θ)曲线会相交于一点：\n![](http://blog.codec.wang/cv2_curve_of_r_theta.jpg)\nOpenCV中首先计算(r,θ) 累加数，累加数超过一定值后就认为在同一直线上。\n\n## 霍夫直线变换\nOpenCV中用cv2.HoughLines()在二值图上实现霍夫变换，函数返回的是一组直线的(r,θ)数据："
    },
    {
      "cell_type": "code",
      "execution_count": 18,
      "outputs": [
        {
          "data": {
            "text/plain": "-1"
          },
          "metadata": {},
          "output_type": "execute_result",
          "execution_count": 18
        }
      ],
      "source": "import cv2\nimport numpy as np\n\n# 1.加载图片，转为二值图\nimg \u003d cv2.imread(\u0027shapes-lines.jpg\u0027)\ndrawing \u003d np.zeros(img.shape[:], dtype\u003dnp.uint8)\nimg_copy \u003d np.copy(img)\ngray \u003d cv2.cvtColor(img, cv2.COLOR_BGR2GRAY)\nedges \u003d cv2.Canny(gray, 50, 150)\n\n# 2.霍夫直线变换\nlines \u003d cv2.HoughLines(edges, 0.8, np.pi/180, 90)\n",
      "metadata": {
        "pycharm": {
          "metadata": false,
          "name": "#%%\n",
          "is_executing": false
        }
      }
    },
    {
      "cell_type": "markdown",
      "source": "函数中：\n- 参数1：要检测的二值图（一般是阈值分割或边缘检测后的图）\n- 参数2：距离r的精度，值越大，考虑越多的线\n- 参数3：角度θ的精度，值越小，考虑越多的线\n- 参数4：累加数阈值，值越小，考虑越多的线",
      "metadata": {
        "pycharm": {
          "metadata": false
        }
      }
    },
    {
      "cell_type": "code",
      "execution_count": 19,
      "outputs": [
        {
          "data": {
            "text/plain": "-1"
          },
          "metadata": {},
          "output_type": "execute_result",
          "execution_count": 19
        }
      ],
      "source": "for line in lines:\n    rho, theta \u003d line[0]\n    a \u003d np.cos(theta)\n    b \u003d np.sin(theta)\n    x0 \u003d a * rho\n    y0 \u003d b * rho\n    x1 \u003d int(x0 + 1000 * (-b))\n    y1 \u003d int(y0 + 1000 * (a))\n    x2 \u003d int(x0 - 1000 * (-b))\n    y2 \u003d int(y0 - 1000 * (a))\n    \n    cv2.line(drawing, (x1, y1), (x2, y2), (0, 0, 255))\n    \ncv2 .imshow(\"hough\", np.hstack((img_copy, drawing)))\ncv2.waitKey(0)",
      "metadata": {
        "pycharm": {
          "metadata": false,
          "name": "#%%\n",
          "is_executing": false
        }
      }
    },
    {
      "cell_type": "markdown",
      "source": "## 统计概率霍夫直线变换\n前面的方法又称为标准霍夫变换，它会计算图像中的每一个点，计算量比较大，另外它得到的是整一条线（r和θ），并不知道原图中直线的端点。所以提出了统计概率霍夫直线变换(Probabilistic Hough Transform)，是一种改进的霍夫变换：",
      "metadata": {
        "pycharm": {
          "metadata": false
        }
      }
    },
    {
      "cell_type": "code",
      "execution_count": 22,
      "outputs": [],
      "source": "drawing \u003d np.zeros(img.shape[:], dtype\u003dnp.uint8)\n# 3.统计概率霍夫线变换\nlines \u003d cv2.HoughLinesP(edges, 0.8, np.pi/180, 90, minLineLength\u003d50, maxLineGap\u003d10)",
      "metadata": {
        "pycharm": {
          "metadata": false,
          "name": "#%%\n",
          "is_executing": false
        }
      }
    },
    {
      "cell_type": "markdown",
      "source": "前面几个参数跟之前的一样，有两个可选参数：\n- minLineLength：最短长度阈值，比这个长度短的线会被排除\n- maxLineGap：同一直线两点之间的最大距离",
      "metadata": {
        "pycharm": {
          "metadata": false
        }
      }
    },
    {
      "cell_type": "code",
      "execution_count": 1,
      "outputs": [
        {
          "traceback": [
            "\u001b[1;31m---------------------------------------------------------------------------\u001b[0m",
            "\u001b[1;31mNameError\u001b[0m                                 Traceback (most recent call last)",
            "\u001b[1;32m\u003cipython-input-1-5458d9a3f3d4\u003e\u001b[0m in \u001b[0;36m\u003cmodule\u003e\u001b[1;34m\u001b[0m\n\u001b[0;32m      1\u001b[0m \u001b[1;31m# 3.将检测的线画出来\u001b[0m\u001b[1;33m\u001b[0m\u001b[1;33m\u001b[0m\u001b[0m\n\u001b[1;32m----\u003e 2\u001b[1;33m \u001b[1;32mfor\u001b[0m \u001b[0mline\u001b[0m \u001b[1;32min\u001b[0m \u001b[0mlines\u001b[0m\u001b[1;33m:\u001b[0m\u001b[1;33m\u001b[0m\u001b[0m\n\u001b[0m\u001b[0;32m      3\u001b[0m     \u001b[0mx1\u001b[0m\u001b[1;33m,\u001b[0m \u001b[0my1\u001b[0m\u001b[1;33m,\u001b[0m \u001b[0mx2\u001b[0m\u001b[1;33m,\u001b[0m \u001b[0my2\u001b[0m \u001b[1;33m\u003d\u001b[0m \u001b[0mline\u001b[0m\u001b[1;33m[\u001b[0m\u001b[1;36m0\u001b[0m\u001b[1;33m]\u001b[0m\u001b[1;33m\u001b[0m\u001b[0m\n\u001b[0;32m      4\u001b[0m     \u001b[0mcv2\u001b[0m\u001b[1;33m.\u001b[0m\u001b[0mline\u001b[0m\u001b[1;33m(\u001b[0m\u001b[0mdrawing\u001b[0m\u001b[1;33m,\u001b[0m \u001b[1;33m(\u001b[0m\u001b[0mx1\u001b[0m\u001b[1;33m,\u001b[0m \u001b[0my1\u001b[0m\u001b[1;33m)\u001b[0m\u001b[1;33m,\u001b[0m \u001b[1;33m(\u001b[0m\u001b[0mx2\u001b[0m\u001b[1;33m,\u001b[0m \u001b[0my2\u001b[0m\u001b[1;33m)\u001b[0m\u001b[1;33m,\u001b[0m \u001b[1;33m(\u001b[0m\u001b[1;36m0\u001b[0m\u001b[1;33m,\u001b[0m \u001b[1;36m255\u001b[0m\u001b[1;33m,\u001b[0m \u001b[1;36m0\u001b[0m\u001b[1;33m)\u001b[0m\u001b[1;33m,\u001b[0m \u001b[1;36m1\u001b[0m\u001b[1;33m,\u001b[0m \u001b[0mlineType\u001b[0m\u001b[1;33m\u003d\u001b[0m\u001b[0mcv2\u001b[0m\u001b[1;33m.\u001b[0m\u001b[0mLINE_AA\u001b[0m\u001b[1;33m)\u001b[0m\u001b[1;33m\u001b[0m\u001b[0m\n\u001b[0;32m      5\u001b[0m \u001b[0mcv2\u001b[0m\u001b[1;33m.\u001b[0m\u001b[0mimshow\u001b[0m\u001b[1;33m(\u001b[0m\u001b[1;34m\"drawing\"\u001b[0m\u001b[1;33m,\u001b[0m \u001b[0mdrawing\u001b[0m\u001b[1;33m)\u001b[0m\u001b[1;33m\u001b[0m\u001b[0m\n",
            "\u001b[1;31mNameError\u001b[0m: name \u0027lines\u0027 is not defined"
          ],
          "ename": "NameError",
          "evalue": "name \u0027lines\u0027 is not defined",
          "output_type": "error"
        }
      ],
      "source": "# 3.将检测的线画出来\nfor line in lines:\n    x1, y1, x2, y2 \u003d line[0]\n    cv2.line(drawing, (x1, y1), (x2, y2), (0, 255, 0), 1, lineType\u003dcv2.LINE_AA)\ncv2.imshow(\"drawing\", drawing)\ncv2.waitKey(0)",
      "metadata": {
        "pycharm": {
          "metadata": false,
          "name": "#%%\n",
          "is_executing": false
        }
      }
    },
    {
      "cell_type": "markdown",
      "source": "cv2.LINE_AA在之前绘图功能中讲解过，表示抗锯齿线型。\n![](http://blog.codec.wang/cv2_hough_lines_p_function.jpg)\n\n## 霍夫圆变换\n霍夫圆变换跟直线变换类似，只不过线是用(r,θ)表示，圆是用(x_center,y_center,r)来表示，从二维变成了三维，数据量变大了很多；所以一般使用霍夫梯度法减少计算量，对该算法感兴趣的同学可参考：Circle Hough Transform",
      "metadata": {
        "pycharm": {
          "metadata": false
        }
      }
    },
    {
      "cell_type": "code",
      "execution_count": 24,
      "outputs": [],
      "source": "drawing \u003d np.zeros(img.shape[:], dtype\u003dnp.uint8)\n\ncircles \u003d cv2.HoughCircles(edges, cv2.HOUGH_GRADIENT, 1, 20, param2\u003d30)",
      "metadata": {
        "pycharm": {
          "metadata": false,
          "name": "#%%\n",
          "is_executing": false
        }
      }
    },
    {
      "cell_type": "markdown",
      "source": "其中，\n- 参数2：变换方法，一般使用霍夫梯度法，详情：HoughModes\n- 参数3 dp\u003d1：表示霍夫梯度法中累加器图像的分辨率与原图一致\n- 参数4：两个不同圆圆心的最短距离\n- 参数5：param2跟霍夫直线变换中的累加数阈值一样",
      "metadata": {
        "pycharm": {
          "metadata": false
        }
      }
    },
    {
      "cell_type": "code",
      "execution_count": 25,
      "outputs": [
        {
          "data": {
            "text/plain": "-1"
          },
          "metadata": {},
          "output_type": "execute_result",
          "execution_count": 25
        }
      ],
      "source": "# 将检测的圆画出来\nfor i in circles[0, :]:\n    cv2.circle(drawing, (i[0], i[1]), i[2], (0, 255, 0), 2)  # 画出外圆\n    cv2.circle(drawing, (i[0], i[1]), 2, (0, 0, 255), 3)  # 画出圆心\ncv2.imshow(\u0027circles\u0027, drawing)\ncv2.waitKey(0)",
      "metadata": {
        "pycharm": {
          "metadata": false,
          "name": "#%%\n",
          "is_executing": false
        }
      }
    },
    {
      "cell_type": "markdown",
      "source": "# 小结\n- 霍夫变换用来提取图像中的直线和圆等几何形状\n- 霍夫直线变换：cv2.HoughLines()（整条直线）, cv2.HoughLinesP()\n- 霍夫圆变换：cv2.HoughCircles()\n",
      "metadata": {
        "pycharm": {
          "metadata": false
        }
      }
    }
  ],
  "metadata": {
    "language_info": {
      "codemirror_mode": {
        "name": "ipython",
        "version": 2
      },
      "file_extension": ".py",
      "mimetype": "text/x-python",
      "name": "python",
      "nbconvert_exporter": "python",
      "pygments_lexer": "ipython2",
      "version": "2.7.6"
    },
    "kernelspec": {
      "name": "conda-cv",
      "language": "python",
      "display_name": "conda-cv"
    }
  },
  "nbformat": 4,
  "nbformat_minor": 0
}