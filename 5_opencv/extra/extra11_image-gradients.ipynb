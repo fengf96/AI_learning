{
  "cells": [
    {
      "cell_type": "markdown",
      "metadata": {
        "collapsed": true,
        "pycharm": {
          "name": "#%% md\n"
        }
      },
      "source": "# 图像梯度\n如果你还记得高数中用一阶导数来求极值的话，就很容易理解了：把图片想象成连续函数，因为边缘部分的像素值是与旁边像素明显有区别的，所以对图片局部求极值，就可以得到整幅图片的边缘信息了。不过图片是二维的离散函数，导数就变成了差分，这个差分就称为图像的梯度。\n\n当然，大部分人应该是早忘记高数了(￣▽￣)”，所以看不懂的话，就把上面的解释划掉，我们重新从卷积的角度来看看。\n\n## 垂直边缘提取\n滤波是应用卷积来实现的，卷积的关键就是卷积核，我们来考察下面这个卷积核\n```   \n      ⎡ −1  0  1 ⎤\nk1 \u003d  ⎢ −2  0  2 ⎥\n      ⎣ −1  0  1 ⎦\n ```  \n这个核是用来提取图片中的垂直边缘的，怎么做到的呢？看下图\n![](http://blog.codec.wang/cv2_understand_sobel_edge_detection.jpg)\n当前列左右两侧的元素进行差分，由于边缘的值明显小于（或大于）周边像素，所以边缘的差分结果会明显不同，这样就提取出了垂直边缘。同理，把上面那个矩阵转置一下，就是提取水平边缘。这种差分操作就称为图像的梯度计算：\n```   \n      ⎡ −1 −2  -1 ⎤\nk2 \u003d  ⎢  0  0   0  ⎥\n      ⎣  1  2   1  ⎦\n ```\n ![](http://blog.codec.wang/cv2_horizen_vertical_edge_detection.jpg)\n   \n 还记得滤波函数cv2.filter2D()吗？（番外篇：卷积基础）我们来手动实现上面的功能"
    },
    {
      "cell_type": "code",
      "execution_count": 2,
      "outputs": [
        {
          "data": {
            "text/plain": "-1"
          },
          "metadata": {},
          "output_type": "execute_result",
          "execution_count": 2
        }
      ],
      "source": "import cv2\nimport numpy as np\nimg \u003d cv2.imread(\u0027sudoku.jpg\u0027, 0)\n\n# 自己进行垂直边缘提取\nkernel \u003d np.array([[-1, 0, 1],\n                   [-2, 0, 2],\n                   [-1, 0, 1]], dtype\u003dnp.float32)\ndst_v \u003d cv2.filter2D(img, -1, kernel)\n# 自己进行水平边缘提取\ndst_h \u003d cv2.filter2D(img, -1, kernel.T)\n# 横向并排对比显示\ncv2.imshow(\u0027edge\u0027, np.hstack((img, dst_v, dst_h)))\ncv2.waitKey(0)",
      "metadata": {
        "pycharm": {
          "metadata": false,
          "name": "#%%\n",
          "is_executing": false
        }
      }
    },
    {
      "cell_type": "markdown",
      "source": "Sobel算子\n上面的这种差分方法就叫Sobel算子，它先在垂直方向计算梯度Gx\u003dk1×src，再在水平方向计算梯度Gy\u003dk2×src，最后求出总梯度：\n ```\n      _________\nG \u003d √Gx^2+Gy^2\n```\n我们可以把前面的代码用Sobel算子更简单地实现：",
      "metadata": {
        "pycharm": {
          "metadata": false
        }
      }
    },
    {
      "cell_type": "code",
      "execution_count": 3,
      "outputs": [],
      "source": "sobelx \u003d cv2.Sobel(img, -1, 1, 0, ksize\u003d3)  # 只计算x方向\nsobely \u003d cv2.Sobel(img, -1, 0, 1, ksize\u003d3)  # 只计算y方向",
      "metadata": {
        "pycharm": {
          "metadata": false,
          "name": "#%%\n",
          "is_executing": false
        }
      }
    },
    {
      "cell_type": "markdown",
      "source": "经验之谈：很多人疑问，Sobel算子的卷积核这几个值是怎么来的呢？事实上，并没有规定，你可以用你自己的。\n\n比如，最初只利用领域间的原始差值来检测边缘的Prewitt算子：\n```\n    ⎡ −1 0 1 ⎤\nK \u003d ⎢ −1 0 1 ⎥\n    ⎣ −1 0 1 ⎦\n```\n还有比Sobel更好用的Scharr算子，大家可以了解下：\n```\n    ⎡ −3  0  3  ⎤\nK \u003d ⎢ −10 0  10 ⎥\n    ⎣ −3  0  3  ⎦\n```\n这些算法都是一阶边缘检测的代表，网上也有算子之间的对比资料，有兴趣的可参考引用。\n\n## Laplacian算子\n高数中用一阶导数求极值，在这些极值的地方，二阶导数为0，所以也可以通过求二阶导计算梯度：dst\u003d∂^f2/∂x^2 + ∂f^2/∂y^2\n一维的一阶和二阶差分公式分别为：\n\n∂f/∂x \u003d f(x+1) − f(x)\n\n∂f^2/∂x^2 \u003d f(x+1) + f(x−1)− 2f(x)\n\n提取前面的系数，那么一维的Laplacian滤波核是：\n\n K \u003d [ 1 −2 1 ]\n \n而对于二维函数f(x,y)，两个方向的二阶差分分别是：\n\n∂f^2/∂x^2 \u003d f(x+1,y) + f(x−1,y)− 2f(x,y)\n\n∂f^2/∂y^2 \u003d f(x,y+1) + f(x,y−1)− 2f(x,y)\n\n合在一起就是：\n\n▽^2f(x,y) \u003d f(x+1,y) + f(x−1,y) + f(x,y+1) + f(x,y−1) − 4f(x,y)\n\n同样提取前面的系数，那么二维的Laplacian滤波核就是：\n```\n    ⎡ 0   1   0 ⎤\nK \u003d ⎢ 1  -4   1 ⎥\n    ⎣ 0   1   0 ⎦\n```\n这就是Laplacian算子的图像卷积模板，有些资料中在此基础上考虑斜对角情况，将卷积核拓展为：\n```\n    ⎡ 1   1   1 ⎤\nK \u003d ⎢ 1  -8   1 ⎥\n    ⎣ 1   1   1 ⎦\n```\nOpenCV中直接使用cv2.Laplacian()函数：",
      "metadata": {
        "pycharm": {
          "metadata": false
        }
      }
    },
    {
      "cell_type": "code",
      "execution_count": 4,
      "outputs": [],
      "source": "laplacian \u003d cv2.Laplacian(img, -1)  # 使用Laplacian算子",
      "metadata": {
        "pycharm": {
          "metadata": false,
          "name": "#%%\n",
          "is_executing": false
        }
      }
    },
    {
      "cell_type": "markdown",
      "source": "![](http://blog.codec.wang/cv2_laplacian.jpg)\nLaplacian算子是二阶边缘检测的典型代表，一/二阶边缘检测各有优缺点，大家可自行了解。",
      "metadata": {
        "pycharm": {
          "metadata": false
        }
      }
    }
  ],
  "metadata": {
    "language_info": {
      "codemirror_mode": {
        "name": "ipython",
        "version": 2
      },
      "file_extension": ".py",
      "mimetype": "text/x-python",
      "name": "python",
      "nbconvert_exporter": "python",
      "pygments_lexer": "ipython2",
      "version": "2.7.6"
    },
    "kernelspec": {
      "name": "conda-cv",
      "language": "python",
      "display_name": "conda-cv"
    }
  },
  "nbformat": 4,
  "nbformat_minor": 0
}