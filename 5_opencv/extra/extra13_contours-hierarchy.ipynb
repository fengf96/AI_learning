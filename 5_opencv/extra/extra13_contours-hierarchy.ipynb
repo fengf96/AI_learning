{
  "cells": [
    {
      "cell_type": "markdown",
      "metadata": {
        "collapsed": true,
        "pycharm": {
          "name": "#%% md\n"
        }
      },
      "source": "前面我们使用cv2.findContours()寻找轮廓时，参数3表示轮廓的寻找方式(RetrievalModes)，当时我们传入的是cv2.RETR_TREE，它表示什么意思呢？另外，函数返回值hierarchy有什么用途呢？下面我们就来研究下这两个问题。\n\n## 理解轮廓层级\n很多情况下，图像中的形状之间是有关联的，比如说下图：\n![](http://blog.codec.wang/cv2_understand_hierarchy.jpg)\n图中总共有8条轮廓，2和2a分别表示外层和里层的轮廓，3和3a也是一样。从图中看得出来：\n- 轮廓0/1/2是最外层的轮廓，我们可以说它们处于同一轮廓等级：0级\n- 轮廓2a是轮廓2的子轮廓，反过来说2是2a的父轮廓，轮廓2a算一个等级：1级\n- 同样3是2a的子轮廓，轮廓3处于一个等级：2级\n- 类似的，3a是3的子轮廓，等等…………\n\n这里面OpenCV关注的就是两个概念：同一轮廓等级和轮廓间的子属关系。\n\n## OpenCV中轮廓等级的表示\n如果我们打印出cv2.findContours()函数的返回值hierarchy，会发现它是一个包含4个值的数组：[Next, Previous, First Child, Parent]\n\n- Next：与当前轮廓处于同一层级的下一条轮廓\n举例来说，前面图中跟0处于同一层级的下一条轮廓是1，所以Next\u003d1；同理，对轮廓1来说，Next\u003d2；那么对于轮廓2呢？没有与它同一层级的下一条轮廓了，此时Next\u003d-1。\n\n- Previous：与当前轮廓处于同一层级的上一条轮廓\n跟前面一样，对于轮廓1来说，Previous\u003d0；对于轮廓2，Previous\u003d1；对于轮廓0，没有上一条轮廓了，所以Previous\u003d-1。\n\n- First Child：当前轮廓的第一条子轮廓\n比如对于轮廓2，第一条子轮廓就是轮廓2a，所以First Child\u003d2a；对轮廓3a，First Child\u003d4。\n\n- Parent：当前轮廓的父轮廓\n比如2a的父轮廓是2，Parent\u003d2；轮廓2没有父轮廓，所以Parent\u003d-1。\n\n下面我们通过代码验证一下："
    },
    {
      "cell_type": "code",
      "execution_count": 1,
      "outputs": [
        {
          "name": "stdout",
          "text": [
            "8 [[[ 6 -1  1 -1]\n  [-1 -1  2  0]\n  [-1 -1  3  1]\n  [-1 -1  4  2]\n  [ 5 -1 -1  3]\n  [-1  4 -1  3]\n  [ 7  0 -1 -1]\n  [-1  6 -1 -1]]]\n"
          ],
          "output_type": "stream"
        },
        {
          "data": {
            "text/plain": "-1"
          },
          "metadata": {},
          "output_type": "execute_result",
          "execution_count": 1
        }
      ],
      "source": "import cv2\n\n# 1.读入图片\nimg \u003d cv2.imread(\u0027hierarchy.jpg\u0027)\nimg_gray \u003d cv2.cvtColor(img, cv2.COLOR_BGR2GRAY)\n_, thresh \u003d cv2.threshold(img_gray, 0, 255, cv2.THRESH_BINARY + cv2.THRESH_OTSU)\n\n# 2.寻找轮廓\nimage, contours, hierarchy \u003d cv2.findContours(thresh, cv2.RETR_TREE, 2)\n\n# 3.绘制轮廓\nprint(len(contours), hierarchy)\ncv2.drawContours(img, contours, -1, (0, 0, 255), 2)\n\ncv2.imshow(\"1\", img)\ncv2.waitKey(0)",
      "metadata": {
        "pycharm": {
          "metadata": false,
          "name": "#%%\n",
          "is_executing": false
        }
      }
    },
    {
      "cell_type": "markdown",
      "source": "经验之谈：OpenCV中找到的轮廓序号跟前面讲的不同噢，如下图\n\n![](http://blog.codec.wang/cv2_hierarchy_RETR_TREE.jpg)\n\n现在既然我们了解了层级的概念，那么类似cv2.RETR_TREE的轮廓寻找方式又是啥意思呢？\n\n## 轮廓寻找方式\nOpenCV中有四种轮廓寻找方式RetrievalModes，下面分别来看下：\n### 1. RETR_LIST\n这是最简单的一种寻找方式，它不建立轮廓间的子属关系，也就是所有轮廓都属于同一层级。这样，hierarchy中的后两个值[First Child, Parent]都为-1。比如同样的图，我们使用cv2.RETR_LIST来寻找轮廓：",
      "metadata": {
        "pycharm": {
          "metadata": false
        }
      }
    },
    {
      "cell_type": "code",
      "source": "_, _, hierarchy \u003d cv2.findContours(thresh, cv2.RETR_LIST, 2)\nprint(hierarchy)",
      "metadata": {
        "pycharm": {
          "metadata": false,
          "name": "#%%\n",
          "is_executing": false
        }
      },
      "execution_count": 2,
      "outputs": [
        {
          "name": "stdout",
          "text": [
            "[[[ 1 -1 -1 -1]\n  [ 2  0 -1 -1]\n  [ 3  1 -1 -1]\n  [ 4  2 -1 -1]\n  [ 5  3 -1 -1]\n  [ 6  4 -1 -1]\n  [ 7  5 -1 -1]\n  [-1  6 -1 -1]]]\n"
          ],
          "output_type": "stream"
        }
      ]
    },
    {
      "cell_type": "markdown",
      "source": "因为没有从属关系，所以轮廓0的下一条是1，1的下一条是2……\n\n经验之谈：如果你不需要轮廓层级信息的话，cv2.RETR_LIST更推荐使用，因为性能更好。\n\n### 2. RETR_TREE\ncv2.RETR_TREE就是之前我们一直在使用的方式，它会完整建立轮廓的层级从属关系，前面已经详细说明过了。\n\n### 3. RETR_EXTERNAL\n这种方式只寻找最高层级的轮廓，也就是它只会找到前面我们所说的3条0级轮廓：",
      "metadata": {
        "pycharm": {
          "metadata": false
        }
      }
    },
    {
      "cell_type": "code",
      "execution_count": 3,
      "outputs": [
        {
          "name": "stdout",
          "text": [
            "3\n[[[ 1 -1 -1 -1]\n  [ 2  0 -1 -1]\n  [-1  1 -1 -1]]]\n"
          ],
          "output_type": "stream"
        }
      ],
      "source": "_, contours, hierarchy \u003d cv2.findContours(thresh, cv2.RETR_EXTERNAL, 2)\nprint(len(contours), hierarchy, sep\u003d\u0027\\n\u0027)",
      "metadata": {
        "pycharm": {
          "metadata": false,
          "name": "#%%\n",
          "is_executing": false
        }
      }
    },
    {
      "cell_type": "markdown",
      "source": "![](http://blog.codec.wang/cv2_hierarchy_RETR_EXTERNAL.jpg)",
      "metadata": {
        "pycharm": {
          "metadata": false
        }
      }
    },
    {
      "cell_type": "markdown",
      "source": "### 4. RETR_CCOMP\n相比之下cv2.RETR_CCOMP比较难理解，但其实也很简单：它把所有的轮廓只分为2个层级，不是外层的就是里层的。结合代码和图片，我们来理解下：",
      "metadata": {
        "pycharm": {
          "metadata": false
        }
      }
    },
    {
      "cell_type": "code",
      "execution_count": 4,
      "outputs": [
        {
          "name": "stdout",
          "text": [
            "[[[ 1 -1 -1 -1]\n  [ 2  0 -1 -1]\n  [ 4  1  3 -1]\n  [-1 -1 -1  2]\n  [ 6  2  5 -1]\n  [-1 -1 -1  4]\n  [ 7  4 -1 -1]\n  [-1  6 -1 -1]]]\n"
          ],
          "output_type": "stream"
        }
      ],
      "source": "_, contours, hierarchy \u003d cv2.findContours(thresh, cv2.RETR_CCOMP, 2)\nprint(hierarchy)",
      "metadata": {
        "pycharm": {
          "metadata": false,
          "name": "#%%\n",
          "is_executing": false
        }
      }
    },
    {
      "cell_type": "markdown",
      "source": "![](http://blog.codec.wang/cv2_hierarchy_RETR_CCOMP.jpg)",
      "metadata": {
        "pycharm": {
          "metadata": false
        }
      }
    },
    {
      "cell_type": "markdown",
      "source": "注意：使用这个参数找到的轮廓序号与之前不同。\n\n图中括号里面1代表外层轮廓，2代表里层轮廓。比如说对于轮廓2，Next就是4，Previous是1，它有里层的轮廓3，所以First Child\u003d3，但因为只有两个层级，它本身就是外层轮廓，所以Parent\u003d-1。大家可以针对其他的轮廓自己验证一下。\n",
      "metadata": {
        "pycharm": {
          "metadata": false
        }
      }
    }
  ],
  "metadata": {
    "language_info": {
      "codemirror_mode": {
        "name": "ipython",
        "version": 2
      },
      "file_extension": ".py",
      "mimetype": "text/x-python",
      "name": "python",
      "nbconvert_exporter": "python",
      "pygments_lexer": "ipython2",
      "version": "2.7.6"
    },
    "kernelspec": {
      "name": "conda-cv",
      "language": "python",
      "display_name": "conda-cv"
    }
  },
  "nbformat": 4,
  "nbformat_minor": 0
}