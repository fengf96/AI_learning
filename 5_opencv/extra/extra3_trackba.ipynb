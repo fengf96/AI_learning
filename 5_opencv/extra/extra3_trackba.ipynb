{
  "cells": [
    {
      "cell_type": "markdown",
      "metadata": {
        "collapsed": true,
        "pycharm": {
          "name": "#%% md\n"
        }
      },
      "source": "## 滑动条的使用\n首先我们需要创建一个滑动条，如cv2.createTrackbar(\u0027R\u0027,\u0027image\u0027,0,255,call_back)，其中\n- 参数1：滑动条的名称\n- 参数2：所在窗口的名称\n- 参数3：当前的值\n- 参数4：最大值\n- 参数5：回调函数名称，回调函数默认有一个表示当前值的参数\n创建好之后，可以在回调函数中获取滑动条的值，也可以用：cv2.getTrackbarPos()得到，其中，参数1是滑动条的名称，参数2是窗口的名称。\n\n## RGB调色板\n下面我们实现一个RGB的调色板，理解下滑动条的用法："
    },
    {
      "cell_type": "code",
      "execution_count": 1,
      "outputs": [],
      "source": "import cv2\nimport numpy as np\n\ndef nothing(x):\n    pass\n\nimg \u003d np.zeros((300, 512, 3), np.uint8)\ncv2.namedWindow(\u0027image\u0027)\n\ncv2.createTrackbar(\u0027R\u0027, \u0027image\u0027, 0, 255, nothing)\ncv2.createTrackbar(\u0027G\u0027, \u0027image\u0027, 0, 255, nothing)\ncv2.createTrackbar(\u0027B\u0027, \u0027image\u0027, 0, 255, nothing)\n\nwhile True:\n    cv2.imshow(\u0027image\u0027, img)\n    if cv2.waitKey(1) \u003d\u003d 27:\n        break\n        \n    r \u003d cv2.getTrackbarPos(\u0027R\u0027, \u0027image\u0027)\n    g \u003d cv2.getTrackbarPos(\u0027G\u0027, \u0027image\u0027)\n    b \u003d cv2.getTrackbarPos(\u0027B\u0027, \u0027image\u0027)\n    \n    img[:] \u003d [b, g, r]",
      "metadata": {
        "pycharm": {
          "metadata": false,
          "name": "#%%\n",
          "is_executing": false
        }
      }
    },
    {
      "cell_type": "markdown",
      "source": "# 小结\ncv2.createTrackbar()用来创建滑动条，可以在回调函数中或使用cv2.getTrackbarPos()得到滑块的位置\n",
      "metadata": {
        "pycharm": {
          "metadata": false
        }
      }
    }
  ],
  "metadata": {
    "language_info": {
      "codemirror_mode": {
        "name": "ipython",
        "version": 2
      },
      "file_extension": ".py",
      "mimetype": "text/x-python",
      "name": "python",
      "nbconvert_exporter": "python",
      "pygments_lexer": "ipython2",
      "version": "2.7.6"
    },
    "kernelspec": {
      "name": "conda-cv",
      "language": "python",
      "display_name": "conda-cv"
    }
  },
  "nbformat": 4,
  "nbformat_minor": 0
}