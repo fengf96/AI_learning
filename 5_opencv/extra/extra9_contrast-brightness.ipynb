{
  "cells": [
    {
      "cell_type": "markdown",
      "metadata": {
        "collapsed": true,
        "pycharm": {
          "name": "#%% md\n"
        }
      },
      "source": "# 亮度与对比度\n亮度调整是将图像像素的强度整体变大/变小，对比度调整指的是图像暗处的像素强度变低，亮出的变高，从而拓宽某个区域内的显示精度。\n\nOpenCV中亮度和对比度应用这个公式来计算：g(x)\u003dαf(x)+β，其中：α(\u003e0)、β常称为增益与偏置值，分别控制图片的对比度和亮度。\n\n经验之谈：此处对α/β控制对比度和亮度有争议，具体请参考：OpenCV关于对比度和亮度的误解。"
    },
    {
      "cell_type": "code",
      "execution_count": 1,
      "outputs": [
        {
          "data": {
            "text/plain": "-1"
          },
          "metadata": {},
          "output_type": "execute_result",
          "execution_count": 1
        }
      ],
      "source": "import cv2\nimport numpy as np \nimg \u003d cv2.imread(\u0027lena.jpg\u0027)\n# 此处需注意，请参考后面的解释\nres \u003d np.uint8(np.clip((1.5 * img + 10), 0, 255))\ntmp \u003d np.hstack((img, res))  # 两张图片横向合并（便于对比显示）\n\ncv2.imshow(\u0027image\u0027, tmp)\ncv2.waitKey(0)",
      "metadata": {
        "pycharm": {
          "metadata": false,
          "name": "#%%\n",
          "is_executing": false
        }
      }
    },
    {
      "cell_type": "markdown",
      "source": "还记得图像混合那一节中numpy对数据溢出的取模处理吗？250+10 \u003d 260 \u003d\u003e 260%256\u003d4，它并不适用于我们的图像处理，所以用np.clip()函数将数据限定：a\u003c0 \u003d\u003e a\u003d0, a\u003e255 \u003d\u003e a\u003d255。\n![](http://blog.codec.wang/cv2_contrast_brightness.jpg)",
      "metadata": {
        "pycharm": {
          "metadata": false
        }
      }
    }
  ],
  "metadata": {
    "language_info": {
      "codemirror_mode": {
        "name": "ipython",
        "version": 2
      },
      "file_extension": ".py",
      "mimetype": "text/x-python",
      "name": "python",
      "nbconvert_exporter": "python",
      "pygments_lexer": "ipython2",
      "version": "2.7.6"
    },
    "kernelspec": {
      "name": "conda-cv",
      "language": "python",
      "display_name": "conda-cv"
    }
  },
  "nbformat": 4,
  "nbformat_minor": 0
}