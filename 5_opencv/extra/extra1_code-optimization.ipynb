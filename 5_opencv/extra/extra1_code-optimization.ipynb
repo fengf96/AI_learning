{
  "cells": [
    {
      "cell_type": "markdown",
      "metadata": {
        "collapsed": true,
        "pycharm": {
          "name": "#%% md\n"
        }
      },
      "source": "完成一项任务很重要，高效地完成更重要。图像处理是对矩阵的操作，数据量巨大。如果代码写的不好，性能差距将很大，所以这节我们来了解下如何评估和提升代码性能。\n## 评估代码运行时间"
    },
    {
      "cell_type": "code",
      "execution_count": 9,
      "outputs": [
        {
          "name": "stdout",
          "text": [
            "0.1666474\n"
          ],
          "output_type": "stream"
        }
      ],
      "source": "import cv2\n\nstart \u003d cv2.getTickCount()\n# 这里写测试代码...\ns\u003d[]\nfor i in range(1000):\n    s.append(i)\n    for i in range(1000):\n        s.append(i)\n        \nend \u003d cv2.getTickCount()\nprint((end - start) / cv2.getTickFrequency())\n",
      "metadata": {
        "pycharm": {
          "metadata": false,
          "name": "#%%\n",
          "is_executing": false
        }
      }
    },
    {
      "cell_type": "markdown",
      "source": "这段代码就是用来测量程序运行时间的（单位：s），其中cv2.getTickCount()函数得到电脑启动以来的时钟周期数，cv2.getTickFrequency()返回你电脑的主频，前后相减再除以主频就是你代码的运行时间（这样解释并不完全准确，但能理解就行）。另外，也可以用Python中的time模块计时：",
      "metadata": {
        "pycharm": {
          "metadata": false
        }
      }
    },
    {
      "cell_type": "code",
      "execution_count": 12,
      "outputs": [
        {
          "name": "stdout",
          "text": [
            "0.15765790000000024\n"
          ],
          "output_type": "stream"
        }
      ],
      "source": "import time\n\nstart \u003d time.clock()\n# 这里写测试代码...\ns\u003d[]\nfor i in range(1000):\n    s.append(i)\n    for i in range(1000):\n        s.append(i)\n        \nend \u003d time.clock()\nprint(end - start)",
      "metadata": {
        "pycharm": {
          "metadata": false,
          "name": "#%%\n",
          "is_executing": false
        }
      }
    },
    {
      "cell_type": "markdown",
      "source": "经验之谈：如果你使用的是IPython或Jupyter Notebook开发环境，性能分析将会非常方便，详情请参考：Timing and Profiling in IPython\n\n## 优化原则\n数据元素少时用Python语法，数据元素多时用Numpy：",
      "metadata": {
        "pycharm": {
          "metadata": false
        }
      }
    },
    {
      "cell_type": "code",
      "execution_count": null,
      "outputs": [],
      "source": "import numpy as np\nx \u003d 10\nz \u003d np.uint8([10])\n\n# 尝试比较下面三句话各自的运行时间\ny \u003d x * x * x   # (1.6410249677846285e-06)\ny \u003d x**3        # (2.461537451676943e-06)\ny \u003d z * z * z   # 最慢 (3.1179474387907945e-05)",
      "metadata": {
        "pycharm": {
          "metadata": false,
          "name": "#%%\n"
        }
      }
    },
    {
      "cell_type": "markdown",
      "source": "所以Numpy的运行速度并不一定比Python本身语法快，元素数量较少时，请用Python本身格式。\n\n- 尽量避免使用循环，尤其嵌套循环，因为极其慢！！！\n- 优先使用OpenCV/Numpy中封装好的函数\n- 尽量将数据向量化，变成Numpy的数据格式\n- 尽量避免数组的复制操作\n",
      "metadata": {
        "pycharm": {
          "metadata": false
        }
      }
    }
  ],
  "metadata": {
    "language_info": {
      "codemirror_mode": {
        "name": "ipython",
        "version": 2
      },
      "file_extension": ".py",
      "mimetype": "text/x-python",
      "name": "python",
      "nbconvert_exporter": "python",
      "pygments_lexer": "ipython2",
      "version": "2.7.6"
    },
    "kernelspec": {
      "name": "anaconda",
      "language": "python",
      "display_name": "Anaconda"
    }
  },
  "nbformat": 4,
  "nbformat_minor": 0
}