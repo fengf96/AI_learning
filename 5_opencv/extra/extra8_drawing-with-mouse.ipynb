{
  "cells": [
    {
      "cell_type": "markdown",
      "metadata": {
        "collapsed": true,
        "pycharm": {
          "name": "#%% md\n"
        }
      },
      "source": "# 目标\n- 捕获鼠标事件\n- OpenCV函数：cv2.setMouseCallback()\n\n## 知道鼠标在哪儿\nOpenCV中，我们需要创建一个鼠标的回调函数来获取鼠标当前的位置、当前的事件如左键按下/左键释放或是右键单击等等，然后执行相应的功能。\n\n使用cv2.setMouseCallback()来创建鼠标的回调函数，比如我们在左键单击的时候，打印出当前鼠标的位置："
    },
    {
      "cell_type": "code",
      "execution_count": 1,
      "outputs": [
        {
          "name": "stdout",
          "text": [
            "(274, 183)\n",
            "(236, 246)\n",
            "(425, 305)\n",
            "(414, 157)\n"
          ],
          "output_type": "stream"
        }
      ],
      "source": "import cv2\nimport numpy as np\n\ndef mouse_event(event, x, y, flags, param):\n    if event \u003d\u003d cv2.EVENT_LBUTTONDOWN:\n        print((x, y))\nimg \u003d np.zeros((512, 512, 3), np.uint8)\ncv2.namedWindow(\u0027image\u0027)\n\ncv2.setMouseCallback(\u0027image\u0027, mouse_event)\n\nwhile True:\n    cv2.imshow(\u0027image\u0027, img)\n    if cv2.waitKey(20) \u003d\u003d 27:\n        break",
      "metadata": {
        "pycharm": {
          "metadata": false,
          "name": "#%%\n",
          "is_executing": false
        }
      }
    },
    {
      "cell_type": "markdown",
      "source": "上面的代码先定义鼠标的回调函数mouse_event()，然后在回调函数中判断是否是左键单击事件 EVENT_LBUTTONDOWN，是的话就打印出坐标。需要注意的是，回调函数的参数格式是固定的，不要随意更改。\n\n那除了左键单击之外，还有哪些事件呢？可以用下面的代码打印出来：",
      "metadata": {
        "pycharm": {
          "metadata": false
        }
      }
    },
    {
      "cell_type": "code",
      "execution_count": 2,
      "outputs": [
        {
          "name": "stdout",
          "text": [
            "[\u0027EVENT_FLAG_ALTKEY\u0027, \u0027EVENT_FLAG_CTRLKEY\u0027, \u0027EVENT_FLAG_LBUTTON\u0027, \u0027EVENT_FLAG_MBUTTON\u0027, \u0027EVENT_FLAG_RBUTTON\u0027, \u0027EVENT_FLAG_SHIFTKEY\u0027, \u0027EVENT_LBUTTONDBLCLK\u0027, \u0027EVENT_LBUTTONDOWN\u0027, \u0027EVENT_LBUTTONUP\u0027, \u0027EVENT_MBUTTONDBLCLK\u0027, \u0027EVENT_MBUTTONDOWN\u0027, \u0027EVENT_MBUTTONUP\u0027, \u0027EVENT_MOUSEHWHEEL\u0027, \u0027EVENT_MOUSEMOVE\u0027, \u0027EVENT_MOUSEWHEEL\u0027, \u0027EVENT_RBUTTONDBLCLK\u0027, \u0027EVENT_RBUTTONDOWN\u0027, \u0027EVENT_RBUTTONUP\u0027]\n"
          ],
          "output_type": "stream"
        }
      ],
      "source": "# 获取所有的事件\nevents \u003d [i for i in dir(cv2) if \u0027EVENT\u0027 in i]\nprint(events)",
      "metadata": {
        "pycharm": {
          "metadata": false,
          "name": "#%%\n",
          "is_executing": false
        }
      }
    },
    {
      "cell_type": "markdown",
      "source": "## 综合实例\n现在我们来实现一个综合的例子，这个实例会帮助你理解图像交互的一些思想：\n\n在图像上用鼠标画图，可以画圆或矩形，按m键在两种模式下切换。左键按下时开始画图，移动到哪儿画到哪儿，左键释放时结束画图。听上去很复杂，是吗？一步步来看：\n- 用鼠标画图：需要定义鼠标的回调函数mouse_event\n- 画圆或矩形：需要定义一个画图的模式mode\n- 左键单击、移动、释放：需要捕获三个不同的事件\n- 开始画图，结束画图：需要定义一个画图的标记位drawing\n\n好，开始coding吧：",
      "metadata": {
        "pycharm": {
          "metadata": false
        }
      }
    },
    {
      "cell_type": "code",
      "execution_count": null,
      "outputs": [],
      "source": "import cv2\nimport numpy as np\n\ndrawing \u003d False # 是否开始画图\nmode \u003d True  # True：画矩形，False：画圆\nstart \u003d (-1, -1)\n\ndef mouse_event(event, x, y, flags, param):\n    global start, drawing, mode\n    \n    # 左键按下：开始画图\n    if event \u003d\u003d cv2.EVENT_LBUTTONDOWN:\n        drawing \u003d True\n        start \u003d (x, y)\n    # 鼠标移动，画图\n    elif event \u003d\u003d cv2.EVENT_MOUSEMOVE:\n        if drawing:\n            pass\n            # if mode:\n                # cv2.rectangle(img, start, (x, y), (0, 255, 0), 1)\n            # else:\n                # cv2.circle(img, (x, y), 5, (0, 0, 255), -1)\n    # 左键释放：结束画图\n    elif event \u003d\u003d cv2.EVENT_LBUTTONUP:\n        drawing \u003d False\n        if mode:\n            cv2.rectangle(img, start, (x, y), (0, 255, 0), 1)\n        else:\n            cv2.circle(img, (x, y), 5, (0, 0, 255), -1)\n\n\nimg \u003d np.zeros((512, 512, 3), np.uint8)\ncv2.namedWindow(\u0027image\u0027)\ncv2.setMouseCallback(\u0027image\u0027, mouse_event)\n\nwhile(True):\n    cv2.imshow(\u0027image\u0027, img)\n    # 按下m切换模式\n    if cv2.waitKey(1) \u003d\u003d ord(\u0027m\u0027):\n        mode \u003d not mode\n    elif cv2.waitKey(1) \u003d\u003d 27:\n        break",
      "metadata": {
        "pycharm": {
          "metadata": false,
          "name": "#%%\n",
          "is_executing": true
        }
      }
    }
  ],
  "metadata": {
    "language_info": {
      "codemirror_mode": {
        "name": "ipython",
        "version": 2
      },
      "file_extension": ".py",
      "mimetype": "text/x-python",
      "name": "python",
      "nbconvert_exporter": "python",
      "pygments_lexer": "ipython2",
      "version": "2.7.6"
    },
    "kernelspec": {
      "name": "conda-cv",
      "language": "python",
      "display_name": "conda-cv"
    }
  },
  "nbformat": 4,
  "nbformat_minor": 0
}