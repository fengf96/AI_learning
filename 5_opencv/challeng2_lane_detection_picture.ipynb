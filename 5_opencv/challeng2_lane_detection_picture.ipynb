{
  "cells": [
    {
      "cell_type": "code",
      "execution_count": 5,
      "outputs": [
        {
          "name": "stdout",
          "text": [
            "540 960\n"
          ],
          "output_type": "stream"
        }
      ],
      "source": "# ex2tron\u0027s blog:\n# http://ex2tron.wang\n# 图片和视频下载：http://blog.codec.wang/cv2_lane_detection_material.zip\n\nimport cv2\nimport numpy as np\n\n# 高斯滤波核大小\nblur_ksize \u003d 5\n\n# Canny边缘检测高低阈值\ncanny_lth \u003d 50\ncanny_hth \u003d 150\n\n# 霍夫变换参数\nrho \u003d 1\ntheta \u003d np.pi / 180\nthreshold \u003d 15\nmin_line_len \u003d 40\nmax_line_gap \u003d 20\n\n\ndef process_an_image(img):\n    # 1. 灰度化、滤波和Canny\n    gray \u003d cv2.cvtColor(img, cv2.COLOR_RGB2GRAY)\n    blur_gray \u003d cv2.GaussianBlur(gray, (blur_ksize, blur_ksize), 1)\n    # cv2.imshow(\"gray\", gray)\n    # cv2.waitKey(0)\n    # cv2.imshow(\"blur_gray\", blur_gray)\n    # cv2.waitKey(0)\n    edges \u003d cv2.Canny(blur_gray, canny_lth, canny_hth)\n    # cv2.imshow(\"edges\", edges)\n    # cv2.waitKey(0)\n    \n    # 2. 标记四个坐标点用于ROI截取\n    rows, cols \u003d edges.shape\n    print(rows, cols)\n    points \u003d np.array([[(0, rows), (460, 325), (520, 325), (cols, rows)]])\n    # [[[0 540], [460 325], [520 325], [960 540]]]\n    roi_edges \u003d roi_mask(edges, points)\n\n    cv2.imshow(\u0027roi\u0027, roi_edges)\n    cv2.waitKey(0)\n    # 3. 霍夫直线提取\n    drawing, lines \u003d hough_lines(roi_edges, rho, theta,\n                                 threshold, min_line_len, max_line_gap)\n    # 4. 车道拟合计算\n    draw_lanes(drawing, lines)\n    cv2.imshow(\u0027drawing\u0027, drawing)\n    cv2.waitKey(0)\n    # 5. 最终将结果合在原图上\n    result \u003d cv2.addWeighted(img, 0.9, drawing, 0.2, 0)\n\n    return result\n\n\ndef roi_mask(img, corner_points):\n    # 创建掩膜\n    mask \u003d np.zeros_like(img)\n    cv2.fillPoly(mask, corner_points, 255)\n\n    masked_img \u003d cv2.bitwise_and(img, mask)\n    return masked_img\n\n\ndef hough_lines(img, rho, theta, threshold, min_line_len, max_line_gap):\n    # 统计概率霍夫直线变换\n    lines \u003d cv2.HoughLinesP(img, rho, theta, threshold,\n                            minLineLength\u003dmin_line_len, maxLineGap\u003dmax_line_gap)\n\n    # 新建一副空白画布\n    drawing \u003d np.zeros((img.shape[0], img.shape[1], 3), dtype\u003dnp.uint8)\n    # 画出直线检测结果\n    # draw_lines(drawing, lines)\n\n    return drawing, lines\n\n\ndef draw_lines(img, lines, color\u003d[0, 0, 255], thickness\u003d1):\n    for line in lines:\n        for x1, y1, x2, y2 in line:\n            cv2.line(img, (x1, y1), (x2, y2), color, thickness)\n\n\ndef draw_lanes(img, lines, color\u003d[255, 0, 0], thickness\u003d8):\n    # a. 划分左右车道\n    left_lines, right_lines \u003d [], []\n    for line in lines:\n        for x1, y1, x2, y2 in line:\n            k \u003d (y2 - y1) / (x2 - x1)\n            if k \u003c 0:\n                left_lines.append(line)\n            else:\n                right_lines.append(line)\n\n    if (len(left_lines) \u003c\u003d 0 or len(right_lines) \u003c\u003d 0):\n        return\n\n    # b. 清理异常数据\n    clean_lines(left_lines, 0.1)\n    clean_lines(right_lines, 0.1)\n\n    # c. 得到左右车道线点的集合，拟合直线\n    left_points \u003d [(x1, y1) for line in left_lines for x1, y1, x2, y2 in line]\n    left_points \u003d left_points + [(x2, y2)\n                                 for line in left_lines for x1, y1, x2, y2 in line]\n\n    right_points \u003d [(x1, y1)\n                    for line in right_lines for x1, y1, x2, y2 in line]\n    right_points \u003d right_points + \\\n        [(x2, y2) for line in right_lines for x1, y1, x2, y2 in line]\n\n    left_results \u003d least_squares_fit(left_points, 325, img.shape[0])\n    right_results \u003d least_squares_fit(right_points, 325, img.shape[0])\n\n    # 注意这里点的顺序\n    vtxs \u003d np.array(\n        [[left_results[1], left_results[0], right_results[0], right_results[1]]])\n    # d.填充车道区域\n    cv2.fillPoly(img, vtxs, (0, 255, 0))\n\n    # 或者只画车道线\n    # cv2.line(img, left_results[0], left_results[1], (0, 255, 0), thickness)\n    # cv2.line(img, right_results[0], right_results[1], (0, 255, 0), thickness)\n\n\ndef clean_lines(lines, threshold):\n    # 迭代计算斜率均值，排除掉与差值差异较大的数据\n    slope \u003d [(y2 - y1) / (x2 - x1)\n             for line in lines for x1, y1, x2, y2 in line]\n    while len(lines) \u003e 0:\n        mean \u003d np.mean(slope)\n        diff \u003d [abs(s - mean) for s in slope]\n        idx \u003d np.argmax(diff)\n        if diff[idx] \u003e threshold:\n            slope.pop(idx)\n            lines.pop(idx)\n        else:\n            break\n\n\ndef least_squares_fit(point_list, ymin, ymax):\n    # 最小二乘法拟合\n    x \u003d [p[0] for p in point_list]\n    y \u003d [p[1] for p in point_list]\n\n    # polyfit第三个参数为拟合多项式的阶数，所以1代表线性\n    fit \u003d np.polyfit(y, x, 1)\n    fit_fn \u003d np.poly1d(fit)  # 获取拟合的结果\n\n    xmin \u003d int(fit_fn(ymin))\n    xmax \u003d int(fit_fn(ymax))\n\n    return [(xmin, ymin), (xmax, ymax)]\n\n\nif __name__ \u003d\u003d \"__main__\":\n    img \u003d cv2.imread(\u0027test_pictures/lane.jpg\u0027)\n    result \u003d process_an_image(img)\n    cv2.imshow(\"lane\", result)\n    cv2.waitKey(0)\n",
      "metadata": {
        "pycharm": {
          "metadata": false,
          "name": "#%%\n",
          "is_executing": false
        }
      }
    }
  ],
  "metadata": {
    "language_info": {
      "codemirror_mode": {
        "name": "ipython",
        "version": 2
      },
      "file_extension": ".py",
      "mimetype": "text/x-python",
      "name": "python",
      "nbconvert_exporter": "python",
      "pygments_lexer": "ipython2",
      "version": "2.7.6"
    },
    "kernelspec": {
      "name": "conda-cv",
      "language": "python",
      "display_name": "conda-cv"
    },
    "stem_cell": {
      "cell_type": "raw",
      "source": "",
      "metadata": {
        "pycharm": {
          "metadata": false
        }
      }
    }
  },
  "nbformat": 4,
  "nbformat_minor": 0
}