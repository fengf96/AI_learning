{
  "cells": [
    {
      "cell_type": "markdown",
      "metadata": {
        "collapsed": true,
        "pycharm": {
          "name": "#%% md\n"
        }
      },
      "source": "# 目标\n- 计算并绘制直方图\n- （自适应）直方图均衡化\n- OpenCV函数：cv2.calcHist(), cv2.equalizeHist()\n\n# 教程\n## 啥叫直方图\n直方图简单来说就是图像中每个像素值的个数统计，比如说一副灰度图中像素值为0的有多少个，1的有多少个……直方图是一种分析图片的手段：\n![](http://blog.codec.wang/cv2_understand_histogram.jpg)\n在计算直方图之前，有几个术语先来了解一下：\n- dims：要计算的通道数，对于灰度图dims\u003d1，普通彩色图dims\u003d3\n- range：要计算的像素值范围，一般为[0,256)\n- bins：子区段数目，如果我们统计0255每个像素值，bins\u003d256；如果划分区间，比如015, 1631…240255这样16个区间，bins\u003d16\n\n## 计算直方图\nOpenCV和Numpy中都提供了计算直方图的函数，我们对比下它们的性能。\n\n## OpenCV中直方图计算\n使用cv2.calcHist(images, channels, mask, histSize, ranges)计算，其中：\n- 参数1：要计算的原图，以方括号的传入，如：[img]\n- 参数2：类似前面提到的dims，灰度图写[0]就行，彩色图B/G/R分别传入[0]/[1]/[2]\n- 参数3：要计算的区域，计算整幅图的话，写None\n- 参数4：前面提到的bins\n- 参数5：前面提到的range"
    },
    {
      "cell_type": "code",
      "execution_count": 1,
      "outputs": [],
      "source": "import cv2\nimport numpy as np\nimport matplotlib.pyplot as plt\n\nimg \u003d cv2.imread(\u0027hist.jpg\u0027, 0)\nhist \u003d cv2.calcHist([img], [0], None, [256], [0, 256]) # 性能：0.025288 s",
      "metadata": {
        "pycharm": {
          "metadata": false,
          "name": "#%%\n",
          "is_executing": false
        }
      }
    },
    {
      "cell_type": "markdown",
      "source": "## Numpy中直方图计算\n也可用Numpy的函数计算，其中ravel()函数将二维矩阵展平变成一维数组，之前有提到过：",
      "metadata": {
        "pycharm": {
          "metadata": false
        }
      }
    },
    {
      "cell_type": "code",
      "execution_count": null,
      "outputs": [],
      "source": "hist, bins \u003d np.histogram(img.ravel(), 256, [0, 256])  # 性能：0.020628 s",
      "metadata": {
        "pycharm": {
          "metadata": false,
          "name": "#%%\n"
        }
      }
    },
    {
      "cell_type": "markdown",
      "source": "经验之谈：Numpy中还有一种更高效的方式：（还记得怎么评估性能吗：番外篇：代码性能优化）",
      "metadata": {
        "pycharm": {
          "metadata": false
        }
      }
    },
    {
      "cell_type": "code",
      "execution_count": null,
      "outputs": [],
      "source": "hist \u003d np.bincount(img.ravel(), minlength\u003d256)  # 性能：0.003163 s",
      "metadata": {
        "pycharm": {
          "metadata": false,
          "name": "#%%\n"
        }
      }
    },
    {
      "cell_type": "markdown",
      "source": "计算出直方图之后，怎么把它画出来呢？\n\n## 绘制直方图\n其实Matplotlib自带了一个计算并绘制直方图的功能，不需要用到上面的函数：",
      "metadata": {
        "pycharm": {
          "metadata": false
        }
      }
    },
    {
      "cell_type": "code",
      "execution_count": 3,
      "outputs": [
        {
          "data": {
            "text/plain": "\u003cFigure size 432x288 with 1 Axes\u003e",
            "image/png": "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\u003d\u003d\n"
          },
          "metadata": {
            "needs_background": "light"
          },
          "output_type": "display_data"
        }
      ],
      "source": "plt.hist(img.ravel(), 256, [0, 256])\nplt.show()",
      "metadata": {
        "pycharm": {
          "metadata": false,
          "name": "#%%\n",
          "is_executing": false
        }
      }
    },
    {
      "cell_type": "markdown",
      "source": "当然，也可以用前面计算出来的结果绘制",
      "metadata": {
        "pycharm": {
          "metadata": false
        }
      }
    },
    {
      "cell_type": "code",
      "execution_count": 4,
      "outputs": [
        {
          "data": {
            "text/plain": "\u003cFigure size 432x288 with 1 Axes\u003e",
            "image/png": "iVBORw0KGgoAAAANSUhEUgAAAYMAAAD7CAYAAACIYvgKAAAABHNCSVQICAgIfAhkiAAAAAlwSFlzAAALEgAACxIB0t1+/AAAADh0RVh0U29mdHdhcmUAbWF0cGxvdGxpYiB2ZXJzaW9uMy4xLjEsIGh0dHA6Ly9tYXRwbG90bGliLm9yZy8QZhcZAAAgAElEQVR4nO3deZRc5Xnn8e9Tvbd6ldSttYUEiEVgEEIsXuNgAwLbEU6cE3kmRklI5HEgY5+TnAQnk4Pj5Yw9E4djEocZMLLljG3Z42VQbNmAAQc7sZEEyEJCSGokIbWW7pa61ftWXc/8UbdF0areu+6t7vp9zunT1W/dW/W8Kkm/ft9773vN3RERkdwWi7oAERGJnsJAREQUBiIiojAQEREUBiIigsJAREQYRxiYWbGZ7TCzX5vZPjP7u6B9hZk9b2aHzOzbZlYYtBcFP9cHzy9Pea1PBu0HzOz2lPZ1QVu9md0//d0UEZHRjGdk0Afc4u7XAquBdWZ2M/AF4EF3Xwm0AvcE298DtLr7pcCDwXaY2SpgA3AVsA74ZzPLM7M84MvAHcAq4MPBtiIiEpL8sTbw5FVpncGPBcGXA7cA/ylo3wJ8CngYWB88Bvgu8E9mZkH7VnfvA46YWT1wY7BdvbsfBjCzrcG2r4xW1/z583358uVjdlBERN7wwgsvnHH3muHtY4YBQPDb+wvApSR/i38NOOfu8WCTBmBJ8HgJcBzA3eNm1gbMC9p/lfKyqfscH9Z+0wh1bAI2ASxbtoxdu3aNp3wREQmY2evp2sd1ANndB919NbCU5G/zV6bbbOi9Rnhuou3p6njE3de6+9qamguCTUREJmlCZxO5+zngZ8DNQJWZDY0slgIng8cNQB1A8Hwl0JLaPmyfkdpFRCQk4zmbqMbMqoLHJcB7gf3As8CHgs02Ao8Hj7cFPxM8/0xw3GEbsCE422gFsBLYAewEVgZnJxWSPMi8bTo6JyIi4zOeYwaLgC3BcYMY8B13/6GZvQJsNbPPAi8BjwXbPwb8S3CAuIXkf+64+z4z+w7JA8Nx4F53HwQws/uAJ4A8YLO775u2HoqIyJhspi5hvXbtWtcBZBGRiTGzF9x97fB2XYEsIiIKAxERURiIRKanf5CtO44xMJiIuhQRhYFIVLb9+gT3f/9l/umZ+qhLEVEYiETt0Z8fJpGYmSdyyOyhMBCJSEdvcjWX7v5Bfl5/JuJqJNcpDEQi0t4bP//4cHPnKFuKZJ7CQCQinb1xSgryAGjrGYi4Gsl141q1VESmX0fvAFWlBeT3Gue6FQYSLYWBSEQ6euOUF+cTM6NdIwOJmMJAJCIdfQOUFeWTH4tpmkgipzAQiUhHb5zq0kKKCxKcUxhIxHQAWSQincE0UWVJgUYGEjmNDEQi0t4bp7y4AHdXGEjkFAYiEenoHaC8OB8jeWqpu2OW7i6wIpmnMBCJQH88QV88QXlRPnl5Rn88Qe9AgpLCvKhLkxylYwYiEejoTU4LDR0zAF14JtFSGIhEoLMvuRRFeXGBwkCygqaJRCIwtEhdWXE+pcHU0Lnu/ihLkhynMBCJQHvKNFF5kUYGEj2FgUgEhkYGFcUFVBQrDCR6OmYgEoHO3qFjBjqALNlBYSASgaGzicqK8pPXGpjCQKKlMBCJQEfvG2cTxWJGZUkBLV06gCzRURiIRKCzP05hfozC/OQ/wcWVJZw81xNxVZLLFAYiEejqizMn5WrjpdUlNLQqDCQ6Y4aBmdWZ2bNmtt/M9pnZx4P2T5nZCTPbHXzdmbLPJ82s3swOmNntKe3rgrZ6M7s/pX2FmT1vZofM7NtmVjjdHRXJJl19g8wpeuNkvqXVpZw414O7R1iV5LLxjAziwJ+7+5XAzcC9ZrYqeO5Bd18dfG0HCJ7bAFwFrAP+2czyzCwP+DJwB7AK+HDK63wheK2VQCtwzzT1TyQrdfXFKXtTGJTQ3T9Iq25/KREZMwzc/ZS7vxg87gD2A0tG2WU9sNXd+9z9CFAP3Bh81bv7YXfvB7YC6y25TOMtwHeD/bcAd022QyIzQVd//PyVx5AMA4CG1u6oSpIcN6FjBma2HLgOeD5ous/M9pjZZjOrDtqWAMdTdmsI2kZqnwecc/f4sPZ077/JzHaZ2a7m5uaJlC6SVdJNEwE6biCRGXcYmFkZ8D3gE+7eDjwMXAKsBk4BXxzaNM3uPon2CxvdH3H3te6+tqamZryli2Sd4dNESzQykIiNazkKMysgGQTfcPfvA7h7Y8rzjwI/DH5sAOpSdl8KnAwep2s/A1SZWX4wOkjdXmRW6uqLU1r4xj+/ypICKorzNTKQyIznbCIDHgP2u/s/pLQvStnsg8De4PE2YIOZFZnZCmAlsAPYCawMzhwqJHmQeZsnT594FvhQsP9G4PGpdUsku3X1D1JW9OYb2SytLuV4i0YGEo3xjAzeDnwEeNnMdgdtf03ybKDVJKd0jgIfBXD3fWb2HeAVkmci3evugwBmdh/wBJAHbHb3fcHr/RWw1cw+C7xEMnxEZiV3T15nUPTmf34X18zhpWPnIqpKct2YYeDuvyD9vP72Ufb5HPC5NO3b0+3n7odJnm0kMuv1xRPEE35BGFy3rJof7jlFY3svCyqKI6pOcpWuQBYJWXf/IMCbrkAGuG5ZFYBGBxIJhYFIyLqCW14OHxlctbiCwrwYLx1vjaIsyXEKA5GQdfWnD4Oi/DxWLa7QyEAioTAQCdlIIwOA1XVV7D3RpjWKJHQKA5GQdfYljxkMP7UUYElVco2ijr74Bc+JZJLCQCRk3cF/9KkXnQ2prSgCoKm9L9SaRBQGIiHrDMKgLM00UU1ZEAYdvaHWJKIwEAnZ+VNL04TB0MiguUMjAwmXwkAkZJ3np4kuPGZQU5a82ExhIGFTGIiErKsvTn7MKMq/8J9fRUk+hfkxhYGETmEgErLu/uS9DJJrQL6ZmVFbXkSTwkBCpjAQCVlnX/yCpShS1ZQX6QCyhE5hIBKydCuWpqotL9I0kYROYSASss4xwqBG00QSAYWBSMg6euOUF482MijmXPcAffHBEKuSXKcwEAlZZ9/oYVBTnrzW4Exnf1gliSgMRMLW0TtAeVHBiM8vqkxea3DqnO6HLOFRGIiErHOMaaKl1SUANLQqDCQ8CgOREA0mnK7+QcpGCYMlVaUANLR2h1WWiMJAJEydvcmlKMqLR54mKinMY35ZoUYGEiqFgUiIOvoGACgf5dRSgCXVpQoDCZXCQCREHedHBqOHwdLqEk7oALKESGEgEqKOcUwTQRAGrT0kErr9pYRDYSASos5gmmi0A8gAS6tL6R9M0NypK5ElHAoDkRBNZJoIdEaRhGfMMDCzOjN71sz2m9k+M/t40D7XzJ4ys0PB9+qg3czsITOrN7M9ZrYm5bU2BtsfMrONKe3Xm9nLwT4PWbq1fUVmgfGGwUVzk6eXHmzszHhNIjC+kUEc+HN3vxK4GbjXzFYB9wNPu/tK4OngZ4A7gJXB1ybgYUiGB/AAcBNwI/DAUIAE22xK2W/d1Lsmkn3Oh8EoVyADrJg/hyVVJfz0lcYwyhIZOwzc/ZS7vxg87gD2A0uA9cCWYLMtwF3B4/XA1z3pV0CVmS0CbgeecvcWd28FngLWBc9VuPsv3d2Br6e8lsis0tE7QH7MKC4Y/Z+emXHbVQv4ef2Z87fJFMmkCR0zMLPlwHXA88ACdz8FycAAaoPNlgDHU3ZrCNpGa29I057u/TeZ2S4z29Xc3DyR0kWyQmdfnLLi9Hc5G+72qxbSH0/wreePMTCYCKE6yWXjDgMzKwO+B3zC3dtH2zRNm0+i/cJG90fcfa27r62pqRmrZJGsM9by1aluWD6XlbVlfG77fj76Ly9kuDLJdeMKAzMrIBkE33D37wfNjcEUD8H3pqC9AahL2X0pcHKM9qVp2kVmnY7e+JjHC4bkxYx//bN38Ge3XMozrzbxH6+dyXB1ksvGczaRAY8B+939H1Ke2gYMnRG0EXg8pf3u4Kyim4G2YBrpCeA2M6sODhzfBjwRPNdhZjcH73V3ymuJzCodvQNjXmOQqrggj3t/81IWVhTz4FMHM1iZ5LrxjAzeDnwEuMXMdgdfdwKfB241s0PArcHPANuBw0A98CjwpwDu3gJ8BtgZfH06aAP4GPCVYJ/XgB9PQ99Esk5Hb5yKCYQBJANh49uWs/Noq5aokIwZ82+lu/+C9PP6AO9Js70D947wWpuBzWnadwFXj1WLyEzX2RenbIxF6tK5dVUtX/jJqzz7ahO/f/NFGahMcp2uQBYJUUfvwJjrEqVzSU0ZdXNLeObVprE3FpkEhYFISNx9QmcTpTIz3nPFAv69/gw9/YMZqE5yncJAJCR98QTxhE/oAHKqO65eSF88weO7T0xzZSIKA5HQtPcGN7aZxDQRwI0r5nLFwnK++u9HSR6aS3J3XaUsU6YwEAnJ0C0vJ3o20RAz44/evoIDjR08f6TlfPvju09yw2d/SktX/7TUKblJYSASkqFF6iZzNtGQD1y7mOKCGD9++dT5tqdeaaRnYJAXX2+dco2SuxQGIiEZ713ORlNSmMc7V9bw5CuNuDvuzq8OnwVg9/Fz01Kn5CaFgUhIzt/lbAojA0guYHeqrZdtvz7JjiMtnA2mhxQGMhVT+1spIuPWPs4b24zlPVfUUpBnfHzr7vNt7768hheOtpJIOLGY7g0lE6cwEAnJGweQJz9NBFA9p5D/+1/exum2Xr7+y6MMDCZ431sW8bMDzbzW3MnKBeXTUK3kGoWBSEiGjhnMKcqb8mutrquCOlh39UIA9p5oA1AYyKTpmIFISDp6BygtzCM/b/r/2dVWFAHQ3KnTS2VyFAYiIZnsInXjMbe0EDNo7ujLyOvL7KcwEAnJZNclGo/8vBjz5hQqDGTSFAYiIWmf5Iql4zW/rIgznQoDmRyFgUhIOvsyNzIAqCkv0shAJk1hIBKSTE4TAdRoZCBToDAQCUlnb+YOIAPMD0YGqSuaioyXwkAkJJO9y9l41ZQV0RdP0KHlrGUSFAYiIRhMOF39gxmdJppfXgjAGR03kElQGIiEYOjmM5mcJqopKwZ0rYFMjsJAJATtPckVSytKMjhNVD50FbLCQCZOYSASgrYgDCozGAbzyzRNJJOnMBAJwVAYVGUwDKpLCynIMxoVBjIJCgOREJwfGZRmLgxiMaO2vJjGtt6MvYfMXgoDkRCEMU0EsKCiiNPtCgOZuDHDwMw2m1mTme1NafuUmZ0ws93B150pz33SzOrN7ICZ3Z7Svi5oqzez+1PaV5jZ82Z2yMy+bWaF09lBkWwQVhgsrCxWGMikjGdk8DVgXZr2B919dfC1HcDMVgEbgKuCff7ZzPLMLA/4MnAHsAr4cLAtwBeC11oJtAL3TKVDItnoXPcABXlGScHUb2wzmgUVmiaSyRkzDNz9OaBlnK+3Htjq7n3ufgSoB24Mvurd/bC79wNbgfVmZsAtwHeD/bcAd02wDyJZr61ngMqSApJ/5TNnYUUxXf2DdPQOZPR9ZPaZyjGD+8xsTzCNVB20LQGOp2zTELSN1D4POOfu8WHtaZnZJjPbZWa7mpubp1C6SLjagzDItIWVyQvPGjVVJBM02TB4GLgEWA2cAr4YtKf7tccn0Z6Wuz/i7mvdfW1NTc3EKhaJUFtYYVCRDIPTbTq9VCZmUmHg7o3uPujuCeBRktNAkPzNvi5l06XAyVHazwBVZpY/rF1kVgktDIKRwam2noy/l8wukwoDM1uU8uMHgaEzjbYBG8ysyMxWACuBHcBOYGVw5lAhyYPM2zy51u6zwIeC/TcCj0+mJpFsdq6nP5QwWFChaSKZnDFXzTKzbwHvBuabWQPwAPBuM1tNckrnKPBRAHffZ2bfAV4B4sC97j4YvM59wBNAHrDZ3fcFb/FXwFYz+yzwEvDYtPVOJEu0dYczMiguyKOqtECnl8qEjRkG7v7hNM0j/oft7p8DPpemfTuwPU37Yd6YZhKZdRIJp6MvTmVpOJfQLKwo5tQ5hYFMjK5AFsmwjt447pm/4GzIsrmlHG/tDuW9ZPZQGIhkWFhXHw9ZNreUYy3duv2lTIjCQCTDzvX0A+GFwUXzSukdSOgmNzIhCgORDAt7ZFA3txSAYy2aKpLxUxiIZFhHb/IC+4qSzN3yMtWyIAxeP6swkPFTGIhk2NA6QeXF4YwMllSXYKaRgUyMwkAkw9p7kiOD8uJwRgZF+XksrizhuMJAJkBhIJJhHb0DmEFZYThhAFA3t4TXFQYyAQoDkQxr741TVpRPLJbZ5atTDZ1eKjJeCgORDOvojVMR0vGCIcvmltLc0UdP/2Co7yszl8JAJMM6egdCO14wZNm8OYAOIsv4KQxEMqyjNx5+GOhaA5kghYFIhrX3DoR2WukQhYFMlMJAJMOiGBlUlxZQXpSv00tl3BQGIhnW0TsQ+gFkM6Nubimvn+0K9X1l5lIYiGSQu0cyMgCdXioTozAQyaDegQTxhId+zABg2bxSjrf2kEhoKWsZm8JAJIPaz69LFP7I4OL5c+iPJzQ6kHFRGIhkUEeEYfCWpZUA/LrhXOjvLTOPwkAkg9qHlq+OYJrosgXlFOXH2NPQFvp7y8yjMBDJoLDvZZCqIC/GVYsr2KORgYyDwkAkg8K+l8Fw1yytYu+JduKDiUjeX2YOhYFIBg2NDKI4ZgBwbV0lPQODvNas6w1kdAoDkQxq74l+ZAA6iCxjUxiIZFBr9wAFecacwrxI3n/FvDmUF+XruIGMacwwMLPNZtZkZntT2uaa2VNmdij4Xh20m5k9ZGb1ZrbHzNak7LMx2P6QmW1Mab/ezF4O9nnIzMK7A4hIhrV09TF3TiFR/bWOxYyrl1TqjCIZ03hGBl8D1g1rux942t1XAk8HPwPcAawMvjYBD0MyPIAHgJuAG4EHhgIk2GZTyn7D30tkxmrp6mfunKJIa7imrpL9p9rpi+tGNzKyMcPA3Z8DWoY1rwe2BI+3AHeltH/dk34FVJnZIuB24Cl3b3H3VuApYF3wXIW7/9LdHfh6ymuJzHhnu/qZN6cw0hquXVrFwKDz6qmOSOuQ7DbZYwYL3P0UQPC9NmhfAhxP2a4haButvSFNe1pmtsnMdpnZrubm5kmWLhKe5Mgg4jCoSx5EfvFYa6R1SHab7gPI6SZGfRLtabn7I+6+1t3X1tTUTLJEkfC0dEYfBosri7mkZg5P7muMtA7JbpMNg8Zgiofge1PQ3gDUpWy3FDg5RvvSNO0iM15ffJCOvnjk00RmxvuuWczzR87S3NEXaS2SvSYbBtuAoTOCNgKPp7TfHZxVdDPQFkwjPQHcZmbVwYHj24Anguc6zOzm4Cyiu1NeS2RGa+1KXmMwtyzaMAB431sWkXD4yb7TUZciWWo8p5Z+C/glcLmZNZjZPcDngVvN7BBwa/AzwHbgMFAPPAr8KYC7twCfAXYGX58O2gA+Bnwl2Oc14MfT0zWRaJ3tSv4WHvXIAOCyBWVcWlvGj/Zo4C3pjXmNvLt/eISn3pNmWwfuHeF1NgOb07TvAq4eqw6RmeZsZz9A5KeWQjBV9JZFPPTMIZo6eqktL466JMkyugJZJENauobCIPqRAcD7rlmEOzyxV1NFciGFgUiGnA3CIBumiSB5f4OVtWX8655TUZciWUhhIJIhLV195MWMypJoFqlL57euXcyOIy0c160wZRiFgUiGtHT1U11aSCyWPctt/fb1SzGD7794IupSJMsoDEQy5Gxn9EtRDLekqoS3XjyP773YQPJ8D5EkhYFIhmTDUhTprLt6IcdaujnV1ht1KZJFFAYiGdLS1Z8VF5wNd8XCCgAONGrhOnmDwkAkQ7JhxdJ0Ll9QDsCB0woDeYPCQCQDBgYTtPUMZOU0UWVpAQsrijmoMJAUCgORDGjtzq5rDIa7bGE5ryoMJIXCQCQD3rj6OPqlKNK5YmE59c2dxAcTUZciWUJhIJIBLZ3ZtRTFcJctKKc/nuDoWV18JkkKA5EMOL8URRaeTQTJkQHAQZ1RJAGFgUgGZNsidcNdWltGzNBxAzlPYSCSAWc7+zCD6tLsDIPigjyWz5ujM4rkPIWBSAac7eqnqqSAvCxal2i4yxaU68IzOU9hIJIB2boURarLF5Zz9GwXvQODUZciWUBhIJIByauPs/O00iGXLyzHHQ41dkZdimQBhYFIBsyEkcFlwbIUr5xqi7gSyQYKA5Fp5u6cPNfDoqrsvs/wxfPnsKiymCf3NUZdimQBhYHINDvT2U93/yAXzS2NupRRxWLGb127mH872ExrcCqs5C6Fgcg0OxbcUnLZvOwOA4DfWr2YeML50cu6L3KuUxiITLNjLV0ALJs7J+JKxrZqUQVXLqrgsV8cYUDrFOU0hYHINDt2tgczWFpdEnUpYzIz/uK2yzhypoutO49HXY5ESGEgMs1eb+liYUUxxQV5UZcyLrdcUcuNy+fy8LP1DCZ0X+RcNaUwMLOjZvayme02s11B21wze8rMDgXfq4N2M7OHzKzezPaY2ZqU19kYbH/IzDZOrUsi0Tre0k1dlh88TmVm/MHbl3OyrZfnDjVHXY5EZDpGBr/p7qvdfW3w8/3A0+6+Eng6+BngDmBl8LUJeBiS4QE8ANwE3Ag8MBQgIjPR62e7s/5MouHee+UC5s0pZOuOY1GXIhHJxDTRemBL8HgLcFdK+9c96VdAlZktAm4HnnL3FndvBZ4C1mWgLpGM6+kfpKmjj2UzLAwK82P89polPL2/iXPdOs00F001DBx40sxeMLNNQdsCdz8FEHyvDdqXAKlHqBqCtpHaL2Bmm8xsl5ntam7WcFayz2vNyaUdLq4pi7iSiXv/NcnTTH+6vynqUiQCUw2Dt7v7GpJTQPea2btG2Tbd8o0+SvuFje6PuPtad19bU1Mz8WpFMqy+KRkGKxfMvDC4ZmkliyuL+cne01GXIhGYUhi4+8ngexPwA5Jz/o3B9A/B96FfMxqAupTdlwInR2kXmXHqmzrJixnL52X/NQbDmRm3X72Q5w4109kXj7ocCdmkw8DM5phZ+dBj4DZgL7ANGDojaCPwePB4G3B3cFbRzUBbMI30BHCbmVUHB45vC9pEZpz6pk4umldKYf7MPGv7rtVL6I8n+F8/ey3qUiRk+VPYdwHwAzMbep1vuvtPzGwn8B0zuwc4BvxusP124E6gHugG/hDA3VvM7DPAzmC7T7t7yxTqEonMoaYOVtbOvCmiIdfWVXHX6sU88txhPnT9UpbPn3kjHJmcSYeBux8Grk3TfhZ4T5p2B+4d4bU2A5snW4tINuiPJ3j9bDfrrl4YdSlT8td3Xsn2l0+z5ZdHeeADV0VdjoRkZo5lRbLQ62e7iCeclbXlUZcyJbUVxbx3VS2P7z5Jf1zrFeUKhYHINNl7MnmTmMsXzuwwAPjd6+to6ernmVd1mmmuUBiITJOXjp2jrCj//B3EZrJ3rpzP4spi/v7JA7pHco5QGIhMkxePtXJtXSV5sXSXzsws+XkxPv8711Df1Mnf/es+kof8ZDZTGIhMg+7+OPtPdXBd3exZVutdl9XwsXdfwrd2HOdLTx+KuhzJMIWByDTY09DGYMJZc1FV1KVMq7+8/XJ++7olfOnpQ+eX2pDZSWEgMg2eP9yCGbNqZADJq5L/+n1XUpgX43//my5Em80UBiLT4MlXTrNmWTXVcwqjLmXazS8rYsMNdfzgpRM0tvdGXY5kiMJAZIoaWrvZd7Kd21YtiLqUjLnnHRczMOhs3RHerTF7+ge1RlKIFAYiU/TkvkYAbr9qZl95PJpl80p512U1fGvHMeKD4VyIdu83X+RPtuwK5b1EYSAyZU/sO83lC8pn/To+v3/TMk6394ZyIdrxlm6eebWJQ006aB0WhYHIFJzt7GPn0RZuv2r2ThENueWKWhZWFPN/ns/8rTG/vTM5HXW2q4+BkEYiuU5hIDIFT7/aRMLhtlk8RTQkPy/GhhvreO5gM8fOdmf0vX7w0gnyYoY7NHf0ZfS9JElhIDIFT+w9zZKqEq5aXBF1KaHYcMMy8mLGZ370SsZ+Yz95rocT53p4+6XzATitM5hCoTAQmaTTbb387GAz779mEcF9PWa9hZXF/M2dV/LUK418YuvujATCi8daAbgzWAq8SWEQiqnc3EYkp31zxzES7vz+zRdFXUqo/ugdK0i489kf7QfgSxtWk583/t8rG1q7+X8vnWDj25ZTXlxwwfMvvN5KcUGMd19eCyRDVzJPYSAyCfHBBN/acYzfvLyWurmlUZcTuj9+58W4w+e27weDhzZcN64F+v7tYDP3fuNFOvvidPTG+eSdV16wzYvHznHN0ipqy4soyDMadcwgFJomEpmEV06109zRx/rVi6MuJTJ/8q6L+eQdV/CjPaf479v3j7jdwcYOuvriHDjdwb3feJG6uaW898oFfPU/jnLiXM/57eqbOvjHpw+x70Qba5ZVE4sZteXFNGpkEAqNDEQm4ZevnQXgrRfPi7iSaH30Ny7h5LkevvKLI8QTzl+uu5zSwjf+W/nZgSb+8Gs7uWhuKa3dA5QU5rH5D9aScHjPF3/GPV/byfrVS3h89wlePd0BwPUXVfOfb1oGQG1FkQ4gh0RhIDIJvzx8lktq5lBbURx1KZH72/evIhYzvvrvR/n+iw189Dcu4SNvvYjHXzrB3z95kIvnz6GtJ86CiiK+cvcNLKosAeArd9/APVt28oWfvMp1y6r41AdWse7qRSysfOPPdGFFMQcbO6LqWk5RGIhMUHwwwc4jLXxwzZKoS8kK+XkxHvjAVXzg2sU8/LPX+J9PHODBpw4STzjXLq3kHz+8htqKIvJj9qYDze9YOZ8ff/yd5MWMi+alv3p7QUUxPz90BnfPmTO2oqIwEJmgXze00dU/yM05PkU03Jpl1Tzykev5zq7jvHyijd9Zs5Trlo2+pPfFNWWjPn9JzRw6++I0tPbk5IH6MCkMRCbomVcbyYsZ77y0JupSso6Z8Xs3LOP3bpie17thxVwAdhxpURhkmM4mEpmgp/c3ccPyaipLLzxHXqbXZbXlVJYUsPNoS9SlzHoKA5EJON7SzaunO3jvlbN/YbpsEIsZay+qZscRhUGmKQxEJuCbO5IrdioMwnPDirkcPtOlu6xlWEi/INwAAAXKSURBVNaEgZmtM7MDZlZvZvdHXY/IcHtPtPHoc4f50PVLZ/29C7LJbasWkBczvvT0oahLmdWy4gCymeUBXwZuBRqAnWa2zd1fibYyyXXxwQQHGzv51eGzPPjTg1TPKeS/ve/CJRQkcy6uKWPjW5fz1f84wqU1Zbz1knlUlhRQWVJAaWGeTjmdJlkRBsCNQL27HwYws63AemDaw+CPt+zkaJq12N097fbpW0d/cqR9RnqP0fcZaftRXmukfUbtzEj7TOzPZbT3GKnmkfs4Wl0jv8vEth/5fQYTTnd/nIHB5Bar66p4aMN1VJXOvpveZ7tP3LqSPQ3n+PQP3/xfQn7MqCgpID9m5MWMmBmxGOTZ0GNjNkbFD//rOyjKz5vW18yWMFgCpN5puwG4afhGZrYJ2ASwbNmySb3RRfPmjPyHOMLfmtH+Mo30W8lI+4z2S8zI+0zsPUZ7cqR/GpOra2LvMeo+I+4yidea4PbJfS58MmZQWpTPFQvLWV1XxbK5pfotNCIVxQV892Nv45WT7bx+tou2ngHaegY41zNAe88AgwlnMOEkHBLuJHzo50n8BjQDZCLisiUM0vXsgk/R3R8BHgFYu3btpD7lv33/qsnsJiJZYNXiClblyI2EwpYtB5AbgLqUn5cCJyOqRUQk52RLGOwEVprZCjMrBDYA2yKuSUQkZ2TFNJG7x83sPuAJIA/Y7O77Ii5LRCRnZEUYALj7dmB71HWIiOSibJkmEhGRCCkMREREYSAiIgoDEREBbLQlErKZmTUDr09y9/nAmWksJ9vlUn9zqa+g/s5mmerrRe5+wZ2ZZmwYTIWZ7XL3tVHXEZZc6m8u9RXU39ks7L5qmkhERBQGIiKSu2HwSNQFhCyX+ptLfQX1dzYLta85ecxARETeLFdHBiIikkJhICIiuRUGZrbOzA6YWb2Z3R91PZlgZkfN7GUz221mu4K2uWb2lJkdCr5XR13nZJnZZjNrMrO9KW1p+2dJDwWf9x4zWxNd5ZMzQn8/ZWYngs94t5ndmfLcJ4P+HjCz26OpenLMrM7MnjWz/Wa2z8w+HrTPys93lP5G8/m6e058kVwa+zXgYqAQ+DWwKuq6MtDPo8D8YW3/A7g/eHw/8IWo65xC/94FrAH2jtU/4E7gxyTvpHcz8HzU9U9Tfz8F/EWabVcFf6+LgBXB3/e8qPswgb4uAtYEj8uBg0GfZuXnO0p/I/l8c2lkcCNQ7+6H3b0f2Aqsj7imsKwHtgSPtwB3RVjLlLj7c0DLsOaR+rce+Lon/QqoMrNF4VQ6PUbo70jWA1vdvc/djwD1JP/ezwjufsrdXwwedwD7Sd4ffVZ+vqP0dyQZ/XxzKQyWAMdTfm5g9D/4mcqBJ83sBTPbFLQtcPdTkPwLCNRGVl1mjNS/2fyZ3xdMjWxOmfabNf01s+XAdcDz5MDnO6y/EMHnm0thYGnaZuN5tW939zXAHcC9ZvauqAuK0Gz9zB8GLgFWA6eALwbts6K/ZlYGfA/4hLu3j7ZpmrbZ0N9IPt9cCoMGoC7l56XAyYhqyRh3Pxl8bwJ+QHIY2Tg0fA6+N0VXYUaM1L9Z+Zm7e6O7D7p7AniUN6YKZnx/zayA5H+M33D37wfNs/bzTdffqD7fXAqDncBKM1thZoXABmBbxDVNKzObY2blQ4+B24C9JPu5MdhsI/B4NBVmzEj92wbcHZx1cjPQNjTdMJMNmxf/IMnPGJL93WBmRWa2AlgJ7Ai7vskyMwMeA/a7+z+kPDUrP9+R+hvZ5xv1EfUwv0iefXCQ5FH4v4m6ngz072KSZxv8Gtg31EdgHvA0cCj4PjfqWqfQx2+RHDoPkPxN6Z6R+kdyWP3l4PN+GVgbdf3T1N9/CfqzJ/gPYlHK9n8T9PcAcEfU9U+wr+8gOe2xB9gdfN05Wz/fUfobyeer5ShERCSnpolERGQECgMREVEYiIiIwkBERFAYiIgICgMREUFhICIiwP8HWcaAijTHNb4AAAAASUVORK5CYII\u003d\n"
          },
          "metadata": {
            "needs_background": "light"
          },
          "output_type": "display_data"
        }
      ],
      "source": "plt.plot(hist)\nplt.show()",
      "metadata": {
        "pycharm": {
          "metadata": false,
          "name": "#%%\n",
          "is_executing": false
        }
      }
    },
    {
      "cell_type": "markdown",
      "source": "从直方图上可以看到图片的大部分区域集中在150偏白的附近，这其实并不是很好的效果，下面我们来看看如何改善它。\n\n使用OpenCV的画线功能也可以画直方图，不过太麻烦了，有兴趣的可以看下官方示例：hist.py。\n\n## 直方图均衡化\n一副效果好的图像通常在直方图上的分布比较均匀，直方图均衡化就是用来改善图像的全局亮度和对比度。其实从观感上就可以发现，前面那幅图对比度不高，偏灰白。对均衡化算法感兴趣的同学可参考：维基百科：直方图均衡化\n\n![](http://blog.codec.wang/cv2_understand_histogram_equalization.jpg)",
      "metadata": {
        "pycharm": {
          "metadata": false
        }
      }
    },
    {
      "cell_type": "code",
      "execution_count": 6,
      "outputs": [],
      "source": "equ \u003d cv2.equalizeHist(img)",
      "metadata": {
        "pycharm": {
          "metadata": false,
          "name": "#%%\n",
          "is_executing": false
        }
      }
    },
    {
      "cell_type": "markdown",
      "source": "OpenCV中用cv2.equalizeHist()实现均衡化。我们把两张图片并排显示，对比一下：",
      "metadata": {
        "pycharm": {
          "metadata": false
        }
      }
    },
    {
      "cell_type": "code",
      "execution_count": 8,
      "outputs": [
        {
          "data": {
            "text/plain": "-1"
          },
          "metadata": {},
          "output_type": "execute_result",
          "execution_count": 8
        }
      ],
      "source": "\ncv2.imshow(\u0027equalization\u0027, np.hstack((img, equ)))  # 并排显示\ncv2.waitKey(0)",
      "metadata": {
        "pycharm": {
          "metadata": false,
          "name": "#%%\n",
          "is_executing": false
        }
      }
    },
    {
      "cell_type": "markdown",
      "source": "![](http://blog.codec.wang/cv2_before_after_equalization_histogram.jpg)\n可以看到均衡化后图片的亮度和对比度效果明显好于原图。\n\n## 自适应均衡化\n不难看出来，直方图均衡化是应用于整幅图片的，会有什么问题呢？看下图\n![](http://blog.codec.wang/cv2_understand_adaptive_histogram.jpg)\n很明显，因为全局调整亮度和对比度的原因，脸部太亮，大部分细节都丢失了。\n\n自适应均衡化就是用来解决这一问题的：它在每一个小区域内（默认8×8）进行直方图均衡化。当然，如果有噪点的话，噪点会被放大，需要对小区域内的对比度进行了限制，所以这个算法全称叫：对比度受限的自适应直方图均衡化CLAHE(Contrast Limited Adaptive Histogram Equalization)。",
      "metadata": {
        "pycharm": {
          "metadata": false
        }
      }
    },
    {
      "cell_type": "code",
      "source": "# 自适应均衡化，参数可选\nclahe \u003d cv2.createCLAHE(clipLimit\u003d2.0, tileGridSize\u003d(8, 8))\ncl1 \u003d clahe.apply(img)",
      "metadata": {
        "pycharm": {
          "metadata": false,
          "name": "#%%\n",
          "is_executing": false
        }
      },
      "execution_count": 10,
      "outputs": [
        {
          "data": {
            "text/plain": "-1"
          },
          "metadata": {},
          "output_type": "execute_result",
          "execution_count": 10
        }
      ]
    },
    {
      "cell_type": "markdown",
      "source": "![](http://blog.codec.wang/cv2_adaptive_histogram.jpg)\n",
      "metadata": {
        "pycharm": {
          "metadata": false
        }
      }
    }
  ],
  "metadata": {
    "language_info": {
      "codemirror_mode": {
        "name": "ipython",
        "version": 2
      },
      "file_extension": ".py",
      "mimetype": "text/x-python",
      "name": "python",
      "nbconvert_exporter": "python",
      "pygments_lexer": "ipython2",
      "version": "2.7.6"
    },
    "kernelspec": {
      "name": "conda-cv",
      "language": "python",
      "display_name": "conda-cv"
    }
  },
  "nbformat": 4,
  "nbformat_minor": 0
}