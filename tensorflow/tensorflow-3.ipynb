{
  "cells": [
    {
      "cell_type": "code",
      "execution_count": 54,
      "outputs": [],
      "source": "import numpy as np\nimport matplotlib.pyplot as plt\nimport tensorflow as tf\nimport xlrd\nimport utils\nDATA_FILE \u003d \u0027data/fire_theft.xls\u0027\n\n# Phase 1: Assemble the graph\n# Step 1: read in data from the .xls file\nbook \u003d xlrd.open_workbook(DATA_FILE, encoding_override\u003d\u0027utf-8\u0027)\nsheet \u003d book.sheet_by_index(0)\ndata \u003d np.asarray(\n    [sheet.row_values(i) for i in range(1, sheet.nrows)], dtype\u003dnp.float32)\nn_samples \u003d sheet.nrows - 1",
      "metadata": {
        "pycharm": {
          "metadata": false,
          "name": "#%%\n",
          "is_executing": false
        }
      }
    },
    {
      "cell_type": "markdown",
      "metadata": {
        "collapsed": true,
        "pycharm": {
          "name": "#%% md\n"
        }
      },
      "source": "## TensorFlow中的Linear Regression\n线性回归是机器学习中非常简单的问题，我们用tensorflow实现一个小例子。\n\n问题: 希望能够找到一个城市中纵火案和盗窃案之间的关系，纵火案的数量是X，盗窃案的数量是Y，我们建设存在如下线性关系，Y \u003d wX + b。"
    },
    {
      "cell_type": "markdown",
      "source": "### TensorFlow实现\n首先定义输入X和目标Y的占位符(placeholder)",
      "metadata": {
        "pycharm": {
          "metadata": false
        }
      }
    },
    {
      "cell_type": "code",
      "source": "X \u003d tf.placeholder(tf.float32, shape\u003d[], name\u003d\u0027input\u0027)\nY \u003d tf.placeholder(tf.float32, shape\u003d[], name\u003d\u0027label\u0027)",
      "metadata": {
        "pycharm": {
          "metadata": false,
          "name": "#%% \n",
          "is_executing": false
        }
      },
      "execution_count": 55,
      "outputs": []
    },
    {
      "cell_type": "markdown",
      "source": "里面shape\u003d[ ]表示标量(scalar)\n\n然后定义需要更新和学习的参数w和b",
      "metadata": {
        "pycharm": {
          "metadata": false
        }
      }
    },
    {
      "cell_type": "code",
      "execution_count": 58,
      "outputs": [],
      "source": "w \u003d tf.get_variable(\u0027weight-2\u0027, shape\u003d[], initializer\u003dtf.truncated_normal_initializer())\nb \u003d tf.get_variable(\u0027bias-2\u0027, shape\u003d[], initializer\u003dtf.zeros_initializer())",
      "metadata": {
        "pycharm": {
          "metadata": false,
          "name": "#%%\n",
          "is_executing": false
        }
      }
    },
    {
      "cell_type": "markdown",
      "source": "接着定义好模型的输出以及误差函数，这里使用均方误差(Y - Y_predicted)^2",
      "metadata": {
        "pycharm": {
          "metadata": false,
          "name": "#%% md\n"
        }
      }
    },
    {
      "cell_type": "code",
      "source": "Y_predicted \u003d w * X + b\nloss \u003d tf.square(Y - Y_predicted, name\u003d\u0027loss\u0027)\n",
      "metadata": {
        "pycharm": {
          "metadata": false,
          "name": "#%% \n",
          "is_executing": false
        }
      },
      "execution_count": 59,
      "outputs": []
    },
    {
      "cell_type": "markdown",
      "source": "然后定义好优化函数，这里使用最简单的梯度下降，这里的学习率不仅可以是常量，还可以是一个tensor",
      "metadata": {
        "pycharm": {
          "metadata": false
        }
      }
    },
    {
      "cell_type": "code",
      "execution_count": 60,
      "outputs": [],
      "source": "optimizer \u003d tf.train.GradientDescentOptimizer(learning_rate\u003d1e-3).minimize(loss)",
      "metadata": {
        "pycharm": {
          "metadata": false,
          "name": "#%%\n",
          "is_executing": false
        }
      }
    },
    {
      "cell_type": "markdown",
      "source": "tensorflow是如何判断哪些参数该更新，哪些参数不更新呢？tf.Variable(trainable\u003dFalse)就表示不对该参数进行更新，默认下tf.Variable(trainable\u003dTrue)。\n\n然后在session中做运算",
      "metadata": {
        "pycharm": {
          "metadata": false
        }
      }
    },
    {
      "cell_type": "markdown",
      "source": "### 如何改善模型\n\n1. 我们可以增加维度，原始模型是Y \u003d Xw + b，我们可以提升一维，使其变成Y \u003d X^2 w1 + X w2 + b\n\n2. 可以换一种loss的计算方式，比如huber loss，当误差比较小的时候使用均方误差，误差比较大的时候使用绝对值误差\n![huber loss](https://pic1.zhimg.com/80/v2-51e425b86826129bd54e2b5293981f2c_hd.png)\n在实现huber loss的时候，因为tf是以图的形式来定义，所以不能使用逻辑语句，比如if等，我们可以使用TensorFlow中的条件判断语句，比如tf.where、tf.case等等，huber loss的实现方法如下",
      "metadata": {
        "pycharm": {
          "metadata": false
        }
      }
    },
    {
      "cell_type": "code",
      "execution_count": null,
      "outputs": [],
      "source": "def huber_loss(labels, predictions, delta\u003d1.0):\n    residual \u003d tf.abs(predictions - labels)\n    condition \u003d tf.less(residual, delta)\n    small_res \u003d 0.5 * residual**2\n    large_res \u003d delta * residual - 0.5 * delta**2\n    return tf.where(condition, small_res, large_res)\n\nh_loss \u003d huber_loss(Y, Y_predicted)",
      "metadata": {
        "pycharm": {
          "metadata": false,
          "name": "#%%\n"
        }
      }
    },
    {
      "cell_type": "code",
      "execution_count": 64,
      "outputs": [
        {
          "name": "stdout",
          "text": [
            "Epoch 0: 28.327669166383288\nEpoch 1: 26.383029792746086\nEpoch 2: 26.111220972169015\nEpoch 3: 25.8503627493268\nEpoch 4: 25.599684441196068\nEpoch 5: 25.35626557327452\nEpoch 6: 25.119339821771497\nEpoch 7: 24.88879706107435\nEpoch 8: 24.664469953271606\nEpoch 9: 24.446185321147954\nEpoch 10: 24.233780030870722\nEpoch 11: 24.02709330973171\nEpoch 12: 23.825970475340174\nEpoch 13: 23.630259540641593\nEpoch 14: 23.44005674496293\nEpoch 15: 23.256275835136574\nEpoch 16: 23.07963494246914",
            "\nEpoch 17: 22.91021854226433\nEpoch 18: 22.748441957037098\nEpoch 19: 22.593959632557624\nEpoch 20: 22.44642241485417\nEpoch 21: 22.305495251700417\nEpoch 22: 22.1716207525072\nEpoch 23: 22.045761796113634\nEpoch 24: 21.92700071974347\nEpoch 25: 21.814523398524173\nEpoch 26: 21.70799016254092\nEpoch 27: 21.606724575829936\nEpoch 28: 21.51042678655081\nEpoch 29: 21.418821921937965\nEpoch 30: 21.331043898394064",
            "\nEpoch 31: 21.246949390729977\nEpoch 32: 21.16637486072778\nEpoch 33: 21.089159672702884\nEpoch 34: 21.015149780416063\nEpoch 35: 20.944199892010406\nEpoch 36: 20.876171495105762\nEpoch 37: 20.810928508417593\nEpoch 38: 20.748350864897173\nEpoch 39: 20.688308519799087\nEpoch 40: 20.630385120709736\nEpoch 41: 20.574350532321702\nEpoch 42: 20.520140368668805\nEpoch 43: 20.46768277298127\nEpoch 44: 20.416909623536327\nEpoch 45: 20.36756531273325",
            "\nEpoch 46: 20.319632083709752\nEpoch 47: 20.273303417755024\nEpoch 48: 20.22853256708809\nEpoch 49: 20.185260359907435\nEpoch 50: 20.143431391212204\nEpoch 51: 20.103076066467025\nEpoch 52: 20.064254366837087\nEpoch 53: 20.026900327187917\nEpoch 54: 19.99095275839292\nEpoch 55: 19.95635255976785\nEpoch 56: 19.923040930447833\nEpoch 57: 19.890967058461335\nEpoch 58: 19.86008007992946\nEpoch 59: 19.830328163025634\nEpoch 60: 19.801666287882696",
            "\nEpoch 61: 19.774108046954055\nEpoch 62: 19.747652605256356\nEpoch 63: 19.722253273785185\nEpoch 64: 19.697861631101528\nEpoch 65: 19.67443622174185\nEpoch 66: 19.65193206741519\nEpoch 67: 19.630310006173595\nEpoch 68: 19.609480329744873\nEpoch 69: 19.589358268039568\nEpoch 70: 19.56991706859498",
            "\nEpoch 71: 19.551127933764032\nEpoch 72: 19.532967875312483\nEpoch 73: 19.515416114812805\nEpoch 74: 19.498443949169346\nEpoch 75: 19.48203299804369\nEpoch 76: 19.46616226229595\nEpoch 77: 19.45080990762827\nEpoch 78: 19.435958412993518\nEpoch 79: 19.42158799690064\nEpoch 80: 19.407682574359654\nEpoch 81: 19.394223742131587\nEpoch 82: 19.381197482879674\nEpoch 83: 19.368560181886313\n",
            "Epoch 84: 19.356291368559358\nEpoch 85: 19.34437879498693\nEpoch 86: 19.332811418654664\nEpoch 87: 19.321576352541644\nEpoch 88: 19.3106665954526\nEpoch 89: 19.30007115982118\nEpoch 90: 19.28977999782988\nEpoch 91: 19.279784462991216\nEpoch 92: 19.27007436663622\nEpoch 93: 19.260641348503885\nEpoch 94: 19.251478172838688\nEpoch 95: 19.242574023348944",
            "\nEpoch 96: 19.233925760501908\nEpoch 97: 19.225522021807375\nEpoch 98: 19.217355403871764\nEpoch 99: 19.209420207000914\n"
          ],
          "output_type": "stream"
        },
        {
          "traceback": [
            "\u001b[1;31m---------------------------------------------------------------------------\u001b[0m",
            "\u001b[1;31mTypeError\u001b[0m                                 Traceback (most recent call last)",
            "\u001b[1;32mD:\\PythonIDE\\anaconda3\\Anaconda\\lib\\site-packages\\tensorflow\\python\\client\\session.py\u001b[0m in \u001b[0;36m__init__\u001b[1;34m(self, fetches, contraction_fn)\u001b[0m\n\u001b[0;32m    281\u001b[0m         self._unique_fetches.append(ops.get_default_graph().as_graph_element(\n\u001b[1;32m--\u003e 282\u001b[1;33m             fetch, allow_tensor\u003dTrue, allow_operation\u003dTrue))\n\u001b[0m\u001b[0;32m    283\u001b[0m       \u001b[1;32mexcept\u001b[0m \u001b[0mTypeError\u001b[0m \u001b[1;32mas\u001b[0m \u001b[0me\u001b[0m\u001b[1;33m:\u001b[0m\u001b[1;33m\u001b[0m\u001b[0m\n",
            "\u001b[1;32mD:\\PythonIDE\\anaconda3\\Anaconda\\lib\\site-packages\\tensorflow\\python\\framework\\ops.py\u001b[0m in \u001b[0;36mas_graph_element\u001b[1;34m(self, obj, allow_tensor, allow_operation)\u001b[0m\n\u001b[0;32m   3589\u001b[0m     \u001b[1;32mwith\u001b[0m \u001b[0mself\u001b[0m\u001b[1;33m.\u001b[0m\u001b[0m_lock\u001b[0m\u001b[1;33m:\u001b[0m\u001b[1;33m\u001b[0m\u001b[0m\n\u001b[1;32m-\u003e 3590\u001b[1;33m       \u001b[1;32mreturn\u001b[0m \u001b[0mself\u001b[0m\u001b[1;33m.\u001b[0m\u001b[0m_as_graph_element_locked\u001b[0m\u001b[1;33m(\u001b[0m\u001b[0mobj\u001b[0m\u001b[1;33m,\u001b[0m \u001b[0mallow_tensor\u001b[0m\u001b[1;33m,\u001b[0m \u001b[0mallow_operation\u001b[0m\u001b[1;33m)\u001b[0m\u001b[1;33m\u001b[0m\u001b[0m\n\u001b[0m\u001b[0;32m   3591\u001b[0m \u001b[1;33m\u001b[0m\u001b[0m\n",
            "\u001b[1;32mD:\\PythonIDE\\anaconda3\\Anaconda\\lib\\site-packages\\tensorflow\\python\\framework\\ops.py\u001b[0m in \u001b[0;36m_as_graph_element_locked\u001b[1;34m(self, obj, allow_tensor, allow_operation)\u001b[0m\n\u001b[0;32m   3678\u001b[0m       raise TypeError(\"Can not convert a %s into a %s.\" % (type(obj).__name__,\n\u001b[1;32m-\u003e 3679\u001b[1;33m                                                            types_str))\n\u001b[0m\u001b[0;32m   3680\u001b[0m \u001b[1;33m\u001b[0m\u001b[0m\n",
            "\u001b[1;31mTypeError\u001b[0m: Can not convert a float32 into a Tensor or Operation.",
            "\nDuring handling of the above exception, another exception occurred:\n",
            "\u001b[1;31mTypeError\u001b[0m                                 Traceback (most recent call last)",
            "\u001b[1;32m\u003cipython-input-64-9d3f4abd9881\u003e\u001b[0m in \u001b[0;36m\u003cmodule\u003e\u001b[1;34m()\u001b[0m\n\u001b[0;32m     10\u001b[0m             \u001b[0mtotal_loss\u001b[0m \u001b[1;33m+\u003d\u001b[0m \u001b[0ml\u001b[0m\u001b[1;33m\u001b[0m\u001b[0m\n\u001b[0;32m     11\u001b[0m         \u001b[0mprint\u001b[0m\u001b[1;33m(\u001b[0m\u001b[1;34m\"Epoch {0}: {1}\"\u001b[0m\u001b[1;33m.\u001b[0m\u001b[0mformat\u001b[0m\u001b[1;33m(\u001b[0m\u001b[0mi\u001b[0m\u001b[1;33m,\u001b[0m \u001b[0mtotal_loss\u001b[0m \u001b[1;33m/\u001b[0m \u001b[0mn_samples\u001b[0m\u001b[1;33m)\u001b[0m\u001b[1;33m)\u001b[0m\u001b[1;33m\u001b[0m\u001b[0m\n\u001b[1;32m---\u003e 12\u001b[1;33m     \u001b[0mw\u001b[0m\u001b[1;33m,\u001b[0m \u001b[0mb\u001b[0m \u001b[1;33m\u003d\u001b[0m \u001b[0msess\u001b[0m\u001b[1;33m.\u001b[0m\u001b[0mrun\u001b[0m\u001b[1;33m(\u001b[0m\u001b[1;33m[\u001b[0m\u001b[0mw\u001b[0m\u001b[1;33m,\u001b[0m \u001b[0mb\u001b[0m\u001b[1;33m]\u001b[0m\u001b[1;33m)\u001b[0m\u001b[1;33m\u001b[0m\u001b[0m\n\u001b[0m\u001b[0;32m     13\u001b[0m     \u001b[0mwriter\u001b[0m\u001b[1;33m.\u001b[0m\u001b[0mclose\u001b[0m\u001b[1;33m(\u001b[0m\u001b[1;33m)\u001b[0m\u001b[1;33m\u001b[0m\u001b[0m\n",
            "\u001b[1;32mD:\\PythonIDE\\anaconda3\\Anaconda\\lib\\site-packages\\tensorflow\\python\\client\\session.py\u001b[0m in \u001b[0;36mrun\u001b[1;34m(self, fetches, feed_dict, options, run_metadata)\u001b[0m\n\u001b[0;32m    898\u001b[0m     \u001b[1;32mtry\u001b[0m\u001b[1;33m:\u001b[0m\u001b[1;33m\u001b[0m\u001b[0m\n\u001b[0;32m    899\u001b[0m       result \u003d self._run(None, fetches, feed_dict, options_ptr,\n\u001b[1;32m--\u003e 900\u001b[1;33m                          run_metadata_ptr)\n\u001b[0m\u001b[0;32m    901\u001b[0m       \u001b[1;32mif\u001b[0m \u001b[0mrun_metadata\u001b[0m\u001b[1;33m:\u001b[0m\u001b[1;33m\u001b[0m\u001b[0m\n\u001b[0;32m    902\u001b[0m         \u001b[0mproto_data\u001b[0m \u001b[1;33m\u003d\u001b[0m \u001b[0mtf_session\u001b[0m\u001b[1;33m.\u001b[0m\u001b[0mTF_GetBuffer\u001b[0m\u001b[1;33m(\u001b[0m\u001b[0mrun_metadata_ptr\u001b[0m\u001b[1;33m)\u001b[0m\u001b[1;33m\u001b[0m\u001b[0m\n",
            "\u001b[1;32mD:\\PythonIDE\\anaconda3\\Anaconda\\lib\\site-packages\\tensorflow\\python\\client\\session.py\u001b[0m in \u001b[0;36m_run\u001b[1;34m(self, handle, fetches, feed_dict, options, run_metadata)\u001b[0m\n\u001b[0;32m   1118\u001b[0m     \u001b[1;31m# Create a fetch handler to take care of the structure of fetches.\u001b[0m\u001b[1;33m\u001b[0m\u001b[1;33m\u001b[0m\u001b[0m\n\u001b[0;32m   1119\u001b[0m     fetch_handler \u003d _FetchHandler(\n\u001b[1;32m-\u003e 1120\u001b[1;33m         self._graph, fetches, feed_dict_tensor, feed_handles\u003dfeed_handles)\n\u001b[0m\u001b[0;32m   1121\u001b[0m \u001b[1;33m\u001b[0m\u001b[0m\n\u001b[0;32m   1122\u001b[0m     \u001b[1;31m# Run request and get response.\u001b[0m\u001b[1;33m\u001b[0m\u001b[1;33m\u001b[0m\u001b[0m\n",
            "\u001b[1;32mD:\\PythonIDE\\anaconda3\\Anaconda\\lib\\site-packages\\tensorflow\\python\\client\\session.py\u001b[0m in \u001b[0;36m__init__\u001b[1;34m(self, graph, fetches, feeds, feed_handles)\u001b[0m\n\u001b[0;32m    425\u001b[0m     \"\"\"\n\u001b[0;32m    426\u001b[0m     \u001b[1;32mwith\u001b[0m \u001b[0mgraph\u001b[0m\u001b[1;33m.\u001b[0m\u001b[0mas_default\u001b[0m\u001b[1;33m(\u001b[0m\u001b[1;33m)\u001b[0m\u001b[1;33m:\u001b[0m\u001b[1;33m\u001b[0m\u001b[0m\n\u001b[1;32m--\u003e 427\u001b[1;33m       \u001b[0mself\u001b[0m\u001b[1;33m.\u001b[0m\u001b[0m_fetch_mapper\u001b[0m \u001b[1;33m\u003d\u001b[0m \u001b[0m_FetchMapper\u001b[0m\u001b[1;33m.\u001b[0m\u001b[0mfor_fetch\u001b[0m\u001b[1;33m(\u001b[0m\u001b[0mfetches\u001b[0m\u001b[1;33m)\u001b[0m\u001b[1;33m\u001b[0m\u001b[0m\n\u001b[0m\u001b[0;32m    428\u001b[0m     \u001b[0mself\u001b[0m\u001b[1;33m.\u001b[0m\u001b[0m_fetches\u001b[0m \u001b[1;33m\u003d\u001b[0m \u001b[1;33m[\u001b[0m\u001b[1;33m]\u001b[0m\u001b[1;33m\u001b[0m\u001b[0m\n\u001b[0;32m    429\u001b[0m     \u001b[0mself\u001b[0m\u001b[1;33m.\u001b[0m\u001b[0m_targets\u001b[0m \u001b[1;33m\u003d\u001b[0m \u001b[1;33m[\u001b[0m\u001b[1;33m]\u001b[0m\u001b[1;33m\u001b[0m\u001b[0m\n",
            "\u001b[1;32mD:\\PythonIDE\\anaconda3\\Anaconda\\lib\\site-packages\\tensorflow\\python\\client\\session.py\u001b[0m in \u001b[0;36mfor_fetch\u001b[1;34m(fetch)\u001b[0m\n\u001b[0;32m    243\u001b[0m     \u001b[1;32melif\u001b[0m \u001b[0misinstance\u001b[0m\u001b[1;33m(\u001b[0m\u001b[0mfetch\u001b[0m\u001b[1;33m,\u001b[0m \u001b[1;33m(\u001b[0m\u001b[0mlist\u001b[0m\u001b[1;33m,\u001b[0m \u001b[0mtuple\u001b[0m\u001b[1;33m)\u001b[0m\u001b[1;33m)\u001b[0m\u001b[1;33m:\u001b[0m\u001b[1;33m\u001b[0m\u001b[0m\n\u001b[0;32m    244\u001b[0m       \u001b[1;31m# NOTE(touts): This is also the code path for namedtuples.\u001b[0m\u001b[1;33m\u001b[0m\u001b[1;33m\u001b[0m\u001b[0m\n\u001b[1;32m--\u003e 245\u001b[1;33m       \u001b[1;32mreturn\u001b[0m \u001b[0m_ListFetchMapper\u001b[0m\u001b[1;33m(\u001b[0m\u001b[0mfetch\u001b[0m\u001b[1;33m)\u001b[0m\u001b[1;33m\u001b[0m\u001b[0m\n\u001b[0m\u001b[0;32m    246\u001b[0m     \u001b[1;32melif\u001b[0m \u001b[0misinstance\u001b[0m\u001b[1;33m(\u001b[0m\u001b[0mfetch\u001b[0m\u001b[1;33m,\u001b[0m \u001b[0mdict\u001b[0m\u001b[1;33m)\u001b[0m\u001b[1;33m:\u001b[0m\u001b[1;33m\u001b[0m\u001b[0m\n\u001b[0;32m    247\u001b[0m       \u001b[1;32mreturn\u001b[0m \u001b[0m_DictFetchMapper\u001b[0m\u001b[1;33m(\u001b[0m\u001b[0mfetch\u001b[0m\u001b[1;33m)\u001b[0m\u001b[1;33m\u001b[0m\u001b[0m\n",
            "\u001b[1;32mD:\\PythonIDE\\anaconda3\\Anaconda\\lib\\site-packages\\tensorflow\\python\\client\\session.py\u001b[0m in \u001b[0;36m__init__\u001b[1;34m(self, fetches)\u001b[0m\n\u001b[0;32m    350\u001b[0m     \"\"\"\n\u001b[0;32m    351\u001b[0m     \u001b[0mself\u001b[0m\u001b[1;33m.\u001b[0m\u001b[0m_fetch_type\u001b[0m \u001b[1;33m\u003d\u001b[0m \u001b[0mtype\u001b[0m\u001b[1;33m(\u001b[0m\u001b[0mfetches\u001b[0m\u001b[1;33m)\u001b[0m\u001b[1;33m\u001b[0m\u001b[0m\n\u001b[1;32m--\u003e 352\u001b[1;33m     \u001b[0mself\u001b[0m\u001b[1;33m.\u001b[0m\u001b[0m_mappers\u001b[0m \u001b[1;33m\u003d\u001b[0m \u001b[1;33m[\u001b[0m\u001b[0m_FetchMapper\u001b[0m\u001b[1;33m.\u001b[0m\u001b[0mfor_fetch\u001b[0m\u001b[1;33m(\u001b[0m\u001b[0mfetch\u001b[0m\u001b[1;33m)\u001b[0m \u001b[1;32mfor\u001b[0m \u001b[0mfetch\u001b[0m \u001b[1;32min\u001b[0m \u001b[0mfetches\u001b[0m\u001b[1;33m]\u001b[0m\u001b[1;33m\u001b[0m\u001b[0m\n\u001b[0m\u001b[0;32m    353\u001b[0m     \u001b[0mself\u001b[0m\u001b[1;33m.\u001b[0m\u001b[0m_unique_fetches\u001b[0m\u001b[1;33m,\u001b[0m \u001b[0mself\u001b[0m\u001b[1;33m.\u001b[0m\u001b[0m_value_indices\u001b[0m \u001b[1;33m\u003d\u001b[0m \u001b[0m_uniquify_fetches\u001b[0m\u001b[1;33m(\u001b[0m\u001b[0mself\u001b[0m\u001b[1;33m.\u001b[0m\u001b[0m_mappers\u001b[0m\u001b[1;33m)\u001b[0m\u001b[1;33m\u001b[0m\u001b[0m\n\u001b[0;32m    354\u001b[0m \u001b[1;33m\u001b[0m\u001b[0m\n",
            "\u001b[1;32mD:\\PythonIDE\\anaconda3\\Anaconda\\lib\\site-packages\\tensorflow\\python\\client\\session.py\u001b[0m in \u001b[0;36m\u003clistcomp\u003e\u001b[1;34m(.0)\u001b[0m\n\u001b[0;32m    350\u001b[0m     \"\"\"\n\u001b[0;32m    351\u001b[0m     \u001b[0mself\u001b[0m\u001b[1;33m.\u001b[0m\u001b[0m_fetch_type\u001b[0m \u001b[1;33m\u003d\u001b[0m \u001b[0mtype\u001b[0m\u001b[1;33m(\u001b[0m\u001b[0mfetches\u001b[0m\u001b[1;33m)\u001b[0m\u001b[1;33m\u001b[0m\u001b[0m\n\u001b[1;32m--\u003e 352\u001b[1;33m     \u001b[0mself\u001b[0m\u001b[1;33m.\u001b[0m\u001b[0m_mappers\u001b[0m \u001b[1;33m\u003d\u001b[0m \u001b[1;33m[\u001b[0m\u001b[0m_FetchMapper\u001b[0m\u001b[1;33m.\u001b[0m\u001b[0mfor_fetch\u001b[0m\u001b[1;33m(\u001b[0m\u001b[0mfetch\u001b[0m\u001b[1;33m)\u001b[0m \u001b[1;32mfor\u001b[0m \u001b[0mfetch\u001b[0m \u001b[1;32min\u001b[0m \u001b[0mfetches\u001b[0m\u001b[1;33m]\u001b[0m\u001b[1;33m\u001b[0m\u001b[0m\n\u001b[0m\u001b[0;32m    353\u001b[0m     \u001b[0mself\u001b[0m\u001b[1;33m.\u001b[0m\u001b[0m_unique_fetches\u001b[0m\u001b[1;33m,\u001b[0m \u001b[0mself\u001b[0m\u001b[1;33m.\u001b[0m\u001b[0m_value_indices\u001b[0m \u001b[1;33m\u003d\u001b[0m \u001b[0m_uniquify_fetches\u001b[0m\u001b[1;33m(\u001b[0m\u001b[0mself\u001b[0m\u001b[1;33m.\u001b[0m\u001b[0m_mappers\u001b[0m\u001b[1;33m)\u001b[0m\u001b[1;33m\u001b[0m\u001b[0m\n\u001b[0;32m    354\u001b[0m \u001b[1;33m\u001b[0m\u001b[0m\n",
            "\u001b[1;32mD:\\PythonIDE\\anaconda3\\Anaconda\\lib\\site-packages\\tensorflow\\python\\client\\session.py\u001b[0m in \u001b[0;36mfor_fetch\u001b[1;34m(fetch)\u001b[0m\n\u001b[0;32m    251\u001b[0m         \u001b[1;32mif\u001b[0m \u001b[0misinstance\u001b[0m\u001b[1;33m(\u001b[0m\u001b[0mfetch\u001b[0m\u001b[1;33m,\u001b[0m \u001b[0mtensor_type\u001b[0m\u001b[1;33m)\u001b[0m\u001b[1;33m:\u001b[0m\u001b[1;33m\u001b[0m\u001b[0m\n\u001b[0;32m    252\u001b[0m           \u001b[0mfetches\u001b[0m\u001b[1;33m,\u001b[0m \u001b[0mcontraction_fn\u001b[0m \u001b[1;33m\u003d\u001b[0m \u001b[0mfetch_fn\u001b[0m\u001b[1;33m(\u001b[0m\u001b[0mfetch\u001b[0m\u001b[1;33m)\u001b[0m\u001b[1;33m\u001b[0m\u001b[0m\n\u001b[1;32m--\u003e 253\u001b[1;33m           \u001b[1;32mreturn\u001b[0m \u001b[0m_ElementFetchMapper\u001b[0m\u001b[1;33m(\u001b[0m\u001b[0mfetches\u001b[0m\u001b[1;33m,\u001b[0m \u001b[0mcontraction_fn\u001b[0m\u001b[1;33m)\u001b[0m\u001b[1;33m\u001b[0m\u001b[0m\n\u001b[0m\u001b[0;32m    254\u001b[0m     \u001b[1;31m# Did not find anything.\u001b[0m\u001b[1;33m\u001b[0m\u001b[1;33m\u001b[0m\u001b[0m\n\u001b[0;32m    255\u001b[0m     raise TypeError(\u0027Fetch argument %r has invalid type %r\u0027 % (fetch,\n",
            "\u001b[1;32mD:\\PythonIDE\\anaconda3\\Anaconda\\lib\\site-packages\\tensorflow\\python\\client\\session.py\u001b[0m in \u001b[0;36m__init__\u001b[1;34m(self, fetches, contraction_fn)\u001b[0m\n\u001b[0;32m    284\u001b[0m         raise TypeError(\u0027Fetch argument %r has invalid type %r, \u0027\n\u001b[0;32m    285\u001b[0m                         \u001b[1;34m\u0027must be a string or Tensor. (%s)\u0027\u001b[0m \u001b[1;33m%\u001b[0m\u001b[1;33m\u001b[0m\u001b[0m\n\u001b[1;32m--\u003e 286\u001b[1;33m                         (fetch, type(fetch), str(e)))\n\u001b[0m\u001b[0;32m    287\u001b[0m       \u001b[1;32mexcept\u001b[0m \u001b[0mValueError\u001b[0m \u001b[1;32mas\u001b[0m \u001b[0me\u001b[0m\u001b[1;33m:\u001b[0m\u001b[1;33m\u001b[0m\u001b[0m\n\u001b[0;32m    288\u001b[0m         raise ValueError(\u0027Fetch argument %r cannot be interpreted as a \u0027\n",
            "\u001b[1;31mTypeError\u001b[0m: Fetch argument 1.718478 has invalid type \u003cclass \u0027numpy.float32\u0027\u003e, must be a string or Tensor. (Can not convert a float32 into a Tensor or Operation.)"
          ],
          "evalue": "Fetch argument 1.718478 has invalid type \u003cclass \u0027numpy.float32\u0027\u003e, must be a string or Tensor. (Can not convert a float32 into a Tensor or Operation.)",
          "ename": "TypeError",
          "output_type": "error"
        }
      ],
      "source": "init \u003d tf.global_variables_initializer()\nwith tf.Session() as sess:\n    writer \u003d tf.summary.FileWriter(\u0027./linear_log\u0027, graph\u003dsess.graph)\n    sess.run(init)\n    for i in range(100):\n        total_loss \u003d 0\n        for x, y in data:\n            # Session runs optimizer to minimize loss and fetch the value of loss. Name the received value as l\n            _, l \u003d sess.run([optimizer, h_loss], feed_dict\u003d{X: x, Y: y})\n            total_loss +\u003d l\n        print(\"Epoch {0}: {1}\".format(i, total_loss / n_samples))\n    w, b \u003d sess.run([w, b])\n    writer.close()",
      "metadata": {
        "pycharm": {
          "metadata": false,
          "name": "#%%\n",
          "is_executing": false
        }
      }
    },
    {
      "cell_type": "markdown",
      "source": "###可视化\n我们可以打开tensorboard查看我们的结构图如下\n![可视化](https://pic1.zhimg.com/80/v2-af2654d4cde6465b71dda84a179cf038_hd.png)",
      "metadata": {
        "pycharm": {
          "metadata": false
        }
      }
    },
    {
      "cell_type": "code",
      "execution_count": 65,
      "outputs": [
        {
          "data": {
            "text/plain": "\u003cFigure size 432x288 with 1 Axes\u003e",
            "image/png": "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\u003d\u003d\n"
          },
          "metadata": {
            "needs_background": "light"
          },
          "output_type": "display_data"
        }
      ],
      "source": "# plot the results\nX, Y \u003d data.T[0], data.T[1]\nplt.plot(X, Y, \u0027bo\u0027, label\u003d\u0027Real data\u0027)\nplt.plot(X, X * w + b, \u0027r\u0027, label\u003d\u0027Predicted data\u0027)\nplt.legend()\nplt.show()\n\n",
      "metadata": {
        "pycharm": {
          "metadata": false,
          "name": "#%%\n",
          "is_executing": false
        }
      }
    }
  ],
  "metadata": {
    "language_info": {
      "codemirror_mode": {
        "name": "ipython",
        "version": 2
      },
      "file_extension": ".py",
      "mimetype": "text/x-python",
      "name": "python",
      "nbconvert_exporter": "python",
      "pygments_lexer": "ipython2",
      "version": "2.7.6"
    },
    "kernelspec": {
      "name": "pycharm-b977b55f",
      "language": "python",
      "display_name": "PyCharm (OpenCVLearn)"
    },
    "stem_cell": {
      "cell_type": "raw",
      "source": "",
      "metadata": {
        "pycharm": {
          "metadata": false
        }
      }
    }
  },
  "nbformat": 4,
  "nbformat_minor": 0
}