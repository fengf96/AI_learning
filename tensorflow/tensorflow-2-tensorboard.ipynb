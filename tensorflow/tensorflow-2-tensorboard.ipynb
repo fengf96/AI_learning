{
 "cells": [
  {
   "cell_type": "markdown",
   "metadata": {
    "pycharm": {
     "metadata": false
    }
   },
   "source": [
    "## 可视化工具(tensorboard)\n",
    "tensorflow不仅仅是一个计算图软件，其还包含了tensorboard可视化工具，安装tensorflow的时候会默认安装，使用方法非常简单，使用writer = tf.summary.FileWriter('./graph', sess.graph)就能够创建一个文件写入器，./graph是存储目录，sess.graph表示读入的图结构。"
   ]
  },
  {
   "cell_type": "code",
   "execution_count": 1,
   "metadata": {
    "collapsed": true,
    "pycharm": {
     "is_executing": false
    }
   },
   "outputs": [
    {
     "name": "stdout",
     "output_type": "stream",
     "text": [
      "5\n"
     ]
    }
   ],
   "source": [
    "import tensorflow as tf\n",
    "a = tf.constant(2)\n",
    "b = tf.constant(3)\n",
    "x = tf.add(a, b)\n",
    "with tf.Session() as sess:\n",
    "    writer = tf.summary.FileWriter('./graphs', sess.graph)\n",
    "    print(sess.run(x))\n",
    "writer.close()  # close the writer when you’re done using it"
   ]
  },
  {
   "cell_type": "markdown",
   "metadata": {
    "pycharm": {
     "metadata": false
    }
   },
   "source": [
    "然后打开终端，运行程序，接着输入`tensorboard --logdir=\"./graphs\"`，然后点击提示信息中的网站，就能够进入tensorboard，可以得到下面的结果。\n",
    "![tensorboard](https://pic2.zhimg.com/80/v2-f326d404c78795e13828efa053dd17b5_hd.png)\n"
   ]
  },
  {
   "cell_type": "markdown",
   "metadata": {
    "pycharm": {
     "metadata": false
    }
   },
   "source": [
    "## 常数类型(Constant types)\n",
    "- 能够通过下面这个方式创造一个常数\n",
    "- tf.constant(value, dtype=None, shape=None, name='Const', verify_shape=False)"
   ]
  },
  {
   "cell_type": "code",
   "execution_count": 2,
   "metadata": {
    "pycharm": {
     "is_executing": false,
     "metadata": false,
     "name": "#%%\n"
    }
   },
   "outputs": [
    {
     "name": "stdout",
     "output_type": "stream",
     "text": [
      "[[0 2]\n",
      " [4 6]]\n"
     ]
    }
   ],
   "source": [
    "a = tf.constant([2,2], name='a')\n",
    "b = tf.constant([[0,1], [2,3]], name='b')\n",
    "x = tf.multiply(a, b, name='dot_production')\n",
    "with tf.Session() as sess:\n",
    "    print(sess.run(x))"
   ]
  },
  {
   "cell_type": "markdown",
   "metadata": {
    "pycharm": {
     "metadata": false
    }
   },
   "source": [
    "这跟numpy里面的是差不多的，同时还有一些特殊值的常量创建。"
   ]
  },
  {
   "cell_type": "code",
   "execution_count": 11,
   "metadata": {
    "pycharm": {
     "is_executing": false,
     "metadata": false,
     "name": "#%%\n"
    }
   },
   "outputs": [
    {
     "name": "stdout",
     "output_type": "stream",
     "text": [
      "[[ 0.  0.]\n",
      " [ 0.  0.]]\n",
      "[[0 0 0]\n",
      " [0 0 0]]\n",
      "[[ 1.  1.]\n",
      " [ 1.  1.]]\n",
      "[[1 1 1]\n",
      " [1 1 1]]\n",
      "[[8 8 8]\n",
      " [8 8 8]]\n"
     ]
    }
   ],
   "source": [
    "shape = [2,2]\n",
    "sess = tf.Session()\n",
    "# zeros()创建shape.x * shape.y的矩阵\n",
    "print(sess.run(tf.zeros(shape, dtype=tf.float32, name=None)))\n",
    "tensor=[[2,4,4],[1,3,6]]\n",
    "\n",
    "# zeros_like()创建全0矩阵，形状和tensor一样\n",
    "print(sess.run(tf.zeros_like(tensor, dtype=None, name=None, optimize=True)))\n",
    "print(sess.run(tf.ones(shape, dtype=tf.float32, name=None)))\n",
    "print(sess.run(tf.ones_like(tensor, dtype=None, name=None, optimize=True)))\n"
   ]
  },
  {
   "cell_type": "code",
   "execution_count": 12,
   "metadata": {
    "pycharm": {
     "is_executing": false,
     "metadata": false,
     "name": "#%%\n"
    }
   },
   "outputs": [
    {
     "name": "stdout",
     "output_type": "stream",
     "text": [
      "[[8 8 8]\n",
      " [8 8 8]]\n"
     ]
    }
   ],
   "source": [
    "# tf.fill(dims, value, name=None) --用value填充形状为dims的张量\n",
    "# 参数说明:\n",
    "# dims: 输出张量的形状\n",
    "# value: 填充返回的张量的值\n",
    "print(sess.run(tf.fill([2, 3], 8)))"
   ]
  },
  {
   "cell_type": "code",
   "execution_count": 13,
   "metadata": {
    "pycharm": {
     "is_executing": false,
     "metadata": false,
     "name": "#%%\n"
    }
   },
   "outputs": [
    {
     "name": "stdout",
     "output_type": "stream",
     "text": [
      "[ 10.  11.  12.  13.]\n"
     ]
    }
   ],
   "source": [
    "# tf.linspace(start, stop, num, name=None)\n",
    "print(sess.run(tf.linspace(10.0, 13.0, 4)))"
   ]
  },
  {
   "cell_type": "code",
   "execution_count": 16,
   "metadata": {
    "pycharm": {
     "is_executing": false,
     "metadata": false,
     "name": "#%%\n"
    }
   },
   "outputs": [
    {
     "name": "stdout",
     "output_type": "stream",
     "text": [
      "[ 3  6  9 12 15 18]\n"
     ]
    }
   ],
   "source": [
    "# tf.range(start, limit=None, delta=1, dtype=None, name='range')\n",
    "print(sess.run(tf.range(3, limit=18, delta=3)))"
   ]
  },
  {
   "cell_type": "markdown",
   "metadata": {
    "pycharm": {
     "metadata": false
    }
   },
   "source": [
    "### 除此之外还可以产生一些随机数\n",
    "```\n",
    "# 正态分布随机数，均值mean,标准差stddev\n",
    "tf.random_normal(shape, mean=0.0, stddev=1.0, dtype=tf.float32, seed=None, name=None)\n",
    "# 截断正态分布随机数，均值mean,标准差stddev,不过只保留[mean-2stddev,mean+2stddev]范围内的随机数\n",
    "tf.truncated_normal(shape, mean=0.0, stddev=1.0, dtype=tf.float32, seed=None,\n",
    "name=None)\n",
    "# 均匀分布随机数，范围为[minval,maxval]\n",
    "tf.random_uniform(shape, minval=0, maxval=None, dtype=tf.float32, seed=None,\n",
    "name=None)\n",
    "# 沿着张量value的第一维进行随机重新排列\n",
    "tf.random_shuffle(value, seed=None, name=None)\n",
    "# 随机地将张量value裁剪为给定的大小\n",
    "tf.random_crop(value, size, seed=None, name=None)\n",
    "# 从多项式分布logits中抽取num_samples个样本.\n",
    "tf.multinomial(logits, num_samples, seed=None, name=None)\n",
    "# 从每个给定的 Gamma distribution(s) 中绘制 shape 样本.\n",
    "tf.random_gamma(shape, alpha, beta=None, dtype=tf.float32, seed=None, name=None)\n",
    "```\n",
    "- 例如：\n",
    "```\n",
    "samples = tf.random_gamma([10], [0.5, 1.5]) \n",
    "# samples 的形状为[10, 2], 其中每个 slice [:, 0] 和 [:, 1] 表示从每个分布中抽取的样本\n",
    "samples = tf.random_gamma([7, 5], [0.5, 1.5]) \n",
    "# samples 形状为[7, 5, 2], 其中每个 slice [:, :, 0] 和 [:, :, 1] 表示从两个分布中的每一个中抽取 7x5 个样本\n",
    "samples = tf.random_gamma([30], [[1.],[3.],[5.]], beta=[[3., 4.]]) \n",
    "# samples 形状为 [30, 3, 2], 每个 3x2 分布有30个样本\n",
    "```"
   ]
  },
  {
   "cell_type": "markdown",
   "metadata": {
    "pycharm": {
     "metadata": false
    }
   },
   "source": [
    "另外tensorflow和numpy的数据类型可以通用，也就是说"
   ]
  },
  {
   "cell_type": "code",
   "execution_count": 18,
   "metadata": {
    "pycharm": {
     "is_executing": false,
     "metadata": false,
     "name": "#%% \n"
    }
   },
   "outputs": [
    {
     "data": {
      "text/plain": [
       "<tf.Tensor 'ones_2:0' shape=(2, 2) dtype=float32>"
      ]
     },
     "execution_count": 18,
     "metadata": {},
     "output_type": "execute_result"
    }
   ],
   "source": [
    "import numpy as np\n",
    "tf.ones([2, 2], np.float32)"
   ]
  },
  {
   "cell_type": "markdown",
   "metadata": {
    "pycharm": {
     "metadata": false
    }
   },
   "source": [
    "#### 最好不要使用python自带的数据类型，同时在使用numpy数据类型的时候要小心，因为未来可能tensorflow的数据类型和numpy不再兼容。"
   ]
  },
  {
   "cell_type": "markdown",
   "metadata": {
    "pycharm": {
     "metadata": false
    }
   },
   "source": [
    "## 变量(Variable)\n",
    "使用常量会存在什么问题呢？常量会存在计算图的定义当中，如果常量过多，这会使得加载计算图变得非常慢，同时常量的值不可改变，所以引入了变量。"
   ]
  },
  {
   "cell_type": "code",
   "execution_count": 24,
   "metadata": {
    "pycharm": {
     "is_executing": false,
     "metadata": false,
     "name": "#%%\n"
    }
   },
   "outputs": [],
   "source": [
    "a = tf.Variable(2, name='scalar')\n",
    "b = tf.Variable([2, 3], name='vector')\n",
    "c = tf.Variable([[0, 1], [2, 3]], name='matrix')\n",
    "w = tf.Variable(tf.zeros([784, 10]), name='weight')"
   ]
  },
  {
   "cell_type": "markdown",
   "metadata": {
    "pycharm": {
     "metadata": false
    }
   },
   "source": [
    "变量有着下面几个操作\n",
    "```\n",
    "x = tf.Variable()\n",
    "x.initializer # 初始化\n",
    "x.eval() # 读取里面的值\n",
    "x.assign() # 分配值给这个变量\n",
    "```"
   ]
  },
  {
   "cell_type": "markdown",
   "metadata": {
    "pycharm": {
     "metadata": false
    }
   },
   "source": [
    "注意一点，在使用变量之前必须对其进行初始化，初始化可以看作是一种变量的分配值操作。最简单的初始化方式是一次性初始化所有的变量"
   ]
  },
  {
   "cell_type": "code",
   "execution_count": 26,
   "metadata": {
    "pycharm": {
     "is_executing": false,
     "metadata": false,
     "name": "#%%\n"
    }
   },
   "outputs": [],
   "source": [
    "init = tf.global_variables_initializer()\n",
    "with tf.Session() as sess:\n",
    "    sess.run(init)"
   ]
  },
  {
   "cell_type": "markdown",
   "metadata": {
    "pycharm": {
     "metadata": false
    }
   },
   "source": [
    "也可以对某一部分变量进行初始化"
   ]
  },
  {
   "cell_type": "code",
   "execution_count": 27,
   "metadata": {
    "pycharm": {
     "is_executing": false,
     "metadata": false,
     "name": "#%%\n"
    }
   },
   "outputs": [
    {
     "name": "stdout",
     "output_type": "stream",
     "text": [
      "None\n"
     ]
    }
   ],
   "source": [
    "init_ab = tf.variables_initializer([a, b], name='init_ab')\n",
    "with tf.Session() as sess:\n",
    "    sess.run(init_ab)"
   ]
  },
  {
   "cell_type": "markdown",
   "metadata": {
    "pycharm": {
     "metadata": false
    }
   },
   "source": [
    "或者是对某一个变量进行初始化"
   ]
  },
  {
   "cell_type": "code",
   "execution_count": 28,
   "metadata": {
    "pycharm": {
     "is_executing": false,
     "metadata": false,
     "name": "#%%\n"
    }
   },
   "outputs": [],
   "source": [
    "w = tf.Variable(tf.zeros([784, 10]))\n",
    "with tf.Session() as sess:\n",
    "    sess.run(w.initializer)"
   ]
  },
  {
   "cell_type": "markdown",
   "metadata": {
    "pycharm": {
     "metadata": false
    }
   },
   "source": [
    "如果我们想取出变量的值，有两种方法"
   ]
  },
  {
   "cell_type": "code",
   "execution_count": 29,
   "metadata": {
    "pycharm": {
     "is_executing": false,
     "metadata": false,
     "name": "#%%\n"
    }
   },
   "outputs": [
    {
     "name": "stdout",
     "output_type": "stream",
     "text": [
      "[[-0.95718139 -0.44025454  0.74425966  0.90783101  1.92811644 -1.23942387\n",
      "  -0.5437609  -0.38250542 -0.25278467  0.53650796]\n",
      " [-0.20639697  0.09634554 -0.97924918  0.65590286 -0.59741789  0.72083384\n",
      "   0.08172197  0.11697232 -0.12097789 -0.59242022]\n",
      " [ 1.69721115  1.22957861 -0.51178795  0.7769385   1.58861959  0.45306814\n",
      "  -0.86427718  0.64466608  1.5474869  -1.05312073]\n",
      " [-0.39219511  0.49143392  0.35518053 -0.87263775  1.71564329  0.91315299\n",
      "   0.67178315 -0.64709389 -0.51290148  0.63789964]\n",
      " [-1.39125645 -0.33293372 -0.28284857 -0.07524792  0.42671156 -0.89730573\n",
      "  -0.95670503  0.27647999 -0.58710933  1.34452248]\n",
      " [ 0.69753832  0.85837597 -1.39729309  0.55970442 -1.2486279  -0.82782286\n",
      "  -0.59798783  0.90180582  0.61606443  1.78436077]\n",
      " [ 0.94495797  0.13594955 -0.51260149 -0.47672337 -0.60010576  0.64251441\n",
      "  -0.27183887 -1.1965642  -1.3056109   0.22318153]\n",
      " [ 1.31254125  0.29588953 -1.42722034  1.03387058  1.98050785 -0.73330659\n",
      "  -0.72953737  0.37646601  0.17473647 -0.49377769]\n",
      " [-0.19598518  1.27534044  0.44709879  1.48152161 -0.33126816 -1.56247163\n",
      "  -0.85370022 -0.90415955  1.11878192 -0.79377878]\n",
      " [-0.68823135  1.7871418   1.24609041  0.85337216  1.04367483  0.67271161\n",
      "   0.32454488 -0.88291365  0.01013429  0.28430626]]\n",
      "[[-0.95718139 -0.44025454  0.74425966  0.90783101  1.92811644 -1.23942387\n",
      "  -0.5437609  -0.38250542 -0.25278467  0.53650796]\n",
      " [-0.20639697  0.09634554 -0.97924918  0.65590286 -0.59741789  0.72083384\n",
      "   0.08172197  0.11697232 -0.12097789 -0.59242022]\n",
      " [ 1.69721115  1.22957861 -0.51178795  0.7769385   1.58861959  0.45306814\n",
      "  -0.86427718  0.64466608  1.5474869  -1.05312073]\n",
      " [-0.39219511  0.49143392  0.35518053 -0.87263775  1.71564329  0.91315299\n",
      "   0.67178315 -0.64709389 -0.51290148  0.63789964]\n",
      " [-1.39125645 -0.33293372 -0.28284857 -0.07524792  0.42671156 -0.89730573\n",
      "  -0.95670503  0.27647999 -0.58710933  1.34452248]\n",
      " [ 0.69753832  0.85837597 -1.39729309  0.55970442 -1.2486279  -0.82782286\n",
      "  -0.59798783  0.90180582  0.61606443  1.78436077]\n",
      " [ 0.94495797  0.13594955 -0.51260149 -0.47672337 -0.60010576  0.64251441\n",
      "  -0.27183887 -1.1965642  -1.3056109   0.22318153]\n",
      " [ 1.31254125  0.29588953 -1.42722034  1.03387058  1.98050785 -0.73330659\n",
      "  -0.72953737  0.37646601  0.17473647 -0.49377769]\n",
      " [-0.19598518  1.27534044  0.44709879  1.48152161 -0.33126816 -1.56247163\n",
      "  -0.85370022 -0.90415955  1.11878192 -0.79377878]\n",
      " [-0.68823135  1.7871418   1.24609041  0.85337216  1.04367483  0.67271161\n",
      "   0.32454488 -0.88291365  0.01013429  0.28430626]]\n"
     ]
    }
   ],
   "source": [
    "w = tf.Variable(tf.truncated_normal([10, 10], name='normal'))\n",
    "with tf.Session() as sess:\n",
    "    sess.run(w.initializer)\n",
    "    print(w.eval()) # 方法一\n",
    "    print(sess.run(w)) # 方法二\n"
   ]
  }
 ],
 "metadata": {
  "kernelspec": {
   "display_name": "Anaconda",
   "language": "python",
   "name": "anaconda"
  },
  "language_info": {
   "codemirror_mode": {
    "name": "ipython",
    "version": 3
   },
   "file_extension": ".py",
   "mimetype": "text/x-python",
   "name": "python",
   "nbconvert_exporter": "python",
   "pygments_lexer": "ipython3",
   "version": "3.5.5"
  },
  "stem_cell": {
   "cell_type": "raw",
   "metadata": {
    "pycharm": {
     "metadata": false
    }
   },
   "source": ""
  }
 },
 "nbformat": 4,
 "nbformat_minor": 1
}
